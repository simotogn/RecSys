{
  "nbformat": 4,
  "nbformat_minor": 0,
  "metadata": {
    "colab": {
      "provenance": []
    },
    "kernelspec": {
      "name": "python3",
      "display_name": "Python 3"
    },
    "language_info": {
      "name": "python"
    }
  },
  "cells": [
    {
      "cell_type": "code",
      "execution_count": 1,
      "metadata": {
        "id": "zrnSgXTC7Ta2",
        "colab": {
          "base_uri": "https://localhost:8080/"
        },
        "outputId": "e2737a8d-19ea-4a13-e15e-ea56ca739271"
      },
      "outputs": [
        {
          "output_type": "stream",
          "name": "stdout",
          "text": [
            "Mounted at /gdrive\n",
            "/gdrive/My Drive/libs\n"
          ]
        }
      ],
      "source": [
        "from google.colab import drive\n",
        "drive.mount('/gdrive')\n",
        "%cd /gdrive/My Drive/libs"
      ]
    },
    {
      "cell_type": "code",
      "execution_count": 2,
      "metadata": {
        "id": "b5PWgH2tlp6Q"
      },
      "outputs": [],
      "source": [
        "%matplotlib inline\n",
        "import numpy as np\n",
        "import scipy as sp\n",
        "import scipy.sparse as sps\n",
        "import matplotlib.pyplot as plt\n",
        "import random\n",
        "from scipy import stats\n",
        "from scipy.optimize import fmin\n",
        "import pandas as pd"
      ]
    },
    {
      "cell_type": "code",
      "execution_count": 3,
      "metadata": {
        "id": "SFjvXfG_sJqe",
        "colab": {
          "base_uri": "https://localhost:8080/"
        },
        "outputId": "177bc5b0-be68-4819-e603-d85618c00a28"
      },
      "outputs": [
        {
          "output_type": "stream",
          "name": "stdout",
          "text": [
            "Warning: 213 (1.69 %) of 12638 users have no train items\n",
            "Warning: 2171 (17.18 %) of 12638 users have no sampled items\n",
            "Warning: 444 (3.51 %) of 12638 users have no train items\n",
            "Warning: 2608 (20.64 %) of 12638 users have no sampled items\n"
          ]
        },
        {
          "output_type": "execute_result",
          "data": {
            "text/plain": [
              "(<12638x22222 sparse matrix of type '<class 'numpy.float64'>'\n",
              " \twith 478730 stored elements in COOrdinate format>,\n",
              " <12638x22222 sparse matrix of type '<class 'numpy.float64'>'\n",
              " \twith 382984 stored elements in Compressed Sparse Row format>,\n",
              " <12638x22222 sparse matrix of type '<class 'numpy.float64'>'\n",
              " \twith 306387 stored elements in Compressed Sparse Row format>,\n",
              " <12638x22222 sparse matrix of type '<class 'numpy.float64'>'\n",
              " \twith 76597 stored elements in Compressed Sparse Row format>,\n",
              " <12638x22222 sparse matrix of type '<class 'numpy.float64'>'\n",
              " \twith 95746 stored elements in Compressed Sparse Row format>)"
            ]
          },
          "metadata": {},
          "execution_count": 3
        }
      ],
      "source": [
        "from Data_manager.split_functions.split_train_validation_random_holdout import split_train_in_two_percentage_global_sample\n",
        "\n",
        "data = pd.read_csv(filepath_or_buffer=\"data_train.csv\",\n",
        "                   sep=\",\")\n",
        "data.columns = [\"UserID\", \"ItemID\", \"Interaction\"]\n",
        "\n",
        "mapped_id, original_id = pd.factorize(data[\"UserID\"].unique())\n",
        "user_original_ID_to_index = pd.Series(mapped_id, index=original_id)\n",
        "\n",
        "mapped_id, original_id = pd.factorize(data[\"ItemID\"].unique())\n",
        "item_original_ID_to_index = pd.Series(mapped_id, index=original_id)\n",
        "\n",
        "data[\"UserID\"] = data[\"UserID\"].map(user_original_ID_to_index)\n",
        "data[\"ItemID\"] = data[\"ItemID\"].map(item_original_ID_to_index)\n",
        "\n",
        "\n",
        "URM_all = sps.coo_matrix((data[\"Interaction\"].values,\n",
        "                          (data[\"UserID\"].values, data[\"ItemID\"].values)))\n",
        "\n",
        "URM_all.tocsr()\n",
        "\n",
        "URM_train_validation, URM_test = split_train_in_two_percentage_global_sample(URM_all, train_percentage = 0.8)\n",
        "URM_train, URM_validation = split_train_in_two_percentage_global_sample(URM_train_validation, train_percentage = 0.8)\n",
        "\n",
        "URM_all, URM_train_validation, URM_train, URM_validation, URM_test"
      ]
    },
    {
      "cell_type": "code",
      "execution_count": 18,
      "metadata": {
        "id": "xPV7Uj2eEYd9"
      },
      "outputs": [],
      "source": [
        "from Recommenders.BaseRecommender import BaseRecommender\n",
        "\n",
        "class ScoresHybridRecommender(BaseRecommender):\n",
        "    \"\"\" ScoresHybridRecommender\n",
        "    Hybrid of two prediction scores R = R1*alpha + R2*(1-alpha)\n",
        "\n",
        "    \"\"\"\n",
        "\n",
        "    RECOMMENDER_NAME = \"ScoresHybridRecommender\"\n",
        "\n",
        "    '''def __init__(self, URM_train, alpha_R, beta, topK_R, alpha_S, l1_ratio, topK_S):\n",
        "        super(ScoresHybridRecommender, self).__init__(URM_train)\n",
        "\n",
        "        self.URM_train = sps.csr_matrix(URM_train)\n",
        "        self.recommender_1 = RP3betaRecommender(URM_train)\n",
        "        self.recommender_1.fit(alpha = alpha_R, beta =beta, topK = topK_R,implicit = False, normalize_similarity = True)\n",
        "\n",
        "        self.recommender_2 = SLIMElasticNetRecommender(URM_train)\n",
        "        self.recommender_2.fit(alpha = alpha_S, l1_ratio = l1_ratio, topK = topK_S)'''\n",
        "\n",
        "    def __init__(self, URM_train, recommender1, recommeder2):\n",
        "          super(ScoresHybridRecommender, self).__init__(URM_train)\n",
        "\n",
        "          self.URM_train = sps.csr_matrix(URM_train)\n",
        "          self.recommender_1 = recommender1\n",
        "          self.recommender_2 = recommeder2\n",
        "\n",
        "\n",
        "    def fit(self, alpha = 0.5):\n",
        "        self.alpha = alpha\n",
        "\n",
        "\n",
        "    def _compute_item_score(self, user_id_array, items_to_compute):\n",
        "\n",
        "        # In a simple extension this could be a loop over a list of pretrained recommender objects\n",
        "        item_weights_1 = self.recommender_1._compute_item_score(user_id_array)\n",
        "        item_weights_2 = self.recommender_2._compute_item_score(user_id_array)\n",
        "\n",
        "        item_weights = item_weights_1*self.alpha + item_weights_2*(1-self.alpha)\n",
        "\n",
        "        return item_weights"
      ]
    },
    {
      "cell_type": "code",
      "source": [
        "from Recommenders.GraphBased.RP3betaRecommender import RP3betaRecommender\n",
        "\n",
        "RP3beta = RP3betaRecommender(URM_train)\n",
        "RP3beta.fit(alpha = 0.31583032356728813, beta=0.1936831182299878, topK=29, implicit = False, normalize_similarity = True )"
      ],
      "metadata": {
        "colab": {
          "base_uri": "https://localhost:8080/"
        },
        "id": "q6djeNGSq6ry",
        "outputId": "be42f91b-b97e-4ba4-a6d4-ad29cf0d460b"
      },
      "execution_count": 20,
      "outputs": [
        {
          "output_type": "stream",
          "name": "stdout",
          "text": [
            "RP3betaRecommender: URM Detected 444 ( 3.5%) users with no interactions.\n",
            "RP3betaRecommender: URM Detected 338 ( 1.5%) items with no interactions.\n",
            "RP3betaRecommender: Similarity column 22222 (100.0%), 5494.24 column/sec. Elapsed time 4.04 sec\n"
          ]
        }
      ]
    },
    {
      "cell_type": "code",
      "source": [
        "from Recommenders.SLIM.SLIMElasticNetRecommender import SLIMElasticNetRecommender\n",
        "\n",
        "SLIM_MSE = SLIMElasticNetRecommender(URM_train)\n",
        "SLIM_MSE.fit(alpha = 0.0026695828861131796, l1_ratio=9.7058223865738e-05, topK=237)"
      ],
      "metadata": {
        "colab": {
          "base_uri": "https://localhost:8080/"
        },
        "id": "qOTGFPhNq9bn",
        "outputId": "7edd83d5-0762-45d5-8c93-2e438fd3789f"
      },
      "execution_count": 9,
      "outputs": [
        {
          "output_type": "stream",
          "name": "stdout",
          "text": [
            "SLIMElasticNetRecommender: URM Detected 444 ( 3.5%) users with no interactions.\n",
            "SLIMElasticNetRecommender: URM Detected 338 ( 1.5%) items with no interactions.\n",
            "SLIMElasticNetRecommender: Processed 12917 (58.1%) in 5.00 min. Items per second: 43.05\n",
            "SLIMElasticNetRecommender: Processed 22222 (100.0%) in 8.70 min. Items per second: 42.58\n"
          ]
        }
      ]
    },
    {
      "cell_type": "markdown",
      "metadata": {
        "id": "cF4rt92tHtmY"
      },
      "source": [
        "#Try Hyperparameter tuning with Optuna"
      ]
    },
    {
      "cell_type": "code",
      "execution_count": 10,
      "metadata": {
        "id": "lbmY3jWlI0CL",
        "colab": {
          "base_uri": "https://localhost:8080/"
        },
        "outputId": "50f3bffe-93f8-4e98-8923-96036c2a1d26"
      },
      "outputs": [
        {
          "output_type": "stream",
          "name": "stdout",
          "text": [
            "Collecting optuna\n",
            "  Downloading optuna-3.5.0-py3-none-any.whl (413 kB)\n",
            "\u001b[2K     \u001b[90m━━━━━━━━━━━━━━━━━━━━━━━━━━━━━━━━━━━━━━━━\u001b[0m \u001b[32m413.4/413.4 kB\u001b[0m \u001b[31m2.8 MB/s\u001b[0m eta \u001b[36m0:00:00\u001b[0m\n",
            "\u001b[?25hCollecting alembic>=1.5.0 (from optuna)\n",
            "  Downloading alembic-1.13.1-py3-none-any.whl (233 kB)\n",
            "\u001b[2K     \u001b[90m━━━━━━━━━━━━━━━━━━━━━━━━━━━━━━━━━━━━━━━━\u001b[0m \u001b[32m233.4/233.4 kB\u001b[0m \u001b[31m17.6 MB/s\u001b[0m eta \u001b[36m0:00:00\u001b[0m\n",
            "\u001b[?25hCollecting colorlog (from optuna)\n",
            "  Downloading colorlog-6.8.0-py3-none-any.whl (11 kB)\n",
            "Requirement already satisfied: numpy in /usr/local/lib/python3.10/dist-packages (from optuna) (1.23.5)\n",
            "Requirement already satisfied: packaging>=20.0 in /usr/local/lib/python3.10/dist-packages (from optuna) (23.2)\n",
            "Requirement already satisfied: sqlalchemy>=1.3.0 in /usr/local/lib/python3.10/dist-packages (from optuna) (2.0.23)\n",
            "Requirement already satisfied: tqdm in /usr/local/lib/python3.10/dist-packages (from optuna) (4.66.1)\n",
            "Requirement already satisfied: PyYAML in /usr/local/lib/python3.10/dist-packages (from optuna) (6.0.1)\n",
            "Collecting Mako (from alembic>=1.5.0->optuna)\n",
            "  Downloading Mako-1.3.0-py3-none-any.whl (78 kB)\n",
            "\u001b[2K     \u001b[90m━━━━━━━━━━━━━━━━━━━━━━━━━━━━━━━━━━━━━━━━\u001b[0m \u001b[32m78.6/78.6 kB\u001b[0m \u001b[31m11.7 MB/s\u001b[0m eta \u001b[36m0:00:00\u001b[0m\n",
            "\u001b[?25hRequirement already satisfied: typing-extensions>=4 in /usr/local/lib/python3.10/dist-packages (from alembic>=1.5.0->optuna) (4.5.0)\n",
            "Requirement already satisfied: greenlet!=0.4.17 in /usr/local/lib/python3.10/dist-packages (from sqlalchemy>=1.3.0->optuna) (3.0.2)\n",
            "Requirement already satisfied: MarkupSafe>=0.9.2 in /usr/local/lib/python3.10/dist-packages (from Mako->alembic>=1.5.0->optuna) (2.1.3)\n",
            "Installing collected packages: Mako, colorlog, alembic, optuna\n",
            "Successfully installed Mako-1.3.0 alembic-1.13.1 colorlog-6.8.0 optuna-3.5.0\n"
          ]
        }
      ],
      "source": [
        " pip install optuna"
      ]
    },
    {
      "cell_type": "code",
      "execution_count": 11,
      "metadata": {
        "id": "nKZwWj3NJbUp",
        "colab": {
          "base_uri": "https://localhost:8080/"
        },
        "outputId": "0e21522a-950d-4938-fd39-e9f640134212"
      },
      "outputs": [
        {
          "output_type": "stream",
          "name": "stdout",
          "text": [
            "EvaluatorHoldout: Ignoring 2608 (20.6%) Users that have less than 1 test interactions\n",
            "EvaluatorHoldout: Ignoring 2171 (17.2%) Users that have less than 1 test interactions\n"
          ]
        }
      ],
      "source": [
        "from Evaluation.Evaluator import EvaluatorHoldout\n",
        "\n",
        "\n",
        "evaluator_validation = EvaluatorHoldout(URM_validation, cutoff_list=[10])\n",
        "evaluator_test = EvaluatorHoldout(URM_test, cutoff_list=[10])"
      ]
    },
    {
      "cell_type": "code",
      "execution_count": 21,
      "metadata": {
        "id": "hp_xxYxyHxnT"
      },
      "outputs": [],
      "source": [
        "import optuna\n",
        "import pandas as pd\n",
        "from Recommenders.GraphBased.RP3betaRecommender import RP3betaRecommender\n",
        "from Recommenders.SLIM.SLIMElasticNetRecommender import SLIMElasticNetRecommender\n",
        "\n",
        "#\"alpha\": Real(0.1,0.2),    \"beta\" : Real(0.1,0.2),    \"topK\" : Integer(10,50)\n",
        "\n",
        "\n",
        "def objective_function(optuna_trial):\n",
        "\n",
        "\n",
        "    recommender_instance = ScoresHybridRecommender(URM_train, RP3beta, SLIM_MSE\n",
        "                                                   #alpha_S = optuna_trial.suggest_float(\"alpha_S\", 0.001, 1.0),\n",
        "                                                   #alpha_R = optuna_trial.suggest_float(\"alpha_R\", 0.001, 1.0),\n",
        "                                                   #beta = optuna_trial.suggest_float(\"beta\", 0.001, 1.0),\n",
        "                                                   #topK_S = optuna_trial.suggest_int(\"topK_S\", 5, 300),\n",
        "                                                   #topK_R = optuna_trial.suggest_int(\"topK_R\", 5, 100),\n",
        "                                                   #l1_ratio = optuna_trial.suggest_float(\"l1_ratio\", 1e-6, 1e-4),\n",
        "                                                   )\n",
        "    recommender_instance.fit(alpha = optuna_trial.suggest_float(\"alpha\", 0.001, 1.0),\n",
        "                            )\n",
        "\n",
        "    result_df, _ = evaluator_validation.evaluateRecommender(recommender_instance)\n",
        "\n",
        "    return result_df.loc[10][\"MAP\"]"
      ]
    },
    {
      "cell_type": "code",
      "execution_count": 22,
      "metadata": {
        "id": "0gcK6FYHJA99"
      },
      "outputs": [],
      "source": [
        "class SaveResults(object):\n",
        "\n",
        "    def __init__(self):\n",
        "        self.results_df = pd.DataFrame(columns = [\"result\"])\n",
        "\n",
        "    def __call__(self, optuna_study, optuna_trial):\n",
        "        hyperparam_dict = optuna_trial.params.copy()\n",
        "        hyperparam_dict[\"result\"] = optuna_trial.values[0]\n",
        "\n",
        "        self.results_df = self.results_df.append(hyperparam_dict, ignore_index=True)"
      ]
    },
    {
      "cell_type": "code",
      "execution_count": 23,
      "metadata": {
        "colab": {
          "base_uri": "https://localhost:8080/"
        },
        "id": "i_3tAEHdJDsf",
        "outputId": "45a86a37-2b3d-401e-f547-10d8017c1c34"
      },
      "outputs": [
        {
          "output_type": "stream",
          "name": "stderr",
          "text": [
            "[I 2023-12-24 16:56:02,181] A new study created in memory with name: no-name-d5581c4d-b820-4841-8402-8b545ec744fa\n"
          ]
        },
        {
          "output_type": "stream",
          "name": "stdout",
          "text": [
            "ScoresHybridRecommender: URM Detected 444 ( 3.5%) users with no interactions.\n",
            "ScoresHybridRecommender: URM Detected 338 ( 1.5%) items with no interactions.\n",
            "EvaluatorHoldout: Processed 10030 (100.0%) in 10.66 sec. Users per second: 941\n"
          ]
        },
        {
          "output_type": "stream",
          "name": "stderr",
          "text": [
            "[I 2023-12-24 16:56:12,878] Trial 0 finished with value: 0.03077180759309407 and parameters: {'alpha': 0.5459566664848782}. Best is trial 0 with value: 0.03077180759309407.\n"
          ]
        },
        {
          "output_type": "stream",
          "name": "stdout",
          "text": [
            "ScoresHybridRecommender: URM Detected 444 ( 3.5%) users with no interactions.\n",
            "ScoresHybridRecommender: URM Detected 338 ( 1.5%) items with no interactions.\n"
          ]
        },
        {
          "output_type": "stream",
          "name": "stderr",
          "text": [
            "<ipython-input-22-650f32a8104f>:10: FutureWarning: The frame.append method is deprecated and will be removed from pandas in a future version. Use pandas.concat instead.\n",
            "  self.results_df = self.results_df.append(hyperparam_dict, ignore_index=True)\n"
          ]
        },
        {
          "output_type": "stream",
          "name": "stdout",
          "text": [
            "EvaluatorHoldout: Processed 10030 (100.0%) in 8.47 sec. Users per second: 1184\n"
          ]
        },
        {
          "output_type": "stream",
          "name": "stderr",
          "text": [
            "[I 2023-12-24 16:56:21,402] Trial 1 finished with value: 0.03034202946715441 and parameters: {'alpha': 0.8266197388726422}. Best is trial 0 with value: 0.03077180759309407.\n"
          ]
        },
        {
          "output_type": "stream",
          "name": "stdout",
          "text": [
            "ScoresHybridRecommender: URM Detected 444 ( 3.5%) users with no interactions.\n",
            "ScoresHybridRecommender: URM Detected 338 ( 1.5%) items with no interactions.\n"
          ]
        },
        {
          "output_type": "stream",
          "name": "stderr",
          "text": [
            "<ipython-input-22-650f32a8104f>:10: FutureWarning: The frame.append method is deprecated and will be removed from pandas in a future version. Use pandas.concat instead.\n",
            "  self.results_df = self.results_df.append(hyperparam_dict, ignore_index=True)\n"
          ]
        },
        {
          "output_type": "stream",
          "name": "stdout",
          "text": [
            "EvaluatorHoldout: Processed 10030 (100.0%) in 7.32 sec. Users per second: 1371\n"
          ]
        },
        {
          "output_type": "stream",
          "name": "stderr",
          "text": [
            "[I 2023-12-24 16:56:28,740] Trial 2 finished with value: 0.030362171422241426 and parameters: {'alpha': 0.13923338860726825}. Best is trial 0 with value: 0.03077180759309407.\n"
          ]
        },
        {
          "output_type": "stream",
          "name": "stdout",
          "text": [
            "ScoresHybridRecommender: URM Detected 444 ( 3.5%) users with no interactions.\n",
            "ScoresHybridRecommender: URM Detected 338 ( 1.5%) items with no interactions.\n"
          ]
        },
        {
          "output_type": "stream",
          "name": "stderr",
          "text": [
            "<ipython-input-22-650f32a8104f>:10: FutureWarning: The frame.append method is deprecated and will be removed from pandas in a future version. Use pandas.concat instead.\n",
            "  self.results_df = self.results_df.append(hyperparam_dict, ignore_index=True)\n"
          ]
        },
        {
          "output_type": "stream",
          "name": "stdout",
          "text": [
            "EvaluatorHoldout: Processed 10030 (100.0%) in 7.01 sec. Users per second: 1431\n"
          ]
        },
        {
          "output_type": "stream",
          "name": "stderr",
          "text": [
            "[I 2023-12-24 16:56:35,772] Trial 3 finished with value: 0.030792404532434682 and parameters: {'alpha': 0.40470069631677824}. Best is trial 3 with value: 0.030792404532434682.\n"
          ]
        },
        {
          "output_type": "stream",
          "name": "stdout",
          "text": [
            "ScoresHybridRecommender: URM Detected 444 ( 3.5%) users with no interactions.\n",
            "ScoresHybridRecommender: URM Detected 338 ( 1.5%) items with no interactions.\n"
          ]
        },
        {
          "output_type": "stream",
          "name": "stderr",
          "text": [
            "<ipython-input-22-650f32a8104f>:10: FutureWarning: The frame.append method is deprecated and will be removed from pandas in a future version. Use pandas.concat instead.\n",
            "  self.results_df = self.results_df.append(hyperparam_dict, ignore_index=True)\n"
          ]
        },
        {
          "output_type": "stream",
          "name": "stdout",
          "text": [
            "EvaluatorHoldout: Processed 10030 (100.0%) in 7.21 sec. Users per second: 1391\n"
          ]
        },
        {
          "output_type": "stream",
          "name": "stderr",
          "text": [
            "[I 2023-12-24 16:56:43,005] Trial 4 finished with value: 0.029863469116460425 and parameters: {'alpha': 0.9841094927355926}. Best is trial 3 with value: 0.030792404532434682.\n"
          ]
        },
        {
          "output_type": "stream",
          "name": "stdout",
          "text": [
            "ScoresHybridRecommender: URM Detected 444 ( 3.5%) users with no interactions.\n",
            "ScoresHybridRecommender: URM Detected 338 ( 1.5%) items with no interactions.\n"
          ]
        },
        {
          "output_type": "stream",
          "name": "stderr",
          "text": [
            "<ipython-input-22-650f32a8104f>:10: FutureWarning: The frame.append method is deprecated and will be removed from pandas in a future version. Use pandas.concat instead.\n",
            "  self.results_df = self.results_df.append(hyperparam_dict, ignore_index=True)\n"
          ]
        },
        {
          "output_type": "stream",
          "name": "stdout",
          "text": [
            "EvaluatorHoldout: Processed 10030 (100.0%) in 7.28 sec. Users per second: 1378\n"
          ]
        },
        {
          "output_type": "stream",
          "name": "stderr",
          "text": [
            "[I 2023-12-24 16:56:50,303] Trial 5 finished with value: 0.030088836664609625 and parameters: {'alpha': 0.9038453891288696}. Best is trial 3 with value: 0.030792404532434682.\n"
          ]
        },
        {
          "output_type": "stream",
          "name": "stdout",
          "text": [
            "ScoresHybridRecommender: URM Detected 444 ( 3.5%) users with no interactions.\n",
            "ScoresHybridRecommender: URM Detected 338 ( 1.5%) items with no interactions.\n"
          ]
        },
        {
          "output_type": "stream",
          "name": "stderr",
          "text": [
            "<ipython-input-22-650f32a8104f>:10: FutureWarning: The frame.append method is deprecated and will be removed from pandas in a future version. Use pandas.concat instead.\n",
            "  self.results_df = self.results_df.append(hyperparam_dict, ignore_index=True)\n"
          ]
        },
        {
          "output_type": "stream",
          "name": "stdout",
          "text": [
            "EvaluatorHoldout: Processed 10030 (100.0%) in 6.71 sec. Users per second: 1494\n"
          ]
        },
        {
          "output_type": "stream",
          "name": "stderr",
          "text": [
            "[I 2023-12-24 16:56:57,034] Trial 6 finished with value: 0.030533696529459555 and parameters: {'alpha': 0.7288873072981418}. Best is trial 3 with value: 0.030792404532434682.\n"
          ]
        },
        {
          "output_type": "stream",
          "name": "stdout",
          "text": [
            "ScoresHybridRecommender: URM Detected 444 ( 3.5%) users with no interactions.\n",
            "ScoresHybridRecommender: URM Detected 338 ( 1.5%) items with no interactions.\n"
          ]
        },
        {
          "output_type": "stream",
          "name": "stderr",
          "text": [
            "<ipython-input-22-650f32a8104f>:10: FutureWarning: The frame.append method is deprecated and will be removed from pandas in a future version. Use pandas.concat instead.\n",
            "  self.results_df = self.results_df.append(hyperparam_dict, ignore_index=True)\n"
          ]
        },
        {
          "output_type": "stream",
          "name": "stdout",
          "text": [
            "EvaluatorHoldout: Processed 10030 (100.0%) in 7.28 sec. Users per second: 1377\n"
          ]
        },
        {
          "output_type": "stream",
          "name": "stderr",
          "text": [
            "[I 2023-12-24 16:57:04,338] Trial 7 finished with value: 0.030545407428508444 and parameters: {'alpha': 0.7309632820195817}. Best is trial 3 with value: 0.030792404532434682.\n"
          ]
        },
        {
          "output_type": "stream",
          "name": "stdout",
          "text": [
            "ScoresHybridRecommender: URM Detected 444 ( 3.5%) users with no interactions.\n",
            "ScoresHybridRecommender: URM Detected 338 ( 1.5%) items with no interactions.\n"
          ]
        },
        {
          "output_type": "stream",
          "name": "stderr",
          "text": [
            "<ipython-input-22-650f32a8104f>:10: FutureWarning: The frame.append method is deprecated and will be removed from pandas in a future version. Use pandas.concat instead.\n",
            "  self.results_df = self.results_df.append(hyperparam_dict, ignore_index=True)\n"
          ]
        },
        {
          "output_type": "stream",
          "name": "stdout",
          "text": [
            "EvaluatorHoldout: Processed 10030 (100.0%) in 7.01 sec. Users per second: 1431\n"
          ]
        },
        {
          "output_type": "stream",
          "name": "stderr",
          "text": [
            "[I 2023-12-24 16:57:11,370] Trial 8 finished with value: 0.030502251182959284 and parameters: {'alpha': 0.20702719521560506}. Best is trial 3 with value: 0.030792404532434682.\n"
          ]
        },
        {
          "output_type": "stream",
          "name": "stdout",
          "text": [
            "ScoresHybridRecommender: URM Detected 444 ( 3.5%) users with no interactions.\n",
            "ScoresHybridRecommender: URM Detected 338 ( 1.5%) items with no interactions.\n"
          ]
        },
        {
          "output_type": "stream",
          "name": "stderr",
          "text": [
            "<ipython-input-22-650f32a8104f>:10: FutureWarning: The frame.append method is deprecated and will be removed from pandas in a future version. Use pandas.concat instead.\n",
            "  self.results_df = self.results_df.append(hyperparam_dict, ignore_index=True)\n"
          ]
        },
        {
          "output_type": "stream",
          "name": "stdout",
          "text": [
            "EvaluatorHoldout: Processed 10030 (100.0%) in 7.38 sec. Users per second: 1359\n"
          ]
        },
        {
          "output_type": "stream",
          "name": "stderr",
          "text": [
            "[I 2023-12-24 16:57:18,769] Trial 9 finished with value: 0.029974093592239397 and parameters: {'alpha': 0.9298190995208572}. Best is trial 3 with value: 0.030792404532434682.\n"
          ]
        },
        {
          "output_type": "stream",
          "name": "stdout",
          "text": [
            "ScoresHybridRecommender: URM Detected 444 ( 3.5%) users with no interactions.\n",
            "ScoresHybridRecommender: URM Detected 338 ( 1.5%) items with no interactions.\n"
          ]
        },
        {
          "output_type": "stream",
          "name": "stderr",
          "text": [
            "<ipython-input-22-650f32a8104f>:10: FutureWarning: The frame.append method is deprecated and will be removed from pandas in a future version. Use pandas.concat instead.\n",
            "  self.results_df = self.results_df.append(hyperparam_dict, ignore_index=True)\n"
          ]
        },
        {
          "output_type": "stream",
          "name": "stdout",
          "text": [
            "EvaluatorHoldout: Processed 10030 (100.0%) in 7.32 sec. Users per second: 1370\n"
          ]
        },
        {
          "output_type": "stream",
          "name": "stderr",
          "text": [
            "[I 2023-12-24 16:57:26,122] Trial 10 finished with value: 0.030732117140641797 and parameters: {'alpha': 0.3325960972796348}. Best is trial 3 with value: 0.030792404532434682.\n"
          ]
        },
        {
          "output_type": "stream",
          "name": "stdout",
          "text": [
            "ScoresHybridRecommender: URM Detected 444 ( 3.5%) users with no interactions.\n",
            "ScoresHybridRecommender: URM Detected 338 ( 1.5%) items with no interactions.\n"
          ]
        },
        {
          "output_type": "stream",
          "name": "stderr",
          "text": [
            "<ipython-input-22-650f32a8104f>:10: FutureWarning: The frame.append method is deprecated and will be removed from pandas in a future version. Use pandas.concat instead.\n",
            "  self.results_df = self.results_df.append(hyperparam_dict, ignore_index=True)\n"
          ]
        },
        {
          "output_type": "stream",
          "name": "stdout",
          "text": [
            "EvaluatorHoldout: Processed 10030 (100.0%) in 6.80 sec. Users per second: 1476\n"
          ]
        },
        {
          "output_type": "stream",
          "name": "stderr",
          "text": [
            "[I 2023-12-24 16:57:32,939] Trial 11 finished with value: 0.030819889537736296 and parameters: {'alpha': 0.5017617878463814}. Best is trial 11 with value: 0.030819889537736296.\n"
          ]
        },
        {
          "output_type": "stream",
          "name": "stdout",
          "text": [
            "ScoresHybridRecommender: URM Detected 444 ( 3.5%) users with no interactions.\n",
            "ScoresHybridRecommender: URM Detected 338 ( 1.5%) items with no interactions.\n"
          ]
        },
        {
          "output_type": "stream",
          "name": "stderr",
          "text": [
            "<ipython-input-22-650f32a8104f>:10: FutureWarning: The frame.append method is deprecated and will be removed from pandas in a future version. Use pandas.concat instead.\n",
            "  self.results_df = self.results_df.append(hyperparam_dict, ignore_index=True)\n"
          ]
        },
        {
          "output_type": "stream",
          "name": "stdout",
          "text": [
            "EvaluatorHoldout: Processed 10030 (100.0%) in 7.41 sec. Users per second: 1353\n"
          ]
        },
        {
          "output_type": "stream",
          "name": "stderr",
          "text": [
            "[I 2023-12-24 16:57:40,374] Trial 12 finished with value: 0.030812332842741888 and parameters: {'alpha': 0.45999149992116983}. Best is trial 11 with value: 0.030819889537736296.\n"
          ]
        },
        {
          "output_type": "stream",
          "name": "stdout",
          "text": [
            "ScoresHybridRecommender: URM Detected 444 ( 3.5%) users with no interactions.\n",
            "ScoresHybridRecommender: URM Detected 338 ( 1.5%) items with no interactions.\n"
          ]
        },
        {
          "output_type": "stream",
          "name": "stderr",
          "text": [
            "<ipython-input-22-650f32a8104f>:10: FutureWarning: The frame.append method is deprecated and will be removed from pandas in a future version. Use pandas.concat instead.\n",
            "  self.results_df = self.results_df.append(hyperparam_dict, ignore_index=True)\n"
          ]
        },
        {
          "output_type": "stream",
          "name": "stdout",
          "text": [
            "EvaluatorHoldout: Processed 10030 (100.0%) in 6.83 sec. Users per second: 1469\n"
          ]
        },
        {
          "output_type": "stream",
          "name": "stderr",
          "text": [
            "[I 2023-12-24 16:57:47,225] Trial 13 finished with value: 0.030779775752109075 and parameters: {'alpha': 0.556621731513647}. Best is trial 11 with value: 0.030819889537736296.\n"
          ]
        },
        {
          "output_type": "stream",
          "name": "stdout",
          "text": [
            "ScoresHybridRecommender: URM Detected 444 ( 3.5%) users with no interactions.\n",
            "ScoresHybridRecommender: URM Detected 338 ( 1.5%) items with no interactions.\n"
          ]
        },
        {
          "output_type": "stream",
          "name": "stderr",
          "text": [
            "<ipython-input-22-650f32a8104f>:10: FutureWarning: The frame.append method is deprecated and will be removed from pandas in a future version. Use pandas.concat instead.\n",
            "  self.results_df = self.results_df.append(hyperparam_dict, ignore_index=True)\n"
          ]
        },
        {
          "output_type": "stream",
          "name": "stdout",
          "text": [
            "EvaluatorHoldout: Processed 10030 (100.0%) in 7.33 sec. Users per second: 1368\n"
          ]
        },
        {
          "output_type": "stream",
          "name": "stderr",
          "text": [
            "[I 2023-12-24 16:57:54,580] Trial 14 finished with value: 0.02995153824241573 and parameters: {'alpha': 0.013576357017547891}. Best is trial 11 with value: 0.030819889537736296.\n"
          ]
        },
        {
          "output_type": "stream",
          "name": "stdout",
          "text": [
            "ScoresHybridRecommender: URM Detected 444 ( 3.5%) users with no interactions.\n",
            "ScoresHybridRecommender: URM Detected 338 ( 1.5%) items with no interactions.\n"
          ]
        },
        {
          "output_type": "stream",
          "name": "stderr",
          "text": [
            "<ipython-input-22-650f32a8104f>:10: FutureWarning: The frame.append method is deprecated and will be removed from pandas in a future version. Use pandas.concat instead.\n",
            "  self.results_df = self.results_df.append(hyperparam_dict, ignore_index=True)\n"
          ]
        },
        {
          "output_type": "stream",
          "name": "stdout",
          "text": [
            "EvaluatorHoldout: Processed 10030 (100.0%) in 7.48 sec. Users per second: 1341\n"
          ]
        },
        {
          "output_type": "stream",
          "name": "stderr",
          "text": [
            "[I 2023-12-24 16:58:02,084] Trial 15 finished with value: 0.030809385336055574 and parameters: {'alpha': 0.44927758944969703}. Best is trial 11 with value: 0.030819889537736296.\n"
          ]
        },
        {
          "output_type": "stream",
          "name": "stdout",
          "text": [
            "ScoresHybridRecommender: URM Detected 444 ( 3.5%) users with no interactions.\n",
            "ScoresHybridRecommender: URM Detected 338 ( 1.5%) items with no interactions.\n"
          ]
        },
        {
          "output_type": "stream",
          "name": "stderr",
          "text": [
            "<ipython-input-22-650f32a8104f>:10: FutureWarning: The frame.append method is deprecated and will be removed from pandas in a future version. Use pandas.concat instead.\n",
            "  self.results_df = self.results_df.append(hyperparam_dict, ignore_index=True)\n"
          ]
        },
        {
          "output_type": "stream",
          "name": "stdout",
          "text": [
            "EvaluatorHoldout: Processed 10030 (100.0%) in 6.86 sec. Users per second: 1462\n"
          ]
        },
        {
          "output_type": "stream",
          "name": "stderr",
          "text": [
            "[I 2023-12-24 16:58:08,965] Trial 16 finished with value: 0.03070063223029355 and parameters: {'alpha': 0.6293003588740509}. Best is trial 11 with value: 0.030819889537736296.\n"
          ]
        },
        {
          "output_type": "stream",
          "name": "stdout",
          "text": [
            "ScoresHybridRecommender: URM Detected 444 ( 3.5%) users with no interactions.\n",
            "ScoresHybridRecommender: URM Detected 338 ( 1.5%) items with no interactions.\n"
          ]
        },
        {
          "output_type": "stream",
          "name": "stderr",
          "text": [
            "<ipython-input-22-650f32a8104f>:10: FutureWarning: The frame.append method is deprecated and will be removed from pandas in a future version. Use pandas.concat instead.\n",
            "  self.results_df = self.results_df.append(hyperparam_dict, ignore_index=True)\n"
          ]
        },
        {
          "output_type": "stream",
          "name": "stdout",
          "text": [
            "EvaluatorHoldout: Processed 10030 (100.0%) in 7.27 sec. Users per second: 1380\n"
          ]
        },
        {
          "output_type": "stream",
          "name": "stderr",
          "text": [
            "[I 2023-12-24 16:58:16,259] Trial 17 finished with value: 0.030653076484831485 and parameters: {'alpha': 0.3055351812942976}. Best is trial 11 with value: 0.030819889537736296.\n"
          ]
        },
        {
          "output_type": "stream",
          "name": "stdout",
          "text": [
            "ScoresHybridRecommender: URM Detected 444 ( 3.5%) users with no interactions.\n",
            "ScoresHybridRecommender: URM Detected 338 ( 1.5%) items with no interactions.\n"
          ]
        },
        {
          "output_type": "stream",
          "name": "stderr",
          "text": [
            "<ipython-input-22-650f32a8104f>:10: FutureWarning: The frame.append method is deprecated and will be removed from pandas in a future version. Use pandas.concat instead.\n",
            "  self.results_df = self.results_df.append(hyperparam_dict, ignore_index=True)\n"
          ]
        },
        {
          "output_type": "stream",
          "name": "stdout",
          "text": [
            "EvaluatorHoldout: Processed 10030 (100.0%) in 6.82 sec. Users per second: 1471\n"
          ]
        },
        {
          "output_type": "stream",
          "name": "stderr",
          "text": [
            "[I 2023-12-24 16:58:23,099] Trial 18 finished with value: 0.030713909857728688 and parameters: {'alpha': 0.6493326676241442}. Best is trial 11 with value: 0.030819889537736296.\n"
          ]
        },
        {
          "output_type": "stream",
          "name": "stdout",
          "text": [
            "ScoresHybridRecommender: URM Detected 444 ( 3.5%) users with no interactions.\n",
            "ScoresHybridRecommender: URM Detected 338 ( 1.5%) items with no interactions.\n"
          ]
        },
        {
          "output_type": "stream",
          "name": "stderr",
          "text": [
            "<ipython-input-22-650f32a8104f>:10: FutureWarning: The frame.append method is deprecated and will be removed from pandas in a future version. Use pandas.concat instead.\n",
            "  self.results_df = self.results_df.append(hyperparam_dict, ignore_index=True)\n"
          ]
        },
        {
          "output_type": "stream",
          "name": "stdout",
          "text": [
            "EvaluatorHoldout: Processed 10030 (100.0%) in 7.36 sec. Users per second: 1362\n"
          ]
        },
        {
          "output_type": "stream",
          "name": "stderr",
          "text": [
            "[I 2023-12-24 16:58:30,488] Trial 19 finished with value: 0.030727753248192158 and parameters: {'alpha': 0.33019900610088027}. Best is trial 11 with value: 0.030819889537736296.\n"
          ]
        },
        {
          "output_type": "stream",
          "name": "stdout",
          "text": [
            "ScoresHybridRecommender: URM Detected 444 ( 3.5%) users with no interactions.\n",
            "ScoresHybridRecommender: URM Detected 338 ( 1.5%) items with no interactions.\n"
          ]
        },
        {
          "output_type": "stream",
          "name": "stderr",
          "text": [
            "<ipython-input-22-650f32a8104f>:10: FutureWarning: The frame.append method is deprecated and will be removed from pandas in a future version. Use pandas.concat instead.\n",
            "  self.results_df = self.results_df.append(hyperparam_dict, ignore_index=True)\n"
          ]
        },
        {
          "output_type": "stream",
          "name": "stdout",
          "text": [
            "EvaluatorHoldout: Processed 10030 (100.0%) in 7.28 sec. Users per second: 1378\n"
          ]
        },
        {
          "output_type": "stream",
          "name": "stderr",
          "text": [
            "[I 2023-12-24 16:58:37,795] Trial 20 finished with value: 0.030791411479846466 and parameters: {'alpha': 0.4851406602435756}. Best is trial 11 with value: 0.030819889537736296.\n"
          ]
        },
        {
          "output_type": "stream",
          "name": "stdout",
          "text": [
            "ScoresHybridRecommender: URM Detected 444 ( 3.5%) users with no interactions.\n",
            "ScoresHybridRecommender: URM Detected 338 ( 1.5%) items with no interactions.\n"
          ]
        },
        {
          "output_type": "stream",
          "name": "stderr",
          "text": [
            "<ipython-input-22-650f32a8104f>:10: FutureWarning: The frame.append method is deprecated and will be removed from pandas in a future version. Use pandas.concat instead.\n",
            "  self.results_df = self.results_df.append(hyperparam_dict, ignore_index=True)\n"
          ]
        },
        {
          "output_type": "stream",
          "name": "stdout",
          "text": [
            "EvaluatorHoldout: Processed 10030 (100.0%) in 6.98 sec. Users per second: 1436\n"
          ]
        },
        {
          "output_type": "stream",
          "name": "stderr",
          "text": [
            "[I 2023-12-24 16:58:44,810] Trial 21 finished with value: 0.030809927360775043 and parameters: {'alpha': 0.42338660669515277}. Best is trial 11 with value: 0.030819889537736296.\n"
          ]
        },
        {
          "output_type": "stream",
          "name": "stdout",
          "text": [
            "ScoresHybridRecommender: URM Detected 444 ( 3.5%) users with no interactions.\n",
            "ScoresHybridRecommender: URM Detected 338 ( 1.5%) items with no interactions.\n"
          ]
        },
        {
          "output_type": "stream",
          "name": "stderr",
          "text": [
            "<ipython-input-22-650f32a8104f>:10: FutureWarning: The frame.append method is deprecated and will be removed from pandas in a future version. Use pandas.concat instead.\n",
            "  self.results_df = self.results_df.append(hyperparam_dict, ignore_index=True)\n"
          ]
        },
        {
          "output_type": "stream",
          "name": "stdout",
          "text": [
            "EvaluatorHoldout: Processed 10030 (100.0%) in 7.40 sec. Users per second: 1356\n"
          ]
        },
        {
          "output_type": "stream",
          "name": "stderr",
          "text": [
            "[I 2023-12-24 16:58:52,230] Trial 22 finished with value: 0.03049391508015659 and parameters: {'alpha': 0.210705934946039}. Best is trial 11 with value: 0.030819889537736296.\n"
          ]
        },
        {
          "output_type": "stream",
          "name": "stdout",
          "text": [
            "ScoresHybridRecommender: URM Detected 444 ( 3.5%) users with no interactions.\n",
            "ScoresHybridRecommender: URM Detected 338 ( 1.5%) items with no interactions.\n"
          ]
        },
        {
          "output_type": "stream",
          "name": "stderr",
          "text": [
            "<ipython-input-22-650f32a8104f>:10: FutureWarning: The frame.append method is deprecated and will be removed from pandas in a future version. Use pandas.concat instead.\n",
            "  self.results_df = self.results_df.append(hyperparam_dict, ignore_index=True)\n"
          ]
        },
        {
          "output_type": "stream",
          "name": "stdout",
          "text": [
            "EvaluatorHoldout: Processed 10030 (100.0%) in 6.86 sec. Users per second: 1463\n"
          ]
        },
        {
          "output_type": "stream",
          "name": "stderr",
          "text": [
            "[I 2023-12-24 16:58:59,108] Trial 23 finished with value: 0.030811901596797125 and parameters: {'alpha': 0.42427012839328154}. Best is trial 11 with value: 0.030819889537736296.\n"
          ]
        },
        {
          "output_type": "stream",
          "name": "stdout",
          "text": [
            "ScoresHybridRecommender: URM Detected 444 ( 3.5%) users with no interactions.\n",
            "ScoresHybridRecommender: URM Detected 338 ( 1.5%) items with no interactions.\n"
          ]
        },
        {
          "output_type": "stream",
          "name": "stderr",
          "text": [
            "<ipython-input-22-650f32a8104f>:10: FutureWarning: The frame.append method is deprecated and will be removed from pandas in a future version. Use pandas.concat instead.\n",
            "  self.results_df = self.results_df.append(hyperparam_dict, ignore_index=True)\n"
          ]
        },
        {
          "output_type": "stream",
          "name": "stdout",
          "text": [
            "EvaluatorHoldout: Processed 10030 (100.0%) in 7.31 sec. Users per second: 1373\n"
          ]
        },
        {
          "output_type": "stream",
          "name": "stderr",
          "text": [
            "[I 2023-12-24 16:59:06,440] Trial 24 finished with value: 0.03077397173558719 and parameters: {'alpha': 0.5841034033421232}. Best is trial 11 with value: 0.030819889537736296.\n"
          ]
        },
        {
          "output_type": "stream",
          "name": "stdout",
          "text": [
            "ScoresHybridRecommender: URM Detected 444 ( 3.5%) users with no interactions.\n",
            "ScoresHybridRecommender: URM Detected 338 ( 1.5%) items with no interactions.\n"
          ]
        },
        {
          "output_type": "stream",
          "name": "stderr",
          "text": [
            "<ipython-input-22-650f32a8104f>:10: FutureWarning: The frame.append method is deprecated and will be removed from pandas in a future version. Use pandas.concat instead.\n",
            "  self.results_df = self.results_df.append(hyperparam_dict, ignore_index=True)\n"
          ]
        },
        {
          "output_type": "stream",
          "name": "stdout",
          "text": [
            "EvaluatorHoldout: Processed 10030 (100.0%) in 7.17 sec. Users per second: 1400\n"
          ]
        },
        {
          "output_type": "stream",
          "name": "stderr",
          "text": [
            "[I 2023-12-24 16:59:13,628] Trial 25 finished with value: 0.030804471506116867 and parameters: {'alpha': 0.5069185311319722}. Best is trial 11 with value: 0.030819889537736296.\n"
          ]
        },
        {
          "output_type": "stream",
          "name": "stdout",
          "text": [
            "ScoresHybridRecommender: URM Detected 444 ( 3.5%) users with no interactions.\n",
            "ScoresHybridRecommender: URM Detected 338 ( 1.5%) items with no interactions.\n"
          ]
        },
        {
          "output_type": "stream",
          "name": "stderr",
          "text": [
            "<ipython-input-22-650f32a8104f>:10: FutureWarning: The frame.append method is deprecated and will be removed from pandas in a future version. Use pandas.concat instead.\n",
            "  self.results_df = self.results_df.append(hyperparam_dict, ignore_index=True)\n"
          ]
        },
        {
          "output_type": "stream",
          "name": "stdout",
          "text": [
            "EvaluatorHoldout: Processed 10030 (100.0%) in 7.00 sec. Users per second: 1434\n"
          ]
        },
        {
          "output_type": "stream",
          "name": "stderr",
          "text": [
            "[I 2023-12-24 16:59:20,651] Trial 26 finished with value: 0.03074647881751596 and parameters: {'alpha': 0.3948762912093562}. Best is trial 11 with value: 0.030819889537736296.\n"
          ]
        },
        {
          "output_type": "stream",
          "name": "stdout",
          "text": [
            "ScoresHybridRecommender: URM Detected 444 ( 3.5%) users with no interactions.\n",
            "ScoresHybridRecommender: URM Detected 338 ( 1.5%) items with no interactions.\n"
          ]
        },
        {
          "output_type": "stream",
          "name": "stderr",
          "text": [
            "<ipython-input-22-650f32a8104f>:10: FutureWarning: The frame.append method is deprecated and will be removed from pandas in a future version. Use pandas.concat instead.\n",
            "  self.results_df = self.results_df.append(hyperparam_dict, ignore_index=True)\n"
          ]
        },
        {
          "output_type": "stream",
          "name": "stdout",
          "text": [
            "EvaluatorHoldout: Processed 10030 (100.0%) in 7.36 sec. Users per second: 1363\n"
          ]
        },
        {
          "output_type": "stream",
          "name": "stderr",
          "text": [
            "[I 2023-12-24 16:59:28,036] Trial 27 finished with value: 0.03064093433983792 and parameters: {'alpha': 0.6870215154768536}. Best is trial 11 with value: 0.030819889537736296.\n"
          ]
        },
        {
          "output_type": "stream",
          "name": "stdout",
          "text": [
            "ScoresHybridRecommender: URM Detected 444 ( 3.5%) users with no interactions.\n",
            "ScoresHybridRecommender: URM Detected 338 ( 1.5%) items with no interactions.\n"
          ]
        },
        {
          "output_type": "stream",
          "name": "stderr",
          "text": [
            "<ipython-input-22-650f32a8104f>:10: FutureWarning: The frame.append method is deprecated and will be removed from pandas in a future version. Use pandas.concat instead.\n",
            "  self.results_df = self.results_df.append(hyperparam_dict, ignore_index=True)\n"
          ]
        },
        {
          "output_type": "stream",
          "name": "stdout",
          "text": [
            "EvaluatorHoldout: Processed 10030 (100.0%) in 6.91 sec. Users per second: 1453\n"
          ]
        },
        {
          "output_type": "stream",
          "name": "stderr",
          "text": [
            "[I 2023-12-24 16:59:34,967] Trial 28 finished with value: 0.03061566491003205 and parameters: {'alpha': 0.2570044553226838}. Best is trial 11 with value: 0.030819889537736296.\n"
          ]
        },
        {
          "output_type": "stream",
          "name": "stdout",
          "text": [
            "ScoresHybridRecommender: URM Detected 444 ( 3.5%) users with no interactions.\n",
            "ScoresHybridRecommender: URM Detected 338 ( 1.5%) items with no interactions.\n"
          ]
        },
        {
          "output_type": "stream",
          "name": "stderr",
          "text": [
            "<ipython-input-22-650f32a8104f>:10: FutureWarning: The frame.append method is deprecated and will be removed from pandas in a future version. Use pandas.concat instead.\n",
            "  self.results_df = self.results_df.append(hyperparam_dict, ignore_index=True)\n"
          ]
        },
        {
          "output_type": "stream",
          "name": "stdout",
          "text": [
            "EvaluatorHoldout: Processed 10030 (100.0%) in 7.34 sec. Users per second: 1366\n"
          ]
        },
        {
          "output_type": "stream",
          "name": "stderr",
          "text": [
            "[I 2023-12-24 16:59:42,335] Trial 29 finished with value: 0.030790980233901796 and parameters: {'alpha': 0.5585408330146509}. Best is trial 11 with value: 0.030819889537736296.\n"
          ]
        },
        {
          "output_type": "stream",
          "name": "stdout",
          "text": [
            "ScoresHybridRecommender: URM Detected 444 ( 3.5%) users with no interactions.\n",
            "ScoresHybridRecommender: URM Detected 338 ( 1.5%) items with no interactions.\n"
          ]
        },
        {
          "output_type": "stream",
          "name": "stderr",
          "text": [
            "<ipython-input-22-650f32a8104f>:10: FutureWarning: The frame.append method is deprecated and will be removed from pandas in a future version. Use pandas.concat instead.\n",
            "  self.results_df = self.results_df.append(hyperparam_dict, ignore_index=True)\n"
          ]
        },
        {
          "output_type": "stream",
          "name": "stdout",
          "text": [
            "EvaluatorHoldout: Processed 10030 (100.0%) in 7.04 sec. Users per second: 1425\n"
          ]
        },
        {
          "output_type": "stream",
          "name": "stderr",
          "text": [
            "[I 2023-12-24 16:59:49,398] Trial 30 finished with value: 0.030816479134026797 and parameters: {'alpha': 0.5003836805358333}. Best is trial 11 with value: 0.030819889537736296.\n"
          ]
        },
        {
          "output_type": "stream",
          "name": "stdout",
          "text": [
            "ScoresHybridRecommender: URM Detected 444 ( 3.5%) users with no interactions.\n",
            "ScoresHybridRecommender: URM Detected 338 ( 1.5%) items with no interactions.\n"
          ]
        },
        {
          "output_type": "stream",
          "name": "stderr",
          "text": [
            "<ipython-input-22-650f32a8104f>:10: FutureWarning: The frame.append method is deprecated and will be removed from pandas in a future version. Use pandas.concat instead.\n",
            "  self.results_df = self.results_df.append(hyperparam_dict, ignore_index=True)\n"
          ]
        },
        {
          "output_type": "stream",
          "name": "stdout",
          "text": [
            "EvaluatorHoldout: Processed 10030 (100.0%) in 7.21 sec. Users per second: 1390\n"
          ]
        },
        {
          "output_type": "stream",
          "name": "stderr",
          "text": [
            "[I 2023-12-24 16:59:56,637] Trial 31 finished with value: 0.03081029134817799 and parameters: {'alpha': 0.4977840948171709}. Best is trial 11 with value: 0.030819889537736296.\n"
          ]
        },
        {
          "output_type": "stream",
          "name": "stdout",
          "text": [
            "ScoresHybridRecommender: URM Detected 444 ( 3.5%) users with no interactions.\n",
            "ScoresHybridRecommender: URM Detected 338 ( 1.5%) items with no interactions.\n"
          ]
        },
        {
          "output_type": "stream",
          "name": "stderr",
          "text": [
            "<ipython-input-22-650f32a8104f>:10: FutureWarning: The frame.append method is deprecated and will be removed from pandas in a future version. Use pandas.concat instead.\n",
            "  self.results_df = self.results_df.append(hyperparam_dict, ignore_index=True)\n"
          ]
        },
        {
          "output_type": "stream",
          "name": "stdout",
          "text": [
            "EvaluatorHoldout: Processed 10030 (100.0%) in 7.45 sec. Users per second: 1346\n"
          ]
        },
        {
          "output_type": "stream",
          "name": "stderr",
          "text": [
            "[I 2023-12-24 17:00:04,111] Trial 32 finished with value: 0.030754585449999473 and parameters: {'alpha': 0.36220715917126145}. Best is trial 11 with value: 0.030819889537736296.\n"
          ]
        },
        {
          "output_type": "stream",
          "name": "stdout",
          "text": [
            "ScoresHybridRecommender: URM Detected 444 ( 3.5%) users with no interactions.\n",
            "ScoresHybridRecommender: URM Detected 338 ( 1.5%) items with no interactions.\n"
          ]
        },
        {
          "output_type": "stream",
          "name": "stderr",
          "text": [
            "<ipython-input-22-650f32a8104f>:10: FutureWarning: The frame.append method is deprecated and will be removed from pandas in a future version. Use pandas.concat instead.\n",
            "  self.results_df = self.results_df.append(hyperparam_dict, ignore_index=True)\n"
          ]
        },
        {
          "output_type": "stream",
          "name": "stdout",
          "text": [
            "EvaluatorHoldout: Processed 10030 (100.0%) in 7.72 sec. Users per second: 1299\n"
          ]
        },
        {
          "output_type": "stream",
          "name": "stderr",
          "text": [
            "[I 2023-12-24 17:00:11,856] Trial 33 finished with value: 0.030790762632736984 and parameters: {'alpha': 0.47319823196283556}. Best is trial 11 with value: 0.030819889537736296.\n"
          ]
        },
        {
          "output_type": "stream",
          "name": "stdout",
          "text": [
            "ScoresHybridRecommender: URM Detected 444 ( 3.5%) users with no interactions.\n",
            "ScoresHybridRecommender: URM Detected 338 ( 1.5%) items with no interactions.\n"
          ]
        },
        {
          "output_type": "stream",
          "name": "stderr",
          "text": [
            "<ipython-input-22-650f32a8104f>:10: FutureWarning: The frame.append method is deprecated and will be removed from pandas in a future version. Use pandas.concat instead.\n",
            "  self.results_df = self.results_df.append(hyperparam_dict, ignore_index=True)\n"
          ]
        },
        {
          "output_type": "stream",
          "name": "stdout",
          "text": [
            "EvaluatorHoldout: Processed 10030 (100.0%) in 7.34 sec. Users per second: 1367\n"
          ]
        },
        {
          "output_type": "stream",
          "name": "stderr",
          "text": [
            "[I 2023-12-24 17:00:19,216] Trial 34 finished with value: 0.030811316051844763 and parameters: {'alpha': 0.602086368949114}. Best is trial 11 with value: 0.030819889537736296.\n"
          ]
        },
        {
          "output_type": "stream",
          "name": "stdout",
          "text": [
            "ScoresHybridRecommender: URM Detected 444 ( 3.5%) users with no interactions.\n",
            "ScoresHybridRecommender: URM Detected 338 ( 1.5%) items with no interactions.\n"
          ]
        },
        {
          "output_type": "stream",
          "name": "stderr",
          "text": [
            "<ipython-input-22-650f32a8104f>:10: FutureWarning: The frame.append method is deprecated and will be removed from pandas in a future version. Use pandas.concat instead.\n",
            "  self.results_df = self.results_df.append(hyperparam_dict, ignore_index=True)\n"
          ]
        },
        {
          "output_type": "stream",
          "name": "stdout",
          "text": [
            "EvaluatorHoldout: Processed 10030 (100.0%) in 7.29 sec. Users per second: 1376\n"
          ]
        },
        {
          "output_type": "stream",
          "name": "stderr",
          "text": [
            "[I 2023-12-24 17:00:26,529] Trial 35 finished with value: 0.030419321400877015 and parameters: {'alpha': 0.7972651685223207}. Best is trial 11 with value: 0.030819889537736296.\n"
          ]
        },
        {
          "output_type": "stream",
          "name": "stdout",
          "text": [
            "ScoresHybridRecommender: URM Detected 444 ( 3.5%) users with no interactions.\n",
            "ScoresHybridRecommender: URM Detected 338 ( 1.5%) items with no interactions.\n"
          ]
        },
        {
          "output_type": "stream",
          "name": "stderr",
          "text": [
            "<ipython-input-22-650f32a8104f>:10: FutureWarning: The frame.append method is deprecated and will be removed from pandas in a future version. Use pandas.concat instead.\n",
            "  self.results_df = self.results_df.append(hyperparam_dict, ignore_index=True)\n"
          ]
        },
        {
          "output_type": "stream",
          "name": "stdout",
          "text": [
            "EvaluatorHoldout: Processed 10030 (100.0%) in 6.99 sec. Users per second: 1436\n"
          ]
        },
        {
          "output_type": "stream",
          "name": "stderr",
          "text": [
            "[I 2023-12-24 17:00:33,545] Trial 36 finished with value: 0.03079615518523826 and parameters: {'alpha': 0.5224708760681376}. Best is trial 11 with value: 0.030819889537736296.\n"
          ]
        },
        {
          "output_type": "stream",
          "name": "stdout",
          "text": [
            "ScoresHybridRecommender: URM Detected 444 ( 3.5%) users with no interactions.\n",
            "ScoresHybridRecommender: URM Detected 338 ( 1.5%) items with no interactions.\n"
          ]
        },
        {
          "output_type": "stream",
          "name": "stderr",
          "text": [
            "<ipython-input-22-650f32a8104f>:10: FutureWarning: The frame.append method is deprecated and will be removed from pandas in a future version. Use pandas.concat instead.\n",
            "  self.results_df = self.results_df.append(hyperparam_dict, ignore_index=True)\n"
          ]
        },
        {
          "output_type": "stream",
          "name": "stdout",
          "text": [
            "EvaluatorHoldout: Processed 10030 (100.0%) in 7.48 sec. Users per second: 1341\n"
          ]
        },
        {
          "output_type": "stream",
          "name": "stderr",
          "text": [
            "[I 2023-12-24 17:00:41,047] Trial 37 finished with value: 0.030719662441247925 and parameters: {'alpha': 0.3885821144870063}. Best is trial 11 with value: 0.030819889537736296.\n"
          ]
        },
        {
          "output_type": "stream",
          "name": "stdout",
          "text": [
            "ScoresHybridRecommender: URM Detected 444 ( 3.5%) users with no interactions.\n",
            "ScoresHybridRecommender: URM Detected 338 ( 1.5%) items with no interactions.\n"
          ]
        },
        {
          "output_type": "stream",
          "name": "stderr",
          "text": [
            "<ipython-input-22-650f32a8104f>:10: FutureWarning: The frame.append method is deprecated and will be removed from pandas in a future version. Use pandas.concat instead.\n",
            "  self.results_df = self.results_df.append(hyperparam_dict, ignore_index=True)\n"
          ]
        },
        {
          "output_type": "stream",
          "name": "stdout",
          "text": [
            "EvaluatorHoldout: Processed 10030 (100.0%) in 7.03 sec. Users per second: 1428\n"
          ]
        },
        {
          "output_type": "stream",
          "name": "stderr",
          "text": [
            "[I 2023-12-24 17:00:48,095] Trial 38 finished with value: 0.030666290810109596 and parameters: {'alpha': 0.2867201309613049}. Best is trial 11 with value: 0.030819889537736296.\n"
          ]
        },
        {
          "output_type": "stream",
          "name": "stdout",
          "text": [
            "ScoresHybridRecommender: URM Detected 444 ( 3.5%) users with no interactions.\n",
            "ScoresHybridRecommender: URM Detected 338 ( 1.5%) items with no interactions.\n"
          ]
        },
        {
          "output_type": "stream",
          "name": "stderr",
          "text": [
            "<ipython-input-22-650f32a8104f>:10: FutureWarning: The frame.append method is deprecated and will be removed from pandas in a future version. Use pandas.concat instead.\n",
            "  self.results_df = self.results_df.append(hyperparam_dict, ignore_index=True)\n"
          ]
        },
        {
          "output_type": "stream",
          "name": "stdout",
          "text": [
            "EvaluatorHoldout: Processed 10030 (100.0%) in 7.29 sec. Users per second: 1375\n"
          ]
        },
        {
          "output_type": "stream",
          "name": "stderr",
          "text": [
            "[I 2023-12-24 17:00:55,412] Trial 39 finished with value: 0.030826290968365012 and parameters: {'alpha': 0.44333669447735075}. Best is trial 39 with value: 0.030826290968365012.\n"
          ]
        },
        {
          "output_type": "stream",
          "name": "stdout",
          "text": [
            "ScoresHybridRecommender: URM Detected 444 ( 3.5%) users with no interactions.\n",
            "ScoresHybridRecommender: URM Detected 338 ( 1.5%) items with no interactions.\n"
          ]
        },
        {
          "output_type": "stream",
          "name": "stderr",
          "text": [
            "<ipython-input-22-650f32a8104f>:10: FutureWarning: The frame.append method is deprecated and will be removed from pandas in a future version. Use pandas.concat instead.\n",
            "  self.results_df = self.results_df.append(hyperparam_dict, ignore_index=True)\n"
          ]
        },
        {
          "output_type": "stream",
          "name": "stdout",
          "text": [
            "EvaluatorHoldout: Processed 10030 (100.0%) in 7.36 sec. Users per second: 1362\n"
          ]
        },
        {
          "output_type": "stream",
          "name": "stderr",
          "text": [
            "[I 2023-12-24 17:01:02,803] Trial 40 finished with value: 0.03030360110145777 and parameters: {'alpha': 0.12477238418530812}. Best is trial 39 with value: 0.030826290968365012.\n"
          ]
        },
        {
          "output_type": "stream",
          "name": "stdout",
          "text": [
            "ScoresHybridRecommender: URM Detected 444 ( 3.5%) users with no interactions.\n",
            "ScoresHybridRecommender: URM Detected 338 ( 1.5%) items with no interactions.\n"
          ]
        },
        {
          "output_type": "stream",
          "name": "stderr",
          "text": [
            "<ipython-input-22-650f32a8104f>:10: FutureWarning: The frame.append method is deprecated and will be removed from pandas in a future version. Use pandas.concat instead.\n",
            "  self.results_df = self.results_df.append(hyperparam_dict, ignore_index=True)\n"
          ]
        },
        {
          "output_type": "stream",
          "name": "stdout",
          "text": [
            "EvaluatorHoldout: Processed 10030 (100.0%) in 7.06 sec. Users per second: 1420\n"
          ]
        },
        {
          "output_type": "stream",
          "name": "stderr",
          "text": [
            "[I 2023-12-24 17:01:09,894] Trial 41 finished with value: 0.030813104337780547 and parameters: {'alpha': 0.4390092687830237}. Best is trial 39 with value: 0.030826290968365012.\n"
          ]
        },
        {
          "output_type": "stream",
          "name": "stdout",
          "text": [
            "ScoresHybridRecommender: URM Detected 444 ( 3.5%) users with no interactions.\n",
            "ScoresHybridRecommender: URM Detected 338 ( 1.5%) items with no interactions.\n"
          ]
        },
        {
          "output_type": "stream",
          "name": "stderr",
          "text": [
            "<ipython-input-22-650f32a8104f>:10: FutureWarning: The frame.append method is deprecated and will be removed from pandas in a future version. Use pandas.concat instead.\n",
            "  self.results_df = self.results_df.append(hyperparam_dict, ignore_index=True)\n"
          ]
        },
        {
          "output_type": "stream",
          "name": "stdout",
          "text": [
            "EvaluatorHoldout: Processed 10030 (100.0%) in 7.32 sec. Users per second: 1369\n"
          ]
        },
        {
          "output_type": "stream",
          "name": "stderr",
          "text": [
            "[I 2023-12-24 17:01:17,243] Trial 42 finished with value: 0.03081789947617491 and parameters: {'alpha': 0.47030650578311606}. Best is trial 39 with value: 0.030826290968365012.\n"
          ]
        },
        {
          "output_type": "stream",
          "name": "stdout",
          "text": [
            "ScoresHybridRecommender: URM Detected 444 ( 3.5%) users with no interactions.\n",
            "ScoresHybridRecommender: URM Detected 338 ( 1.5%) items with no interactions.\n"
          ]
        },
        {
          "output_type": "stream",
          "name": "stderr",
          "text": [
            "<ipython-input-22-650f32a8104f>:10: FutureWarning: The frame.append method is deprecated and will be removed from pandas in a future version. Use pandas.concat instead.\n",
            "  self.results_df = self.results_df.append(hyperparam_dict, ignore_index=True)\n"
          ]
        },
        {
          "output_type": "stream",
          "name": "stdout",
          "text": [
            "EvaluatorHoldout: Processed 10030 (100.0%) in 6.82 sec. Users per second: 1470\n"
          ]
        },
        {
          "output_type": "stream",
          "name": "stderr",
          "text": [
            "[I 2023-12-24 17:01:24,090] Trial 43 finished with value: 0.030727990631281035 and parameters: {'alpha': 0.6675584442434659}. Best is trial 39 with value: 0.030826290968365012.\n"
          ]
        },
        {
          "output_type": "stream",
          "name": "stdout",
          "text": [
            "ScoresHybridRecommender: URM Detected 444 ( 3.5%) users with no interactions.\n",
            "ScoresHybridRecommender: URM Detected 338 ( 1.5%) items with no interactions.\n"
          ]
        },
        {
          "output_type": "stream",
          "name": "stderr",
          "text": [
            "<ipython-input-22-650f32a8104f>:10: FutureWarning: The frame.append method is deprecated and will be removed from pandas in a future version. Use pandas.concat instead.\n",
            "  self.results_df = self.results_df.append(hyperparam_dict, ignore_index=True)\n"
          ]
        },
        {
          "output_type": "stream",
          "name": "stdout",
          "text": [
            "EvaluatorHoldout: Processed 10030 (100.0%) in 7.42 sec. Users per second: 1352\n"
          ]
        },
        {
          "output_type": "stream",
          "name": "stderr",
          "text": [
            "[I 2023-12-24 17:01:31,535] Trial 44 finished with value: 0.030749734922217806 and parameters: {'alpha': 0.548394241951816}. Best is trial 39 with value: 0.030826290968365012.\n"
          ]
        },
        {
          "output_type": "stream",
          "name": "stdout",
          "text": [
            "ScoresHybridRecommender: URM Detected 444 ( 3.5%) users with no interactions.\n",
            "ScoresHybridRecommender: URM Detected 338 ( 1.5%) items with no interactions.\n"
          ]
        },
        {
          "output_type": "stream",
          "name": "stderr",
          "text": [
            "<ipython-input-22-650f32a8104f>:10: FutureWarning: The frame.append method is deprecated and will be removed from pandas in a future version. Use pandas.concat instead.\n",
            "  self.results_df = self.results_df.append(hyperparam_dict, ignore_index=True)\n"
          ]
        },
        {
          "output_type": "stream",
          "name": "stdout",
          "text": [
            "EvaluatorHoldout: Processed 10030 (100.0%) in 7.23 sec. Users per second: 1387\n"
          ]
        },
        {
          "output_type": "stream",
          "name": "stderr",
          "text": [
            "[I 2023-12-24 17:01:38,794] Trial 45 finished with value: 0.03078299229296261 and parameters: {'alpha': 0.356658774527953}. Best is trial 39 with value: 0.030826290968365012.\n"
          ]
        },
        {
          "output_type": "stream",
          "name": "stdout",
          "text": [
            "ScoresHybridRecommender: URM Detected 444 ( 3.5%) users with no interactions.\n",
            "ScoresHybridRecommender: URM Detected 338 ( 1.5%) items with no interactions.\n"
          ]
        },
        {
          "output_type": "stream",
          "name": "stderr",
          "text": [
            "<ipython-input-22-650f32a8104f>:10: FutureWarning: The frame.append method is deprecated and will be removed from pandas in a future version. Use pandas.concat instead.\n",
            "  self.results_df = self.results_df.append(hyperparam_dict, ignore_index=True)\n"
          ]
        },
        {
          "output_type": "stream",
          "name": "stdout",
          "text": [
            "EvaluatorHoldout: Processed 10030 (100.0%) in 7.01 sec. Users per second: 1432\n"
          ]
        },
        {
          "output_type": "stream",
          "name": "stderr",
          "text": [
            "[I 2023-12-24 17:01:45,829] Trial 46 finished with value: 0.03081270474291435 and parameters: {'alpha': 0.4388819230494785}. Best is trial 39 with value: 0.030826290968365012.\n"
          ]
        },
        {
          "output_type": "stream",
          "name": "stdout",
          "text": [
            "ScoresHybridRecommender: URM Detected 444 ( 3.5%) users with no interactions.\n",
            "ScoresHybridRecommender: URM Detected 338 ( 1.5%) items with no interactions.\n"
          ]
        },
        {
          "output_type": "stream",
          "name": "stderr",
          "text": [
            "<ipython-input-22-650f32a8104f>:10: FutureWarning: The frame.append method is deprecated and will be removed from pandas in a future version. Use pandas.concat instead.\n",
            "  self.results_df = self.results_df.append(hyperparam_dict, ignore_index=True)\n"
          ]
        },
        {
          "output_type": "stream",
          "name": "stdout",
          "text": [
            "EvaluatorHoldout: Processed 10030 (100.0%) in 7.32 sec. Users per second: 1370\n"
          ]
        },
        {
          "output_type": "stream",
          "name": "stderr",
          "text": [
            "[I 2023-12-24 17:01:53,171] Trial 47 finished with value: 0.030787898210131833 and parameters: {'alpha': 0.5291271459490103}. Best is trial 39 with value: 0.030826290968365012.\n"
          ]
        },
        {
          "output_type": "stream",
          "name": "stdout",
          "text": [
            "ScoresHybridRecommender: URM Detected 444 ( 3.5%) users with no interactions.\n",
            "ScoresHybridRecommender: URM Detected 338 ( 1.5%) items with no interactions.\n"
          ]
        },
        {
          "output_type": "stream",
          "name": "stderr",
          "text": [
            "<ipython-input-22-650f32a8104f>:10: FutureWarning: The frame.append method is deprecated and will be removed from pandas in a future version. Use pandas.concat instead.\n",
            "  self.results_df = self.results_df.append(hyperparam_dict, ignore_index=True)\n"
          ]
        },
        {
          "output_type": "stream",
          "name": "stdout",
          "text": [
            "EvaluatorHoldout: Processed 10030 (100.0%) in 6.89 sec. Users per second: 1455\n"
          ]
        },
        {
          "output_type": "stream",
          "name": "stderr",
          "text": [
            "[I 2023-12-24 17:02:00,090] Trial 48 finished with value: 0.030616151545364203 and parameters: {'alpha': 0.7108750248511551}. Best is trial 39 with value: 0.030826290968365012.\n"
          ]
        },
        {
          "output_type": "stream",
          "name": "stdout",
          "text": [
            "ScoresHybridRecommender: URM Detected 444 ( 3.5%) users with no interactions.\n",
            "ScoresHybridRecommender: URM Detected 338 ( 1.5%) items with no interactions.\n"
          ]
        },
        {
          "output_type": "stream",
          "name": "stderr",
          "text": [
            "<ipython-input-22-650f32a8104f>:10: FutureWarning: The frame.append method is deprecated and will be removed from pandas in a future version. Use pandas.concat instead.\n",
            "  self.results_df = self.results_df.append(hyperparam_dict, ignore_index=True)\n"
          ]
        },
        {
          "output_type": "stream",
          "name": "stdout",
          "text": [
            "EvaluatorHoldout: Processed 10030 (100.0%) in 7.35 sec. Users per second: 1364\n"
          ]
        },
        {
          "output_type": "stream",
          "name": "stderr",
          "text": [
            "[I 2023-12-24 17:02:07,465] Trial 49 finished with value: 0.030775562202282343 and parameters: {'alpha': 0.5836636591140357}. Best is trial 39 with value: 0.030826290968365012.\n"
          ]
        },
        {
          "output_type": "stream",
          "name": "stdout",
          "text": [
            "ScoresHybridRecommender: URM Detected 444 ( 3.5%) users with no interactions.\n",
            "ScoresHybridRecommender: URM Detected 338 ( 1.5%) items with no interactions.\n"
          ]
        },
        {
          "output_type": "stream",
          "name": "stderr",
          "text": [
            "<ipython-input-22-650f32a8104f>:10: FutureWarning: The frame.append method is deprecated and will be removed from pandas in a future version. Use pandas.concat instead.\n",
            "  self.results_df = self.results_df.append(hyperparam_dict, ignore_index=True)\n"
          ]
        },
        {
          "output_type": "stream",
          "name": "stdout",
          "text": [
            "EvaluatorHoldout: Processed 10030 (100.0%) in 7.01 sec. Users per second: 1430\n"
          ]
        },
        {
          "output_type": "stream",
          "name": "stderr",
          "text": [
            "[I 2023-12-24 17:02:14,507] Trial 50 finished with value: 0.030505677412208138 and parameters: {'alpha': 0.7574443257056296}. Best is trial 39 with value: 0.030826290968365012.\n"
          ]
        },
        {
          "output_type": "stream",
          "name": "stdout",
          "text": [
            "ScoresHybridRecommender: URM Detected 444 ( 3.5%) users with no interactions.\n",
            "ScoresHybridRecommender: URM Detected 338 ( 1.5%) items with no interactions.\n"
          ]
        },
        {
          "output_type": "stream",
          "name": "stderr",
          "text": [
            "<ipython-input-22-650f32a8104f>:10: FutureWarning: The frame.append method is deprecated and will be removed from pandas in a future version. Use pandas.concat instead.\n",
            "  self.results_df = self.results_df.append(hyperparam_dict, ignore_index=True)\n"
          ]
        },
        {
          "output_type": "stream",
          "name": "stdout",
          "text": [
            "EvaluatorHoldout: Processed 10030 (100.0%) in 7.24 sec. Users per second: 1386\n"
          ]
        },
        {
          "output_type": "stream",
          "name": "stderr",
          "text": [
            "[I 2023-12-24 17:02:21,769] Trial 51 finished with value: 0.03080932203389857 and parameters: {'alpha': 0.46363092549696094}. Best is trial 39 with value: 0.030826290968365012.\n"
          ]
        },
        {
          "output_type": "stream",
          "name": "stdout",
          "text": [
            "ScoresHybridRecommender: URM Detected 444 ( 3.5%) users with no interactions.\n",
            "ScoresHybridRecommender: URM Detected 338 ( 1.5%) items with no interactions.\n"
          ]
        },
        {
          "output_type": "stream",
          "name": "stderr",
          "text": [
            "<ipython-input-22-650f32a8104f>:10: FutureWarning: The frame.append method is deprecated and will be removed from pandas in a future version. Use pandas.concat instead.\n",
            "  self.results_df = self.results_df.append(hyperparam_dict, ignore_index=True)\n"
          ]
        },
        {
          "output_type": "stream",
          "name": "stdout",
          "text": [
            "EvaluatorHoldout: Processed 10030 (100.0%) in 7.37 sec. Users per second: 1362\n"
          ]
        },
        {
          "output_type": "stream",
          "name": "stderr",
          "text": [
            "[I 2023-12-24 17:02:29,161] Trial 52 finished with value: 0.030813907483897757 and parameters: {'alpha': 0.43850372976445334}. Best is trial 39 with value: 0.030826290968365012.\n"
          ]
        },
        {
          "output_type": "stream",
          "name": "stdout",
          "text": [
            "ScoresHybridRecommender: URM Detected 444 ( 3.5%) users with no interactions.\n",
            "ScoresHybridRecommender: URM Detected 338 ( 1.5%) items with no interactions.\n"
          ]
        },
        {
          "output_type": "stream",
          "name": "stderr",
          "text": [
            "<ipython-input-22-650f32a8104f>:10: FutureWarning: The frame.append method is deprecated and will be removed from pandas in a future version. Use pandas.concat instead.\n",
            "  self.results_df = self.results_df.append(hyperparam_dict, ignore_index=True)\n"
          ]
        },
        {
          "output_type": "stream",
          "name": "stdout",
          "text": [
            "EvaluatorHoldout: Processed 10030 (100.0%) in 6.84 sec. Users per second: 1467\n"
          ]
        },
        {
          "output_type": "stream",
          "name": "stderr",
          "text": [
            "[I 2023-12-24 17:02:36,019] Trial 53 finished with value: 0.03077396777920231 and parameters: {'alpha': 0.40119836939372655}. Best is trial 39 with value: 0.030826290968365012.\n"
          ]
        },
        {
          "output_type": "stream",
          "name": "stdout",
          "text": [
            "ScoresHybridRecommender: URM Detected 444 ( 3.5%) users with no interactions.\n",
            "ScoresHybridRecommender: URM Detected 338 ( 1.5%) items with no interactions.\n"
          ]
        },
        {
          "output_type": "stream",
          "name": "stderr",
          "text": [
            "<ipython-input-22-650f32a8104f>:10: FutureWarning: The frame.append method is deprecated and will be removed from pandas in a future version. Use pandas.concat instead.\n",
            "  self.results_df = self.results_df.append(hyperparam_dict, ignore_index=True)\n"
          ]
        },
        {
          "output_type": "stream",
          "name": "stdout",
          "text": [
            "EvaluatorHoldout: Processed 10030 (100.0%) in 7.36 sec. Users per second: 1362\n"
          ]
        },
        {
          "output_type": "stream",
          "name": "stderr",
          "text": [
            "[I 2023-12-24 17:02:43,407] Trial 54 finished with value: 0.0307525795628989 and parameters: {'alpha': 0.6168654267284772}. Best is trial 39 with value: 0.030826290968365012.\n"
          ]
        },
        {
          "output_type": "stream",
          "name": "stdout",
          "text": [
            "ScoresHybridRecommender: URM Detected 444 ( 3.5%) users with no interactions.\n",
            "ScoresHybridRecommender: URM Detected 338 ( 1.5%) items with no interactions.\n"
          ]
        },
        {
          "output_type": "stream",
          "name": "stderr",
          "text": [
            "<ipython-input-22-650f32a8104f>:10: FutureWarning: The frame.append method is deprecated and will be removed from pandas in a future version. Use pandas.concat instead.\n",
            "  self.results_df = self.results_df.append(hyperparam_dict, ignore_index=True)\n"
          ]
        },
        {
          "output_type": "stream",
          "name": "stdout",
          "text": [
            "EvaluatorHoldout: Processed 10030 (100.0%) in 6.98 sec. Users per second: 1437\n"
          ]
        },
        {
          "output_type": "stream",
          "name": "stderr",
          "text": [
            "[I 2023-12-24 17:02:50,415] Trial 55 finished with value: 0.030810334868410925 and parameters: {'alpha': 0.49257900956952416}. Best is trial 39 with value: 0.030826290968365012.\n"
          ]
        },
        {
          "output_type": "stream",
          "name": "stdout",
          "text": [
            "ScoresHybridRecommender: URM Detected 444 ( 3.5%) users with no interactions.\n",
            "ScoresHybridRecommender: URM Detected 338 ( 1.5%) items with no interactions.\n"
          ]
        },
        {
          "output_type": "stream",
          "name": "stderr",
          "text": [
            "<ipython-input-22-650f32a8104f>:10: FutureWarning: The frame.append method is deprecated and will be removed from pandas in a future version. Use pandas.concat instead.\n",
            "  self.results_df = self.results_df.append(hyperparam_dict, ignore_index=True)\n"
          ]
        },
        {
          "output_type": "stream",
          "name": "stdout",
          "text": [
            "EvaluatorHoldout: Processed 10030 (100.0%) in 7.20 sec. Users per second: 1394\n"
          ]
        },
        {
          "output_type": "stream",
          "name": "stderr",
          "text": [
            "[I 2023-12-24 17:02:57,640] Trial 56 finished with value: 0.03075176454762717 and parameters: {'alpha': 0.34158774933736236}. Best is trial 39 with value: 0.030826290968365012.\n"
          ]
        },
        {
          "output_type": "stream",
          "name": "stdout",
          "text": [
            "ScoresHybridRecommender: URM Detected 444 ( 3.5%) users with no interactions.\n",
            "ScoresHybridRecommender: URM Detected 338 ( 1.5%) items with no interactions.\n"
          ]
        },
        {
          "output_type": "stream",
          "name": "stderr",
          "text": [
            "<ipython-input-22-650f32a8104f>:10: FutureWarning: The frame.append method is deprecated and will be removed from pandas in a future version. Use pandas.concat instead.\n",
            "  self.results_df = self.results_df.append(hyperparam_dict, ignore_index=True)\n"
          ]
        },
        {
          "output_type": "stream",
          "name": "stdout",
          "text": [
            "EvaluatorHoldout: Processed 10030 (100.0%) in 7.29 sec. Users per second: 1376\n"
          ]
        },
        {
          "output_type": "stream",
          "name": "stderr",
          "text": [
            "[I 2023-12-24 17:03:04,957] Trial 57 finished with value: 0.03083431056038257 and parameters: {'alpha': 0.4360593316742256}. Best is trial 57 with value: 0.03083431056038257.\n"
          ]
        },
        {
          "output_type": "stream",
          "name": "stdout",
          "text": [
            "ScoresHybridRecommender: URM Detected 444 ( 3.5%) users with no interactions.\n",
            "ScoresHybridRecommender: URM Detected 338 ( 1.5%) items with no interactions.\n"
          ]
        },
        {
          "output_type": "stream",
          "name": "stderr",
          "text": [
            "<ipython-input-22-650f32a8104f>:10: FutureWarning: The frame.append method is deprecated and will be removed from pandas in a future version. Use pandas.concat instead.\n",
            "  self.results_df = self.results_df.append(hyperparam_dict, ignore_index=True)\n"
          ]
        },
        {
          "output_type": "stream",
          "name": "stdout",
          "text": [
            "EvaluatorHoldout: Processed 10030 (100.0%) in 6.82 sec. Users per second: 1471\n"
          ]
        },
        {
          "output_type": "stream",
          "name": "stderr",
          "text": [
            "[I 2023-12-24 17:03:11,800] Trial 58 finished with value: 0.03066170536011038 and parameters: {'alpha': 0.2884852139547177}. Best is trial 57 with value: 0.03083431056038257.\n"
          ]
        },
        {
          "output_type": "stream",
          "name": "stdout",
          "text": [
            "ScoresHybridRecommender: URM Detected 444 ( 3.5%) users with no interactions.\n",
            "ScoresHybridRecommender: URM Detected 338 ( 1.5%) items with no interactions.\n"
          ]
        },
        {
          "output_type": "stream",
          "name": "stderr",
          "text": [
            "<ipython-input-22-650f32a8104f>:10: FutureWarning: The frame.append method is deprecated and will be removed from pandas in a future version. Use pandas.concat instead.\n",
            "  self.results_df = self.results_df.append(hyperparam_dict, ignore_index=True)\n"
          ]
        },
        {
          "output_type": "stream",
          "name": "stdout",
          "text": [
            "EvaluatorHoldout: Processed 10030 (100.0%) in 7.26 sec. Users per second: 1382\n"
          ]
        },
        {
          "output_type": "stream",
          "name": "stderr",
          "text": [
            "[I 2023-12-24 17:03:19,085] Trial 59 finished with value: 0.03073320514646561 and parameters: {'alpha': 0.39329826461687845}. Best is trial 57 with value: 0.03083431056038257.\n"
          ]
        },
        {
          "output_type": "stream",
          "name": "stdout",
          "text": [
            "ScoresHybridRecommender: URM Detected 444 ( 3.5%) users with no interactions.\n",
            "ScoresHybridRecommender: URM Detected 338 ( 1.5%) items with no interactions.\n"
          ]
        },
        {
          "output_type": "stream",
          "name": "stderr",
          "text": [
            "<ipython-input-22-650f32a8104f>:10: FutureWarning: The frame.append method is deprecated and will be removed from pandas in a future version. Use pandas.concat instead.\n",
            "  self.results_df = self.results_df.append(hyperparam_dict, ignore_index=True)\n"
          ]
        },
        {
          "output_type": "stream",
          "name": "stdout",
          "text": [
            "EvaluatorHoldout: Processed 10030 (100.0%) in 6.80 sec. Users per second: 1475\n"
          ]
        },
        {
          "output_type": "stream",
          "name": "stderr",
          "text": [
            "[I 2023-12-24 17:03:25,909] Trial 60 finished with value: 0.03076709949516562 and parameters: {'alpha': 0.5554303555577836}. Best is trial 57 with value: 0.03083431056038257.\n"
          ]
        },
        {
          "output_type": "stream",
          "name": "stdout",
          "text": [
            "ScoresHybridRecommender: URM Detected 444 ( 3.5%) users with no interactions.\n",
            "ScoresHybridRecommender: URM Detected 338 ( 1.5%) items with no interactions.\n"
          ]
        },
        {
          "output_type": "stream",
          "name": "stderr",
          "text": [
            "<ipython-input-22-650f32a8104f>:10: FutureWarning: The frame.append method is deprecated and will be removed from pandas in a future version. Use pandas.concat instead.\n",
            "  self.results_df = self.results_df.append(hyperparam_dict, ignore_index=True)\n"
          ]
        },
        {
          "output_type": "stream",
          "name": "stdout",
          "text": [
            "EvaluatorHoldout: Processed 10030 (100.0%) in 7.32 sec. Users per second: 1370\n"
          ]
        },
        {
          "output_type": "stream",
          "name": "stderr",
          "text": [
            "[I 2023-12-24 17:03:33,252] Trial 61 finished with value: 0.030823252464827977 and parameters: {'alpha': 0.43380539449762534}. Best is trial 57 with value: 0.03083431056038257.\n"
          ]
        },
        {
          "output_type": "stream",
          "name": "stdout",
          "text": [
            "ScoresHybridRecommender: URM Detected 444 ( 3.5%) users with no interactions.\n",
            "ScoresHybridRecommender: URM Detected 338 ( 1.5%) items with no interactions.\n"
          ]
        },
        {
          "output_type": "stream",
          "name": "stderr",
          "text": [
            "<ipython-input-22-650f32a8104f>:10: FutureWarning: The frame.append method is deprecated and will be removed from pandas in a future version. Use pandas.concat instead.\n",
            "  self.results_df = self.results_df.append(hyperparam_dict, ignore_index=True)\n"
          ]
        },
        {
          "output_type": "stream",
          "name": "stdout",
          "text": [
            "EvaluatorHoldout: Processed 10030 (100.0%) in 7.29 sec. Users per second: 1377\n"
          ]
        },
        {
          "output_type": "stream",
          "name": "stderr",
          "text": [
            "[I 2023-12-24 17:03:40,564] Trial 62 finished with value: 0.030813610755036743 and parameters: {'alpha': 0.46115886882163204}. Best is trial 57 with value: 0.03083431056038257.\n"
          ]
        },
        {
          "output_type": "stream",
          "name": "stdout",
          "text": [
            "ScoresHybridRecommender: URM Detected 444 ( 3.5%) users with no interactions.\n",
            "ScoresHybridRecommender: URM Detected 338 ( 1.5%) items with no interactions.\n"
          ]
        },
        {
          "output_type": "stream",
          "name": "stderr",
          "text": [
            "<ipython-input-22-650f32a8104f>:10: FutureWarning: The frame.append method is deprecated and will be removed from pandas in a future version. Use pandas.concat instead.\n",
            "  self.results_df = self.results_df.append(hyperparam_dict, ignore_index=True)\n"
          ]
        },
        {
          "output_type": "stream",
          "name": "stdout",
          "text": [
            "EvaluatorHoldout: Processed 10030 (100.0%) in 6.80 sec. Users per second: 1474\n"
          ]
        },
        {
          "output_type": "stream",
          "name": "stderr",
          "text": [
            "[I 2023-12-24 17:03:47,392] Trial 63 finished with value: 0.030777714475621103 and parameters: {'alpha': 0.5150410562682093}. Best is trial 57 with value: 0.03083431056038257.\n"
          ]
        },
        {
          "output_type": "stream",
          "name": "stdout",
          "text": [
            "ScoresHybridRecommender: URM Detected 444 ( 3.5%) users with no interactions.\n",
            "ScoresHybridRecommender: URM Detected 338 ( 1.5%) items with no interactions.\n"
          ]
        },
        {
          "output_type": "stream",
          "name": "stderr",
          "text": [
            "<ipython-input-22-650f32a8104f>:10: FutureWarning: The frame.append method is deprecated and will be removed from pandas in a future version. Use pandas.concat instead.\n",
            "  self.results_df = self.results_df.append(hyperparam_dict, ignore_index=True)\n"
          ]
        },
        {
          "output_type": "stream",
          "name": "stdout",
          "text": [
            "EvaluatorHoldout: Processed 10030 (100.0%) in 7.34 sec. Users per second: 1367\n"
          ]
        },
        {
          "output_type": "stream",
          "name": "stderr",
          "text": [
            "[I 2023-12-24 17:03:54,757] Trial 64 finished with value: 0.030758854389213573 and parameters: {'alpha': 0.37544118375134095}. Best is trial 57 with value: 0.03083431056038257.\n"
          ]
        },
        {
          "output_type": "stream",
          "name": "stdout",
          "text": [
            "ScoresHybridRecommender: URM Detected 444 ( 3.5%) users with no interactions.\n",
            "ScoresHybridRecommender: URM Detected 338 ( 1.5%) items with no interactions.\n"
          ]
        },
        {
          "output_type": "stream",
          "name": "stderr",
          "text": [
            "<ipython-input-22-650f32a8104f>:10: FutureWarning: The frame.append method is deprecated and will be removed from pandas in a future version. Use pandas.concat instead.\n",
            "  self.results_df = self.results_df.append(hyperparam_dict, ignore_index=True)\n"
          ]
        },
        {
          "output_type": "stream",
          "name": "stdout",
          "text": [
            "EvaluatorHoldout: Processed 10030 (100.0%) in 6.80 sec. Users per second: 1474\n"
          ]
        },
        {
          "output_type": "stream",
          "name": "stderr",
          "text": [
            "[I 2023-12-24 17:04:01,583] Trial 65 finished with value: 0.030815948978461648 and parameters: {'alpha': 0.4255664486052332}. Best is trial 57 with value: 0.03083431056038257.\n"
          ]
        },
        {
          "output_type": "stream",
          "name": "stdout",
          "text": [
            "ScoresHybridRecommender: URM Detected 444 ( 3.5%) users with no interactions.\n",
            "ScoresHybridRecommender: URM Detected 338 ( 1.5%) items with no interactions.\n"
          ]
        },
        {
          "output_type": "stream",
          "name": "stderr",
          "text": [
            "<ipython-input-22-650f32a8104f>:10: FutureWarning: The frame.append method is deprecated and will be removed from pandas in a future version. Use pandas.concat instead.\n",
            "  self.results_df = self.results_df.append(hyperparam_dict, ignore_index=True)\n"
          ]
        },
        {
          "output_type": "stream",
          "name": "stdout",
          "text": [
            "EvaluatorHoldout: Processed 10030 (100.0%) in 7.37 sec. Users per second: 1361\n"
          ]
        },
        {
          "output_type": "stream",
          "name": "stderr",
          "text": [
            "[I 2023-12-24 17:04:08,977] Trial 66 finished with value: 0.03078584089002856 and parameters: {'alpha': 0.4183853132378724}. Best is trial 57 with value: 0.03083431056038257.\n"
          ]
        },
        {
          "output_type": "stream",
          "name": "stdout",
          "text": [
            "ScoresHybridRecommender: URM Detected 444 ( 3.5%) users with no interactions.\n",
            "ScoresHybridRecommender: URM Detected 338 ( 1.5%) items with no interactions.\n"
          ]
        },
        {
          "output_type": "stream",
          "name": "stderr",
          "text": [
            "<ipython-input-22-650f32a8104f>:10: FutureWarning: The frame.append method is deprecated and will be removed from pandas in a future version. Use pandas.concat instead.\n",
            "  self.results_df = self.results_df.append(hyperparam_dict, ignore_index=True)\n"
          ]
        },
        {
          "output_type": "stream",
          "name": "stdout",
          "text": [
            "EvaluatorHoldout: Processed 10030 (100.0%) in 7.25 sec. Users per second: 1382\n"
          ]
        },
        {
          "output_type": "stream",
          "name": "stderr",
          "text": [
            "[I 2023-12-24 17:04:16,260] Trial 67 finished with value: 0.030737252528130143 and parameters: {'alpha': 0.3204626636471763}. Best is trial 57 with value: 0.03083431056038257.\n"
          ]
        },
        {
          "output_type": "stream",
          "name": "stdout",
          "text": [
            "ScoresHybridRecommender: URM Detected 444 ( 3.5%) users with no interactions.\n",
            "ScoresHybridRecommender: URM Detected 338 ( 1.5%) items with no interactions.\n"
          ]
        },
        {
          "output_type": "stream",
          "name": "stderr",
          "text": [
            "<ipython-input-22-650f32a8104f>:10: FutureWarning: The frame.append method is deprecated and will be removed from pandas in a future version. Use pandas.concat instead.\n",
            "  self.results_df = self.results_df.append(hyperparam_dict, ignore_index=True)\n"
          ]
        },
        {
          "output_type": "stream",
          "name": "stdout",
          "text": [
            "EvaluatorHoldout: Processed 10030 (100.0%) in 6.93 sec. Users per second: 1448\n"
          ]
        },
        {
          "output_type": "stream",
          "name": "stderr",
          "text": [
            "[I 2023-12-24 17:04:23,221] Trial 68 finished with value: 0.0307838864359306 and parameters: {'alpha': 0.4836224014899917}. Best is trial 57 with value: 0.03083431056038257.\n"
          ]
        },
        {
          "output_type": "stream",
          "name": "stdout",
          "text": [
            "ScoresHybridRecommender: URM Detected 444 ( 3.5%) users with no interactions.\n",
            "ScoresHybridRecommender: URM Detected 338 ( 1.5%) items with no interactions.\n"
          ]
        },
        {
          "output_type": "stream",
          "name": "stderr",
          "text": [
            "<ipython-input-22-650f32a8104f>:10: FutureWarning: The frame.append method is deprecated and will be removed from pandas in a future version. Use pandas.concat instead.\n",
            "  self.results_df = self.results_df.append(hyperparam_dict, ignore_index=True)\n"
          ]
        },
        {
          "output_type": "stream",
          "name": "stdout",
          "text": [
            "EvaluatorHoldout: Processed 10030 (100.0%) in 7.46 sec. Users per second: 1345\n"
          ]
        },
        {
          "output_type": "stream",
          "name": "stderr",
          "text": [
            "[I 2023-12-24 17:04:30,703] Trial 69 finished with value: 0.030486686765101745 and parameters: {'alpha': 0.22282059478980026}. Best is trial 57 with value: 0.03083431056038257.\n"
          ]
        },
        {
          "output_type": "stream",
          "name": "stdout",
          "text": [
            "ScoresHybridRecommender: URM Detected 444 ( 3.5%) users with no interactions.\n",
            "ScoresHybridRecommender: URM Detected 338 ( 1.5%) items with no interactions.\n"
          ]
        },
        {
          "output_type": "stream",
          "name": "stderr",
          "text": [
            "<ipython-input-22-650f32a8104f>:10: FutureWarning: The frame.append method is deprecated and will be removed from pandas in a future version. Use pandas.concat instead.\n",
            "  self.results_df = self.results_df.append(hyperparam_dict, ignore_index=True)\n"
          ]
        },
        {
          "output_type": "stream",
          "name": "stdout",
          "text": [
            "EvaluatorHoldout: Processed 10030 (100.0%) in 6.85 sec. Users per second: 1465\n"
          ]
        },
        {
          "output_type": "stream",
          "name": "stderr",
          "text": [
            "[I 2023-12-24 17:04:37,573] Trial 70 finished with value: 0.030779740144645743 and parameters: {'alpha': 0.5863402819960909}. Best is trial 57 with value: 0.03083431056038257.\n"
          ]
        },
        {
          "output_type": "stream",
          "name": "stdout",
          "text": [
            "ScoresHybridRecommender: URM Detected 444 ( 3.5%) users with no interactions.\n",
            "ScoresHybridRecommender: URM Detected 338 ( 1.5%) items with no interactions.\n"
          ]
        },
        {
          "output_type": "stream",
          "name": "stderr",
          "text": [
            "<ipython-input-22-650f32a8104f>:10: FutureWarning: The frame.append method is deprecated and will be removed from pandas in a future version. Use pandas.concat instead.\n",
            "  self.results_df = self.results_df.append(hyperparam_dict, ignore_index=True)\n"
          ]
        },
        {
          "output_type": "stream",
          "name": "stdout",
          "text": [
            "EvaluatorHoldout: Processed 10030 (100.0%) in 7.39 sec. Users per second: 1357\n"
          ]
        },
        {
          "output_type": "stream",
          "name": "stderr",
          "text": [
            "[I 2023-12-24 17:04:44,987] Trial 71 finished with value: 0.030824562028201344 and parameters: {'alpha': 0.43256258593973923}. Best is trial 57 with value: 0.03083431056038257.\n"
          ]
        },
        {
          "output_type": "stream",
          "name": "stdout",
          "text": [
            "ScoresHybridRecommender: URM Detected 444 ( 3.5%) users with no interactions.\n",
            "ScoresHybridRecommender: URM Detected 338 ( 1.5%) items with no interactions.\n"
          ]
        },
        {
          "output_type": "stream",
          "name": "stderr",
          "text": [
            "<ipython-input-22-650f32a8104f>:10: FutureWarning: The frame.append method is deprecated and will be removed from pandas in a future version. Use pandas.concat instead.\n",
            "  self.results_df = self.results_df.append(hyperparam_dict, ignore_index=True)\n"
          ]
        },
        {
          "output_type": "stream",
          "name": "stdout",
          "text": [
            "EvaluatorHoldout: Processed 10030 (100.0%) in 7.15 sec. Users per second: 1403\n"
          ]
        },
        {
          "output_type": "stream",
          "name": "stderr",
          "text": [
            "[I 2023-12-24 17:04:52,160] Trial 72 finished with value: 0.03078740366203012 and parameters: {'alpha': 0.524110774128614}. Best is trial 57 with value: 0.03083431056038257.\n"
          ]
        },
        {
          "output_type": "stream",
          "name": "stdout",
          "text": [
            "ScoresHybridRecommender: URM Detected 444 ( 3.5%) users with no interactions.\n",
            "ScoresHybridRecommender: URM Detected 338 ( 1.5%) items with no interactions.\n"
          ]
        },
        {
          "output_type": "stream",
          "name": "stderr",
          "text": [
            "<ipython-input-22-650f32a8104f>:10: FutureWarning: The frame.append method is deprecated and will be removed from pandas in a future version. Use pandas.concat instead.\n",
            "  self.results_df = self.results_df.append(hyperparam_dict, ignore_index=True)\n"
          ]
        },
        {
          "output_type": "stream",
          "name": "stdout",
          "text": [
            "EvaluatorHoldout: Processed 10030 (100.0%) in 7.00 sec. Users per second: 1433\n"
          ]
        },
        {
          "output_type": "stream",
          "name": "stderr",
          "text": [
            "[I 2023-12-24 17:04:59,189] Trial 73 finished with value: 0.030788677617940064 and parameters: {'alpha': 0.4129629379689431}. Best is trial 57 with value: 0.03083431056038257.\n"
          ]
        },
        {
          "output_type": "stream",
          "name": "stdout",
          "text": [
            "ScoresHybridRecommender: URM Detected 444 ( 3.5%) users with no interactions.\n",
            "ScoresHybridRecommender: URM Detected 338 ( 1.5%) items with no interactions.\n"
          ]
        },
        {
          "output_type": "stream",
          "name": "stderr",
          "text": [
            "<ipython-input-22-650f32a8104f>:10: FutureWarning: The frame.append method is deprecated and will be removed from pandas in a future version. Use pandas.concat instead.\n",
            "  self.results_df = self.results_df.append(hyperparam_dict, ignore_index=True)\n"
          ]
        },
        {
          "output_type": "stream",
          "name": "stdout",
          "text": [
            "EvaluatorHoldout: Processed 10030 (100.0%) in 7.36 sec. Users per second: 1362\n"
          ]
        },
        {
          "output_type": "stream",
          "name": "stderr",
          "text": [
            "[I 2023-12-24 17:05:06,576] Trial 74 finished with value: 0.030822346452705634 and parameters: {'alpha': 0.4693569671530838}. Best is trial 57 with value: 0.03083431056038257.\n"
          ]
        },
        {
          "output_type": "stream",
          "name": "stdout",
          "text": [
            "ScoresHybridRecommender: URM Detected 444 ( 3.5%) users with no interactions.\n",
            "ScoresHybridRecommender: URM Detected 338 ( 1.5%) items with no interactions.\n"
          ]
        },
        {
          "output_type": "stream",
          "name": "stderr",
          "text": [
            "<ipython-input-22-650f32a8104f>:10: FutureWarning: The frame.append method is deprecated and will be removed from pandas in a future version. Use pandas.concat instead.\n",
            "  self.results_df = self.results_df.append(hyperparam_dict, ignore_index=True)\n"
          ]
        },
        {
          "output_type": "stream",
          "name": "stdout",
          "text": [
            "EvaluatorHoldout: Processed 10030 (100.0%) in 6.87 sec. Users per second: 1459\n"
          ]
        },
        {
          "output_type": "stream",
          "name": "stderr",
          "text": [
            "[I 2023-12-24 17:05:13,475] Trial 75 finished with value: 0.030822607574103343 and parameters: {'alpha': 0.4691332480395076}. Best is trial 57 with value: 0.03083431056038257.\n"
          ]
        },
        {
          "output_type": "stream",
          "name": "stdout",
          "text": [
            "ScoresHybridRecommender: URM Detected 444 ( 3.5%) users with no interactions.\n",
            "ScoresHybridRecommender: URM Detected 338 ( 1.5%) items with no interactions.\n"
          ]
        },
        {
          "output_type": "stream",
          "name": "stderr",
          "text": [
            "<ipython-input-22-650f32a8104f>:10: FutureWarning: The frame.append method is deprecated and will be removed from pandas in a future version. Use pandas.concat instead.\n",
            "  self.results_df = self.results_df.append(hyperparam_dict, ignore_index=True)\n"
          ]
        },
        {
          "output_type": "stream",
          "name": "stdout",
          "text": [
            "EvaluatorHoldout: Processed 10030 (100.0%) in 7.34 sec. Users per second: 1367\n"
          ]
        },
        {
          "output_type": "stream",
          "name": "stderr",
          "text": [
            "[I 2023-12-24 17:05:20,838] Trial 76 finished with value: 0.030805298390542926 and parameters: {'alpha': 0.4710740293106627}. Best is trial 57 with value: 0.03083431056038257.\n"
          ]
        },
        {
          "output_type": "stream",
          "name": "stdout",
          "text": [
            "ScoresHybridRecommender: URM Detected 444 ( 3.5%) users with no interactions.\n",
            "ScoresHybridRecommender: URM Detected 338 ( 1.5%) items with no interactions.\n"
          ]
        },
        {
          "output_type": "stream",
          "name": "stderr",
          "text": [
            "<ipython-input-22-650f32a8104f>:10: FutureWarning: The frame.append method is deprecated and will be removed from pandas in a future version. Use pandas.concat instead.\n",
            "  self.results_df = self.results_df.append(hyperparam_dict, ignore_index=True)\n"
          ]
        },
        {
          "output_type": "stream",
          "name": "stdout",
          "text": [
            "EvaluatorHoldout: Processed 10030 (100.0%) in 7.02 sec. Users per second: 1429\n"
          ]
        },
        {
          "output_type": "stream",
          "name": "stderr",
          "text": [
            "[I 2023-12-24 17:05:27,885] Trial 77 finished with value: 0.03076346753390648 and parameters: {'alpha': 0.36605058340920665}. Best is trial 57 with value: 0.03083431056038257.\n"
          ]
        },
        {
          "output_type": "stream",
          "name": "stdout",
          "text": [
            "ScoresHybridRecommender: URM Detected 444 ( 3.5%) users with no interactions.\n",
            "ScoresHybridRecommender: URM Detected 338 ( 1.5%) items with no interactions.\n"
          ]
        },
        {
          "output_type": "stream",
          "name": "stderr",
          "text": [
            "<ipython-input-22-650f32a8104f>:10: FutureWarning: The frame.append method is deprecated and will be removed from pandas in a future version. Use pandas.concat instead.\n",
            "  self.results_df = self.results_df.append(hyperparam_dict, ignore_index=True)\n"
          ]
        },
        {
          "output_type": "stream",
          "name": "stdout",
          "text": [
            "EvaluatorHoldout: Processed 10030 (100.0%) in 7.21 sec. Users per second: 1391\n"
          ]
        },
        {
          "output_type": "stream",
          "name": "stderr",
          "text": [
            "[I 2023-12-24 17:05:35,122] Trial 78 finished with value: 0.03081038234502866 and parameters: {'alpha': 0.44977665369355}. Best is trial 57 with value: 0.03083431056038257.\n"
          ]
        },
        {
          "output_type": "stream",
          "name": "stdout",
          "text": [
            "ScoresHybridRecommender: URM Detected 444 ( 3.5%) users with no interactions.\n",
            "ScoresHybridRecommender: URM Detected 338 ( 1.5%) items with no interactions.\n"
          ]
        },
        {
          "output_type": "stream",
          "name": "stderr",
          "text": [
            "<ipython-input-22-650f32a8104f>:10: FutureWarning: The frame.append method is deprecated and will be removed from pandas in a future version. Use pandas.concat instead.\n",
            "  self.results_df = self.results_df.append(hyperparam_dict, ignore_index=True)\n"
          ]
        },
        {
          "output_type": "stream",
          "name": "stdout",
          "text": [
            "EvaluatorHoldout: Processed 10030 (100.0%) in 7.37 sec. Users per second: 1361\n"
          ]
        },
        {
          "output_type": "stream",
          "name": "stderr",
          "text": [
            "[I 2023-12-24 17:05:42,516] Trial 79 finished with value: 0.02979163303739601 and parameters: {'alpha': 0.9983234768236326}. Best is trial 57 with value: 0.03083431056038257.\n"
          ]
        },
        {
          "output_type": "stream",
          "name": "stdout",
          "text": [
            "ScoresHybridRecommender: URM Detected 444 ( 3.5%) users with no interactions.\n",
            "ScoresHybridRecommender: URM Detected 338 ( 1.5%) items with no interactions.\n"
          ]
        },
        {
          "output_type": "stream",
          "name": "stderr",
          "text": [
            "<ipython-input-22-650f32a8104f>:10: FutureWarning: The frame.append method is deprecated and will be removed from pandas in a future version. Use pandas.concat instead.\n",
            "  self.results_df = self.results_df.append(hyperparam_dict, ignore_index=True)\n"
          ]
        },
        {
          "output_type": "stream",
          "name": "stdout",
          "text": [
            "EvaluatorHoldout: Processed 10030 (100.0%) in 6.74 sec. Users per second: 1487\n"
          ]
        },
        {
          "output_type": "stream",
          "name": "stderr",
          "text": [
            "[I 2023-12-24 17:05:49,283] Trial 80 finished with value: 0.03079429172799093 and parameters: {'alpha': 0.5674114874860378}. Best is trial 57 with value: 0.03083431056038257.\n"
          ]
        },
        {
          "output_type": "stream",
          "name": "stdout",
          "text": [
            "ScoresHybridRecommender: URM Detected 444 ( 3.5%) users with no interactions.\n",
            "ScoresHybridRecommender: URM Detected 338 ( 1.5%) items with no interactions.\n"
          ]
        },
        {
          "output_type": "stream",
          "name": "stderr",
          "text": [
            "<ipython-input-22-650f32a8104f>:10: FutureWarning: The frame.append method is deprecated and will be removed from pandas in a future version. Use pandas.concat instead.\n",
            "  self.results_df = self.results_df.append(hyperparam_dict, ignore_index=True)\n"
          ]
        },
        {
          "output_type": "stream",
          "name": "stdout",
          "text": [
            "EvaluatorHoldout: Processed 10030 (100.0%) in 7.36 sec. Users per second: 1362\n"
          ]
        },
        {
          "output_type": "stream",
          "name": "stderr",
          "text": [
            "[I 2023-12-24 17:05:56,671] Trial 81 finished with value: 0.030812894649385483 and parameters: {'alpha': 0.5012242279838873}. Best is trial 57 with value: 0.03083431056038257.\n"
          ]
        },
        {
          "output_type": "stream",
          "name": "stdout",
          "text": [
            "ScoresHybridRecommender: URM Detected 444 ( 3.5%) users with no interactions.\n",
            "ScoresHybridRecommender: URM Detected 338 ( 1.5%) items with no interactions.\n"
          ]
        },
        {
          "output_type": "stream",
          "name": "stderr",
          "text": [
            "<ipython-input-22-650f32a8104f>:10: FutureWarning: The frame.append method is deprecated and will be removed from pandas in a future version. Use pandas.concat instead.\n",
            "  self.results_df = self.results_df.append(hyperparam_dict, ignore_index=True)\n"
          ]
        },
        {
          "output_type": "stream",
          "name": "stdout",
          "text": [
            "EvaluatorHoldout: Processed 10030 (100.0%) in 7.93 sec. Users per second: 1264\n"
          ]
        },
        {
          "output_type": "stream",
          "name": "stderr",
          "text": [
            "[I 2023-12-24 17:06:04,635] Trial 82 finished with value: 0.03079197328649006 and parameters: {'alpha': 0.5322771768164254}. Best is trial 57 with value: 0.03083431056038257.\n"
          ]
        },
        {
          "output_type": "stream",
          "name": "stdout",
          "text": [
            "ScoresHybridRecommender: URM Detected 444 ( 3.5%) users with no interactions.\n",
            "ScoresHybridRecommender: URM Detected 338 ( 1.5%) items with no interactions.\n"
          ]
        },
        {
          "output_type": "stream",
          "name": "stderr",
          "text": [
            "<ipython-input-22-650f32a8104f>:10: FutureWarning: The frame.append method is deprecated and will be removed from pandas in a future version. Use pandas.concat instead.\n",
            "  self.results_df = self.results_df.append(hyperparam_dict, ignore_index=True)\n"
          ]
        },
        {
          "output_type": "stream",
          "name": "stdout",
          "text": [
            "EvaluatorHoldout: Processed 10030 (100.0%) in 7.01 sec. Users per second: 1431\n"
          ]
        },
        {
          "output_type": "stream",
          "name": "stderr",
          "text": [
            "[I 2023-12-24 17:06:11,675] Trial 83 finished with value: 0.0308136740571938 and parameters: {'alpha': 0.49804124374739467}. Best is trial 57 with value: 0.03083431056038257.\n"
          ]
        },
        {
          "output_type": "stream",
          "name": "stdout",
          "text": [
            "ScoresHybridRecommender: URM Detected 444 ( 3.5%) users with no interactions.\n",
            "ScoresHybridRecommender: URM Detected 338 ( 1.5%) items with no interactions.\n"
          ]
        },
        {
          "output_type": "stream",
          "name": "stderr",
          "text": [
            "<ipython-input-22-650f32a8104f>:10: FutureWarning: The frame.append method is deprecated and will be removed from pandas in a future version. Use pandas.concat instead.\n",
            "  self.results_df = self.results_df.append(hyperparam_dict, ignore_index=True)\n"
          ]
        },
        {
          "output_type": "stream",
          "name": "stdout",
          "text": [
            "EvaluatorHoldout: Processed 10030 (100.0%) in 10.96 sec. Users per second: 915\n"
          ]
        },
        {
          "output_type": "stream",
          "name": "stderr",
          "text": [
            "[I 2023-12-24 17:06:22,676] Trial 84 finished with value: 0.03080932203389857 and parameters: {'alpha': 0.4636716923602223}. Best is trial 57 with value: 0.03083431056038257.\n"
          ]
        },
        {
          "output_type": "stream",
          "name": "stdout",
          "text": [
            "ScoresHybridRecommender: URM Detected 444 ( 3.5%) users with no interactions.\n",
            "ScoresHybridRecommender: URM Detected 338 ( 1.5%) items with no interactions.\n"
          ]
        },
        {
          "output_type": "stream",
          "name": "stderr",
          "text": [
            "<ipython-input-22-650f32a8104f>:10: FutureWarning: The frame.append method is deprecated and will be removed from pandas in a future version. Use pandas.concat instead.\n",
            "  self.results_df = self.results_df.append(hyperparam_dict, ignore_index=True)\n"
          ]
        },
        {
          "output_type": "stream",
          "name": "stdout",
          "text": [
            "EvaluatorHoldout: Processed 10030 (100.0%) in 10.90 sec. Users per second: 920\n"
          ]
        },
        {
          "output_type": "stream",
          "name": "stderr",
          "text": [
            "[I 2023-12-24 17:06:33,616] Trial 85 finished with value: 0.030751645856082758 and parameters: {'alpha': 0.3460448647574576}. Best is trial 57 with value: 0.03083431056038257.\n"
          ]
        },
        {
          "output_type": "stream",
          "name": "stdout",
          "text": [
            "ScoresHybridRecommender: URM Detected 444 ( 3.5%) users with no interactions.\n",
            "ScoresHybridRecommender: URM Detected 338 ( 1.5%) items with no interactions.\n"
          ]
        },
        {
          "output_type": "stream",
          "name": "stderr",
          "text": [
            "<ipython-input-22-650f32a8104f>:10: FutureWarning: The frame.append method is deprecated and will be removed from pandas in a future version. Use pandas.concat instead.\n",
            "  self.results_df = self.results_df.append(hyperparam_dict, ignore_index=True)\n"
          ]
        },
        {
          "output_type": "stream",
          "name": "stdout",
          "text": [
            "EvaluatorHoldout: Processed 10030 (100.0%) in 6.83 sec. Users per second: 1468\n"
          ]
        },
        {
          "output_type": "stream",
          "name": "stderr",
          "text": [
            "[I 2023-12-24 17:06:40,475] Trial 86 finished with value: 0.030173273829306037 and parameters: {'alpha': 0.8854579886842318}. Best is trial 57 with value: 0.03083431056038257.\n"
          ]
        },
        {
          "output_type": "stream",
          "name": "stdout",
          "text": [
            "ScoresHybridRecommender: URM Detected 444 ( 3.5%) users with no interactions.\n",
            "ScoresHybridRecommender: URM Detected 338 ( 1.5%) items with no interactions.\n"
          ]
        },
        {
          "output_type": "stream",
          "name": "stderr",
          "text": [
            "<ipython-input-22-650f32a8104f>:10: FutureWarning: The frame.append method is deprecated and will be removed from pandas in a future version. Use pandas.concat instead.\n",
            "  self.results_df = self.results_df.append(hyperparam_dict, ignore_index=True)\n"
          ]
        },
        {
          "output_type": "stream",
          "name": "stdout",
          "text": [
            "EvaluatorHoldout: Processed 10030 (100.0%) in 7.30 sec. Users per second: 1373\n"
          ]
        },
        {
          "output_type": "stream",
          "name": "stderr",
          "text": [
            "[I 2023-12-24 17:06:47,802] Trial 87 finished with value: 0.03069844830587633 and parameters: {'alpha': 0.6392918198730925}. Best is trial 57 with value: 0.03083431056038257.\n"
          ]
        },
        {
          "output_type": "stream",
          "name": "stdout",
          "text": [
            "ScoresHybridRecommender: URM Detected 444 ( 3.5%) users with no interactions.\n",
            "ScoresHybridRecommender: URM Detected 338 ( 1.5%) items with no interactions.\n"
          ]
        },
        {
          "output_type": "stream",
          "name": "stderr",
          "text": [
            "<ipython-input-22-650f32a8104f>:10: FutureWarning: The frame.append method is deprecated and will be removed from pandas in a future version. Use pandas.concat instead.\n",
            "  self.results_df = self.results_df.append(hyperparam_dict, ignore_index=True)\n"
          ]
        },
        {
          "output_type": "stream",
          "name": "stdout",
          "text": [
            "EvaluatorHoldout: Processed 10030 (100.0%) in 7.36 sec. Users per second: 1362\n"
          ]
        },
        {
          "output_type": "stream",
          "name": "stderr",
          "text": [
            "[I 2023-12-24 17:06:55,192] Trial 88 finished with value: 0.03078084397600872 and parameters: {'alpha': 0.40684787045245935}. Best is trial 57 with value: 0.03083431056038257.\n"
          ]
        },
        {
          "output_type": "stream",
          "name": "stdout",
          "text": [
            "ScoresHybridRecommender: URM Detected 444 ( 3.5%) users with no interactions.\n",
            "ScoresHybridRecommender: URM Detected 338 ( 1.5%) items with no interactions.\n"
          ]
        },
        {
          "output_type": "stream",
          "name": "stderr",
          "text": [
            "<ipython-input-22-650f32a8104f>:10: FutureWarning: The frame.append method is deprecated and will be removed from pandas in a future version. Use pandas.concat instead.\n",
            "  self.results_df = self.results_df.append(hyperparam_dict, ignore_index=True)\n"
          ]
        },
        {
          "output_type": "stream",
          "name": "stdout",
          "text": [
            "EvaluatorHoldout: Processed 10030 (100.0%) in 6.85 sec. Users per second: 1464\n"
          ]
        },
        {
          "output_type": "stream",
          "name": "stderr",
          "text": [
            "[I 2023-12-24 17:07:02,067] Trial 89 finished with value: 0.030750209688395393 and parameters: {'alpha': 0.381986913211558}. Best is trial 57 with value: 0.03083431056038257.\n"
          ]
        },
        {
          "output_type": "stream",
          "name": "stdout",
          "text": [
            "ScoresHybridRecommender: URM Detected 444 ( 3.5%) users with no interactions.\n",
            "ScoresHybridRecommender: URM Detected 338 ( 1.5%) items with no interactions.\n"
          ]
        },
        {
          "output_type": "stream",
          "name": "stderr",
          "text": [
            "<ipython-input-22-650f32a8104f>:10: FutureWarning: The frame.append method is deprecated and will be removed from pandas in a future version. Use pandas.concat instead.\n",
            "  self.results_df = self.results_df.append(hyperparam_dict, ignore_index=True)\n"
          ]
        },
        {
          "output_type": "stream",
          "name": "stdout",
          "text": [
            "EvaluatorHoldout: Processed 10030 (100.0%) in 7.41 sec. Users per second: 1354\n"
          ]
        },
        {
          "output_type": "stream",
          "name": "stderr",
          "text": [
            "[I 2023-12-24 17:07:09,499] Trial 90 finished with value: 0.030824439380272156 and parameters: {'alpha': 0.44348396368590753}. Best is trial 57 with value: 0.03083431056038257.\n"
          ]
        },
        {
          "output_type": "stream",
          "name": "stdout",
          "text": [
            "ScoresHybridRecommender: URM Detected 444 ( 3.5%) users with no interactions.\n",
            "ScoresHybridRecommender: URM Detected 338 ( 1.5%) items with no interactions.\n"
          ]
        },
        {
          "output_type": "stream",
          "name": "stderr",
          "text": [
            "<ipython-input-22-650f32a8104f>:10: FutureWarning: The frame.append method is deprecated and will be removed from pandas in a future version. Use pandas.concat instead.\n",
            "  self.results_df = self.results_df.append(hyperparam_dict, ignore_index=True)\n"
          ]
        },
        {
          "output_type": "stream",
          "name": "stdout",
          "text": [
            "EvaluatorHoldout: Processed 10030 (100.0%) in 6.83 sec. Users per second: 1469\n"
          ]
        },
        {
          "output_type": "stream",
          "name": "stderr",
          "text": [
            "[I 2023-12-24 17:07:16,353] Trial 91 finished with value: 0.03081418838721955 and parameters: {'alpha': 0.44707489498880193}. Best is trial 57 with value: 0.03083431056038257.\n"
          ]
        },
        {
          "output_type": "stream",
          "name": "stdout",
          "text": [
            "ScoresHybridRecommender: URM Detected 444 ( 3.5%) users with no interactions.\n",
            "ScoresHybridRecommender: URM Detected 338 ( 1.5%) items with no interactions.\n"
          ]
        },
        {
          "output_type": "stream",
          "name": "stderr",
          "text": [
            "<ipython-input-22-650f32a8104f>:10: FutureWarning: The frame.append method is deprecated and will be removed from pandas in a future version. Use pandas.concat instead.\n",
            "  self.results_df = self.results_df.append(hyperparam_dict, ignore_index=True)\n"
          ]
        },
        {
          "output_type": "stream",
          "name": "stdout",
          "text": [
            "EvaluatorHoldout: Processed 10030 (100.0%) in 7.33 sec. Users per second: 1369\n"
          ]
        },
        {
          "output_type": "stream",
          "name": "stderr",
          "text": [
            "[I 2023-12-24 17:07:23,704] Trial 92 finished with value: 0.030781670860434863 and parameters: {'alpha': 0.48348234253703026}. Best is trial 57 with value: 0.03083431056038257.\n"
          ]
        },
        {
          "output_type": "stream",
          "name": "stdout",
          "text": [
            "ScoresHybridRecommender: URM Detected 444 ( 3.5%) users with no interactions.\n",
            "ScoresHybridRecommender: URM Detected 338 ( 1.5%) items with no interactions.\n"
          ]
        },
        {
          "output_type": "stream",
          "name": "stderr",
          "text": [
            "<ipython-input-22-650f32a8104f>:10: FutureWarning: The frame.append method is deprecated and will be removed from pandas in a future version. Use pandas.concat instead.\n",
            "  self.results_df = self.results_df.append(hyperparam_dict, ignore_index=True)\n"
          ]
        },
        {
          "output_type": "stream",
          "name": "stdout",
          "text": [
            "EvaluatorHoldout: Processed 10030 (100.0%) in 7.37 sec. Users per second: 1361\n"
          ]
        },
        {
          "output_type": "stream",
          "name": "stderr",
          "text": [
            "[I 2023-12-24 17:07:31,101] Trial 93 finished with value: 0.030794893098482667 and parameters: {'alpha': 0.5440454944747387}. Best is trial 57 with value: 0.03083431056038257.\n"
          ]
        },
        {
          "output_type": "stream",
          "name": "stdout",
          "text": [
            "ScoresHybridRecommender: URM Detected 444 ( 3.5%) users with no interactions.\n",
            "ScoresHybridRecommender: URM Detected 338 ( 1.5%) items with no interactions.\n"
          ]
        },
        {
          "output_type": "stream",
          "name": "stderr",
          "text": [
            "<ipython-input-22-650f32a8104f>:10: FutureWarning: The frame.append method is deprecated and will be removed from pandas in a future version. Use pandas.concat instead.\n",
            "  self.results_df = self.results_df.append(hyperparam_dict, ignore_index=True)\n"
          ]
        },
        {
          "output_type": "stream",
          "name": "stdout",
          "text": [
            "EvaluatorHoldout: Processed 10030 (100.0%) in 6.89 sec. Users per second: 1455\n"
          ]
        },
        {
          "output_type": "stream",
          "name": "stderr",
          "text": [
            "[I 2023-12-24 17:07:38,026] Trial 94 finished with value: 0.030823252464827977 and parameters: {'alpha': 0.4338144436045154}. Best is trial 57 with value: 0.03083431056038257.\n"
          ]
        },
        {
          "output_type": "stream",
          "name": "stdout",
          "text": [
            "ScoresHybridRecommender: URM Detected 444 ( 3.5%) users with no interactions.\n",
            "ScoresHybridRecommender: URM Detected 338 ( 1.5%) items with no interactions.\n"
          ]
        },
        {
          "output_type": "stream",
          "name": "stderr",
          "text": [
            "<ipython-input-22-650f32a8104f>:10: FutureWarning: The frame.append method is deprecated and will be removed from pandas in a future version. Use pandas.concat instead.\n",
            "  self.results_df = self.results_df.append(hyperparam_dict, ignore_index=True)\n"
          ]
        },
        {
          "output_type": "stream",
          "name": "stdout",
          "text": [
            "EvaluatorHoldout: Processed 10030 (100.0%) in 7.30 sec. Users per second: 1375\n"
          ]
        },
        {
          "output_type": "stream",
          "name": "stderr",
          "text": [
            "[I 2023-12-24 17:07:45,352] Trial 95 finished with value: 0.03082803969045268 and parameters: {'alpha': 0.43243888839531225}. Best is trial 57 with value: 0.03083431056038257.\n"
          ]
        },
        {
          "output_type": "stream",
          "name": "stdout",
          "text": [
            "ScoresHybridRecommender: URM Detected 444 ( 3.5%) users with no interactions.\n",
            "ScoresHybridRecommender: URM Detected 338 ( 1.5%) items with no interactions.\n"
          ]
        },
        {
          "output_type": "stream",
          "name": "stderr",
          "text": [
            "<ipython-input-22-650f32a8104f>:10: FutureWarning: The frame.append method is deprecated and will be removed from pandas in a future version. Use pandas.concat instead.\n",
            "  self.results_df = self.results_df.append(hyperparam_dict, ignore_index=True)\n"
          ]
        },
        {
          "output_type": "stream",
          "name": "stdout",
          "text": [
            "EvaluatorHoldout: Processed 10030 (100.0%) in 6.94 sec. Users per second: 1445\n"
          ]
        },
        {
          "output_type": "stream",
          "name": "stderr",
          "text": [
            "[I 2023-12-24 17:07:52,317] Trial 96 finished with value: 0.030819177388469718 and parameters: {'alpha': 0.4261227949549933}. Best is trial 57 with value: 0.03083431056038257.\n"
          ]
        },
        {
          "output_type": "stream",
          "name": "stdout",
          "text": [
            "ScoresHybridRecommender: URM Detected 444 ( 3.5%) users with no interactions.\n",
            "ScoresHybridRecommender: URM Detected 338 ( 1.5%) items with no interactions.\n"
          ]
        },
        {
          "output_type": "stream",
          "name": "stderr",
          "text": [
            "<ipython-input-22-650f32a8104f>:10: FutureWarning: The frame.append method is deprecated and will be removed from pandas in a future version. Use pandas.concat instead.\n",
            "  self.results_df = self.results_df.append(hyperparam_dict, ignore_index=True)\n"
          ]
        },
        {
          "output_type": "stream",
          "name": "stdout",
          "text": [
            "EvaluatorHoldout: Processed 10030 (100.0%) in 7.29 sec. Users per second: 1377\n"
          ]
        },
        {
          "output_type": "stream",
          "name": "stderr",
          "text": [
            "[I 2023-12-24 17:07:59,628] Trial 97 finished with value: 0.030766082704268415 and parameters: {'alpha': 0.3751711501722034}. Best is trial 57 with value: 0.03083431056038257.\n"
          ]
        },
        {
          "output_type": "stream",
          "name": "stdout",
          "text": [
            "ScoresHybridRecommender: URM Detected 444 ( 3.5%) users with no interactions.\n",
            "ScoresHybridRecommender: URM Detected 338 ( 1.5%) items with no interactions.\n"
          ]
        },
        {
          "output_type": "stream",
          "name": "stderr",
          "text": [
            "<ipython-input-22-650f32a8104f>:10: FutureWarning: The frame.append method is deprecated and will be removed from pandas in a future version. Use pandas.concat instead.\n",
            "  self.results_df = self.results_df.append(hyperparam_dict, ignore_index=True)\n"
          ]
        },
        {
          "output_type": "stream",
          "name": "stdout",
          "text": [
            "EvaluatorHoldout: Processed 10030 (100.0%) in 7.20 sec. Users per second: 1393\n"
          ]
        },
        {
          "output_type": "stream",
          "name": "stderr",
          "text": [
            "[I 2023-12-24 17:08:06,861] Trial 98 finished with value: 0.030733185364541536 and parameters: {'alpha': 0.31928822060154616}. Best is trial 57 with value: 0.03083431056038257.\n"
          ]
        },
        {
          "output_type": "stream",
          "name": "stdout",
          "text": [
            "ScoresHybridRecommender: URM Detected 444 ( 3.5%) users with no interactions.\n",
            "ScoresHybridRecommender: URM Detected 338 ( 1.5%) items with no interactions.\n"
          ]
        },
        {
          "output_type": "stream",
          "name": "stderr",
          "text": [
            "<ipython-input-22-650f32a8104f>:10: FutureWarning: The frame.append method is deprecated and will be removed from pandas in a future version. Use pandas.concat instead.\n",
            "  self.results_df = self.results_df.append(hyperparam_dict, ignore_index=True)\n"
          ]
        },
        {
          "output_type": "stream",
          "name": "stdout",
          "text": [
            "EvaluatorHoldout: Processed 10030 (100.0%) in 7.00 sec. Users per second: 1432\n"
          ]
        },
        {
          "output_type": "stream",
          "name": "stderr",
          "text": [
            "[I 2023-12-24 17:08:13,903] Trial 99 finished with value: 0.03079564876798201 and parameters: {'alpha': 0.40435764180615824}. Best is trial 57 with value: 0.03083431056038257.\n",
            "<ipython-input-22-650f32a8104f>:10: FutureWarning: The frame.append method is deprecated and will be removed from pandas in a future version. Use pandas.concat instead.\n",
            "  self.results_df = self.results_df.append(hyperparam_dict, ignore_index=True)\n"
          ]
        }
      ],
      "source": [
        "optuna_study = optuna.create_study(direction=\"maximize\")\n",
        "\n",
        "save_results = SaveResults()\n",
        "\n",
        "optuna_study.optimize(objective_function,\n",
        "                      callbacks=[save_results],\n",
        "                      n_trials = 100)"
      ]
    },
    {
      "cell_type": "code",
      "execution_count": 24,
      "metadata": {
        "id": "GnYKHYt_JXrR",
        "colab": {
          "base_uri": "https://localhost:8080/"
        },
        "outputId": "b07f60fa-2c35-42f7-d510-0eb12ceba2b2"
      },
      "outputs": [
        {
          "output_type": "stream",
          "name": "stdout",
          "text": [
            "Study statistics: \n",
            "  Number of finished trials:  100\n",
            "  Number of pruned trials:  0\n",
            "  Number of complete trials:  100\n",
            "Best trial:\n",
            "  Value Validation:  0.03083431056038257\n"
          ]
        }
      ],
      "source": [
        "pruned_trials = [t for t in optuna_study.trials if t.state == optuna.trial.TrialState.PRUNED]\n",
        "complete_trials = [t for t in optuna_study.trials if t.state == optuna.trial.TrialState.COMPLETE]\n",
        "\n",
        "print(\"Study statistics: \")\n",
        "print(\"  Number of finished trials: \", len(optuna_study.trials))\n",
        "print(\"  Number of pruned trials: \", len(pruned_trials))\n",
        "print(\"  Number of complete trials: \", len(complete_trials))\n",
        "\n",
        "print(\"Best trial:\")\n",
        "print(\"  Value Validation: \", optuna_study.best_trial.value)"
      ]
    },
    {
      "cell_type": "code",
      "execution_count": 25,
      "metadata": {
        "id": "csVh25o-Jh6n",
        "colab": {
          "base_uri": "https://localhost:8080/"
        },
        "outputId": "7ac0bbd1-1e7b-4034-8c02-5206cfd2ed55"
      },
      "outputs": [
        {
          "output_type": "execute_result",
          "data": {
            "text/plain": [
              "FrozenTrial(number=57, state=TrialState.COMPLETE, values=[0.03083431056038257], datetime_start=datetime.datetime(2023, 12, 24, 17, 2, 57, 645601), datetime_complete=datetime.datetime(2023, 12, 24, 17, 3, 4, 956902), params={'alpha': 0.4360593316742256}, user_attrs={}, system_attrs={}, intermediate_values={}, distributions={'alpha': FloatDistribution(high=1.0, log=False, low=0.001, step=None)}, trial_id=57, value=None)"
            ]
          },
          "metadata": {},
          "execution_count": 25
        }
      ],
      "source": [
        "optuna_study.best_trial"
      ]
    },
    {
      "cell_type": "code",
      "execution_count": 26,
      "metadata": {
        "id": "f-Tia32cJjla",
        "colab": {
          "base_uri": "https://localhost:8080/"
        },
        "outputId": "21e0cb52-cebb-4d42-91cb-84d8e00f6b9f"
      },
      "outputs": [
        {
          "output_type": "execute_result",
          "data": {
            "text/plain": [
              "{'alpha': 0.4360593316742256}"
            ]
          },
          "metadata": {},
          "execution_count": 26
        }
      ],
      "source": [
        "optuna_study.best_trial.params"
      ]
    },
    {
      "cell_type": "code",
      "execution_count": 27,
      "metadata": {
        "id": "0h467HKXJlTJ",
        "colab": {
          "base_uri": "https://localhost:8080/",
          "height": 423
        },
        "outputId": "4f390010-7328-4c4f-afc0-e25d4ff84739"
      },
      "outputs": [
        {
          "output_type": "execute_result",
          "data": {
            "text/plain": [
              "      result     alpha\n",
              "0   0.030772  0.545957\n",
              "1   0.030342  0.826620\n",
              "2   0.030362  0.139233\n",
              "3   0.030792  0.404701\n",
              "4   0.029863  0.984109\n",
              "..       ...       ...\n",
              "95  0.030828  0.432439\n",
              "96  0.030819  0.426123\n",
              "97  0.030766  0.375171\n",
              "98  0.030733  0.319288\n",
              "99  0.030796  0.404358\n",
              "\n",
              "[100 rows x 2 columns]"
            ],
            "text/html": [
              "\n",
              "  <div id=\"df-7532fc1d-d188-4842-8145-09b8e176f0ab\" class=\"colab-df-container\">\n",
              "    <div>\n",
              "<style scoped>\n",
              "    .dataframe tbody tr th:only-of-type {\n",
              "        vertical-align: middle;\n",
              "    }\n",
              "\n",
              "    .dataframe tbody tr th {\n",
              "        vertical-align: top;\n",
              "    }\n",
              "\n",
              "    .dataframe thead th {\n",
              "        text-align: right;\n",
              "    }\n",
              "</style>\n",
              "<table border=\"1\" class=\"dataframe\">\n",
              "  <thead>\n",
              "    <tr style=\"text-align: right;\">\n",
              "      <th></th>\n",
              "      <th>result</th>\n",
              "      <th>alpha</th>\n",
              "    </tr>\n",
              "  </thead>\n",
              "  <tbody>\n",
              "    <tr>\n",
              "      <th>0</th>\n",
              "      <td>0.030772</td>\n",
              "      <td>0.545957</td>\n",
              "    </tr>\n",
              "    <tr>\n",
              "      <th>1</th>\n",
              "      <td>0.030342</td>\n",
              "      <td>0.826620</td>\n",
              "    </tr>\n",
              "    <tr>\n",
              "      <th>2</th>\n",
              "      <td>0.030362</td>\n",
              "      <td>0.139233</td>\n",
              "    </tr>\n",
              "    <tr>\n",
              "      <th>3</th>\n",
              "      <td>0.030792</td>\n",
              "      <td>0.404701</td>\n",
              "    </tr>\n",
              "    <tr>\n",
              "      <th>4</th>\n",
              "      <td>0.029863</td>\n",
              "      <td>0.984109</td>\n",
              "    </tr>\n",
              "    <tr>\n",
              "      <th>...</th>\n",
              "      <td>...</td>\n",
              "      <td>...</td>\n",
              "    </tr>\n",
              "    <tr>\n",
              "      <th>95</th>\n",
              "      <td>0.030828</td>\n",
              "      <td>0.432439</td>\n",
              "    </tr>\n",
              "    <tr>\n",
              "      <th>96</th>\n",
              "      <td>0.030819</td>\n",
              "      <td>0.426123</td>\n",
              "    </tr>\n",
              "    <tr>\n",
              "      <th>97</th>\n",
              "      <td>0.030766</td>\n",
              "      <td>0.375171</td>\n",
              "    </tr>\n",
              "    <tr>\n",
              "      <th>98</th>\n",
              "      <td>0.030733</td>\n",
              "      <td>0.319288</td>\n",
              "    </tr>\n",
              "    <tr>\n",
              "      <th>99</th>\n",
              "      <td>0.030796</td>\n",
              "      <td>0.404358</td>\n",
              "    </tr>\n",
              "  </tbody>\n",
              "</table>\n",
              "<p>100 rows × 2 columns</p>\n",
              "</div>\n",
              "    <div class=\"colab-df-buttons\">\n",
              "\n",
              "  <div class=\"colab-df-container\">\n",
              "    <button class=\"colab-df-convert\" onclick=\"convertToInteractive('df-7532fc1d-d188-4842-8145-09b8e176f0ab')\"\n",
              "            title=\"Convert this dataframe to an interactive table.\"\n",
              "            style=\"display:none;\">\n",
              "\n",
              "  <svg xmlns=\"http://www.w3.org/2000/svg\" height=\"24px\" viewBox=\"0 -960 960 960\">\n",
              "    <path d=\"M120-120v-720h720v720H120Zm60-500h600v-160H180v160Zm220 220h160v-160H400v160Zm0 220h160v-160H400v160ZM180-400h160v-160H180v160Zm440 0h160v-160H620v160ZM180-180h160v-160H180v160Zm440 0h160v-160H620v160Z\"/>\n",
              "  </svg>\n",
              "    </button>\n",
              "\n",
              "  <style>\n",
              "    .colab-df-container {\n",
              "      display:flex;\n",
              "      gap: 12px;\n",
              "    }\n",
              "\n",
              "    .colab-df-convert {\n",
              "      background-color: #E8F0FE;\n",
              "      border: none;\n",
              "      border-radius: 50%;\n",
              "      cursor: pointer;\n",
              "      display: none;\n",
              "      fill: #1967D2;\n",
              "      height: 32px;\n",
              "      padding: 0 0 0 0;\n",
              "      width: 32px;\n",
              "    }\n",
              "\n",
              "    .colab-df-convert:hover {\n",
              "      background-color: #E2EBFA;\n",
              "      box-shadow: 0px 1px 2px rgba(60, 64, 67, 0.3), 0px 1px 3px 1px rgba(60, 64, 67, 0.15);\n",
              "      fill: #174EA6;\n",
              "    }\n",
              "\n",
              "    .colab-df-buttons div {\n",
              "      margin-bottom: 4px;\n",
              "    }\n",
              "\n",
              "    [theme=dark] .colab-df-convert {\n",
              "      background-color: #3B4455;\n",
              "      fill: #D2E3FC;\n",
              "    }\n",
              "\n",
              "    [theme=dark] .colab-df-convert:hover {\n",
              "      background-color: #434B5C;\n",
              "      box-shadow: 0px 1px 3px 1px rgba(0, 0, 0, 0.15);\n",
              "      filter: drop-shadow(0px 1px 2px rgba(0, 0, 0, 0.3));\n",
              "      fill: #FFFFFF;\n",
              "    }\n",
              "  </style>\n",
              "\n",
              "    <script>\n",
              "      const buttonEl =\n",
              "        document.querySelector('#df-7532fc1d-d188-4842-8145-09b8e176f0ab button.colab-df-convert');\n",
              "      buttonEl.style.display =\n",
              "        google.colab.kernel.accessAllowed ? 'block' : 'none';\n",
              "\n",
              "      async function convertToInteractive(key) {\n",
              "        const element = document.querySelector('#df-7532fc1d-d188-4842-8145-09b8e176f0ab');\n",
              "        const dataTable =\n",
              "          await google.colab.kernel.invokeFunction('convertToInteractive',\n",
              "                                                    [key], {});\n",
              "        if (!dataTable) return;\n",
              "\n",
              "        const docLinkHtml = 'Like what you see? Visit the ' +\n",
              "          '<a target=\"_blank\" href=https://colab.research.google.com/notebooks/data_table.ipynb>data table notebook</a>'\n",
              "          + ' to learn more about interactive tables.';\n",
              "        element.innerHTML = '';\n",
              "        dataTable['output_type'] = 'display_data';\n",
              "        await google.colab.output.renderOutput(dataTable, element);\n",
              "        const docLink = document.createElement('div');\n",
              "        docLink.innerHTML = docLinkHtml;\n",
              "        element.appendChild(docLink);\n",
              "      }\n",
              "    </script>\n",
              "  </div>\n",
              "\n",
              "\n",
              "<div id=\"df-831e1507-d352-46be-9f24-a57a5761ac2c\">\n",
              "  <button class=\"colab-df-quickchart\" onclick=\"quickchart('df-831e1507-d352-46be-9f24-a57a5761ac2c')\"\n",
              "            title=\"Suggest charts\"\n",
              "            style=\"display:none;\">\n",
              "\n",
              "<svg xmlns=\"http://www.w3.org/2000/svg\" height=\"24px\"viewBox=\"0 0 24 24\"\n",
              "     width=\"24px\">\n",
              "    <g>\n",
              "        <path d=\"M19 3H5c-1.1 0-2 .9-2 2v14c0 1.1.9 2 2 2h14c1.1 0 2-.9 2-2V5c0-1.1-.9-2-2-2zM9 17H7v-7h2v7zm4 0h-2V7h2v10zm4 0h-2v-4h2v4z\"/>\n",
              "    </g>\n",
              "</svg>\n",
              "  </button>\n",
              "\n",
              "<style>\n",
              "  .colab-df-quickchart {\n",
              "      --bg-color: #E8F0FE;\n",
              "      --fill-color: #1967D2;\n",
              "      --hover-bg-color: #E2EBFA;\n",
              "      --hover-fill-color: #174EA6;\n",
              "      --disabled-fill-color: #AAA;\n",
              "      --disabled-bg-color: #DDD;\n",
              "  }\n",
              "\n",
              "  [theme=dark] .colab-df-quickchart {\n",
              "      --bg-color: #3B4455;\n",
              "      --fill-color: #D2E3FC;\n",
              "      --hover-bg-color: #434B5C;\n",
              "      --hover-fill-color: #FFFFFF;\n",
              "      --disabled-bg-color: #3B4455;\n",
              "      --disabled-fill-color: #666;\n",
              "  }\n",
              "\n",
              "  .colab-df-quickchart {\n",
              "    background-color: var(--bg-color);\n",
              "    border: none;\n",
              "    border-radius: 50%;\n",
              "    cursor: pointer;\n",
              "    display: none;\n",
              "    fill: var(--fill-color);\n",
              "    height: 32px;\n",
              "    padding: 0;\n",
              "    width: 32px;\n",
              "  }\n",
              "\n",
              "  .colab-df-quickchart:hover {\n",
              "    background-color: var(--hover-bg-color);\n",
              "    box-shadow: 0 1px 2px rgba(60, 64, 67, 0.3), 0 1px 3px 1px rgba(60, 64, 67, 0.15);\n",
              "    fill: var(--button-hover-fill-color);\n",
              "  }\n",
              "\n",
              "  .colab-df-quickchart-complete:disabled,\n",
              "  .colab-df-quickchart-complete:disabled:hover {\n",
              "    background-color: var(--disabled-bg-color);\n",
              "    fill: var(--disabled-fill-color);\n",
              "    box-shadow: none;\n",
              "  }\n",
              "\n",
              "  .colab-df-spinner {\n",
              "    border: 2px solid var(--fill-color);\n",
              "    border-color: transparent;\n",
              "    border-bottom-color: var(--fill-color);\n",
              "    animation:\n",
              "      spin 1s steps(1) infinite;\n",
              "  }\n",
              "\n",
              "  @keyframes spin {\n",
              "    0% {\n",
              "      border-color: transparent;\n",
              "      border-bottom-color: var(--fill-color);\n",
              "      border-left-color: var(--fill-color);\n",
              "    }\n",
              "    20% {\n",
              "      border-color: transparent;\n",
              "      border-left-color: var(--fill-color);\n",
              "      border-top-color: var(--fill-color);\n",
              "    }\n",
              "    30% {\n",
              "      border-color: transparent;\n",
              "      border-left-color: var(--fill-color);\n",
              "      border-top-color: var(--fill-color);\n",
              "      border-right-color: var(--fill-color);\n",
              "    }\n",
              "    40% {\n",
              "      border-color: transparent;\n",
              "      border-right-color: var(--fill-color);\n",
              "      border-top-color: var(--fill-color);\n",
              "    }\n",
              "    60% {\n",
              "      border-color: transparent;\n",
              "      border-right-color: var(--fill-color);\n",
              "    }\n",
              "    80% {\n",
              "      border-color: transparent;\n",
              "      border-right-color: var(--fill-color);\n",
              "      border-bottom-color: var(--fill-color);\n",
              "    }\n",
              "    90% {\n",
              "      border-color: transparent;\n",
              "      border-bottom-color: var(--fill-color);\n",
              "    }\n",
              "  }\n",
              "</style>\n",
              "\n",
              "  <script>\n",
              "    async function quickchart(key) {\n",
              "      const quickchartButtonEl =\n",
              "        document.querySelector('#' + key + ' button');\n",
              "      quickchartButtonEl.disabled = true;  // To prevent multiple clicks.\n",
              "      quickchartButtonEl.classList.add('colab-df-spinner');\n",
              "      try {\n",
              "        const charts = await google.colab.kernel.invokeFunction(\n",
              "            'suggestCharts', [key], {});\n",
              "      } catch (error) {\n",
              "        console.error('Error during call to suggestCharts:', error);\n",
              "      }\n",
              "      quickchartButtonEl.classList.remove('colab-df-spinner');\n",
              "      quickchartButtonEl.classList.add('colab-df-quickchart-complete');\n",
              "    }\n",
              "    (() => {\n",
              "      let quickchartButtonEl =\n",
              "        document.querySelector('#df-831e1507-d352-46be-9f24-a57a5761ac2c button');\n",
              "      quickchartButtonEl.style.display =\n",
              "        google.colab.kernel.accessAllowed ? 'block' : 'none';\n",
              "    })();\n",
              "  </script>\n",
              "</div>\n",
              "    </div>\n",
              "  </div>\n"
            ]
          },
          "metadata": {},
          "execution_count": 27
        }
      ],
      "source": [
        "save_results.results_df"
      ]
    },
    {
      "cell_type": "code",
      "execution_count": 28,
      "metadata": {
        "id": "gov-BdVTJosA",
        "colab": {
          "base_uri": "https://localhost:8080/",
          "height": 245
        },
        "outputId": "27def27c-cc26-4702-9c10-57f120177e59"
      },
      "outputs": [
        {
          "output_type": "error",
          "ename": "AttributeError",
          "evalue": "ignored",
          "traceback": [
            "\u001b[0;31m---------------------------------------------------------------------------\u001b[0m",
            "\u001b[0;31mAttributeError\u001b[0m                            Traceback (most recent call last)",
            "\u001b[0;32m<ipython-input-28-d20a9f05d52a>\u001b[0m in \u001b[0;36m<cell line: 2>\u001b[0;34m()\u001b[0m\n\u001b[1;32m      1\u001b[0m \u001b[0mrecommender_instance\u001b[0m \u001b[0;34m=\u001b[0m \u001b[0;34m(\u001b[0m\u001b[0mURM_train\u001b[0m \u001b[0;34m+\u001b[0m \u001b[0mURM_validation\u001b[0m\u001b[0;34m)\u001b[0m\u001b[0;34m\u001b[0m\u001b[0;34m\u001b[0m\u001b[0m\n\u001b[0;32m----> 2\u001b[0;31m \u001b[0mrecommender_instance\u001b[0m\u001b[0;34m.\u001b[0m\u001b[0mfit\u001b[0m\u001b[0;34m(\u001b[0m\u001b[0;34m**\u001b[0m\u001b[0moptuna_study\u001b[0m\u001b[0;34m.\u001b[0m\u001b[0mbest_trial\u001b[0m\u001b[0;34m.\u001b[0m\u001b[0mparams\u001b[0m\u001b[0;34m)\u001b[0m\u001b[0;34m\u001b[0m\u001b[0;34m\u001b[0m\u001b[0m\n\u001b[0m\u001b[1;32m      3\u001b[0m \u001b[0;34m\u001b[0m\u001b[0m\n\u001b[1;32m      4\u001b[0m \u001b[0mresult_df\u001b[0m\u001b[0;34m,\u001b[0m \u001b[0m_\u001b[0m \u001b[0;34m=\u001b[0m \u001b[0mevaluator_test\u001b[0m\u001b[0;34m.\u001b[0m\u001b[0mevaluateRecommender\u001b[0m\u001b[0;34m(\u001b[0m\u001b[0mrecommender_instance\u001b[0m\u001b[0;34m)\u001b[0m\u001b[0;34m\u001b[0m\u001b[0;34m\u001b[0m\u001b[0m\n\u001b[1;32m      5\u001b[0m \u001b[0mresult_df\u001b[0m\u001b[0;34m\u001b[0m\u001b[0;34m\u001b[0m\u001b[0m\n",
            "\u001b[0;31mAttributeError\u001b[0m: 'csr_matrix' object has no attribute 'fit'"
          ]
        }
      ],
      "source": [
        "recommender_instance = (URM_train + URM_validation)\n",
        "recommender_instance.fit(**optuna_study.best_trial.params)\n",
        "\n",
        "result_df, _ = evaluator_test.evaluateRecommender(recommender_instance)\n",
        "result_df"
      ]
    },
    {
      "cell_type": "markdown",
      "metadata": {
        "id": "wkZqN4KUy5fI"
      },
      "source": [
        "#Let's submit"
      ]
    },
    {
      "cell_type": "markdown",
      "source": [
        "RP3beta.fit(alpha = 0.30045048565736454, beta=0.15900639335692543, topK=34, implicit = False, normalize_similarity = True) + SLIM_MSE.fit(alpha = 0.0033868445794621033, l1_ratio=2.1304972208263965e-05, topK=36) + alpha = 0.5042400731098166. val:3.09473% submit 13.62%\n",
        "\n",
        "RP3beta.fit(alpha = 0.30045048565736454, beta=0.15900639335692543, topK=34, implicit = False, normalize_similarity = True) + SLIM_MSE.fit(alpha = 0.0026695828861131796, l1_ratio=9.7058223865738e-05, topK=237) + alpha:0.42280199553592035 val: 3.09616% submit:13.801%\n",
        "\n",
        "RP3beta.fit(alpha = 0.3388784009010535, beta=0.177797903368052, topK=30, implicit = False, normalize_similarity = True) + SLIM_MSE.fit(alpha = 0.0026695828861131796, l1_ratio=9.7058223865738e-05, topK=237) + alpha = 0.5616855740532924 val: 3.082% submit: 13.766%\n",
        "\n",
        "RP3beta.fit(alpha = 0.30045048565736454, beta=0.15900639335692543, topK=34, implicit = False, normalize_similarity = True) +\n",
        "SLIM_MSE.fit(alpha = 0.0030080355721395845, l1_ratio=5.495490764642386e-06, topK=207) +  alpha:0.4451229997552284 + val:3.034% submit:13.8%\n",
        "\n",
        "RP3beta.fit(alpha = 0.32572640698412575, beta=0.18217576354665624, topK=31, implicit = False, normalize_similarity = True) + SLIM_MSE.fit(alpha = 0.0026695828861131796, l1_ratio=9.7058223865738e-05, topK=237) + alpha:0.4420834976325743 val3.146% submit: 13.82%\n",
        "\n",
        "RP3beta.fit(alpha = 0.31583032356728813, beta=0.1936831182299878, topK=29, implicit = False, normalize_similarity = True ) + SLIM_MSE.fit(alpha = 0.0026695828861131796, l1_ratio=9.7058223865738e-05, topK=237) + alpha:0.4360593316742256 val:3.0834% submit:\n"
      ],
      "metadata": {
        "id": "vHJSe4NABhVo"
      }
    },
    {
      "cell_type": "code",
      "source": [
        "from Recommenders.GraphBased.RP3betaRecommender import RP3betaRecommender\n",
        "\n",
        "RP3beta = RP3betaRecommender(URM_all)\n",
        "RP3beta.fit(alpha = 0.31583032356728813, beta=0.1936831182299878, topK=29, implicit = False, normalize_similarity = True )"
      ],
      "metadata": {
        "colab": {
          "base_uri": "https://localhost:8080/"
        },
        "outputId": "629e20df-827c-444f-ea04-d2872357a2f4",
        "id": "mR58X1j0y3D_"
      },
      "execution_count": 29,
      "outputs": [
        {
          "output_type": "stream",
          "name": "stdout",
          "text": [
            "RP3betaRecommender: Similarity column 22222 (100.0%), 3919.18 column/sec. Elapsed time 5.67 sec\n"
          ]
        }
      ]
    },
    {
      "cell_type": "code",
      "source": [
        "from Recommenders.SLIM.SLIMElasticNetRecommender import SLIMElasticNetRecommender\n",
        "\n",
        "SLIM_MSE = SLIMElasticNetRecommender(URM_all)\n",
        "SLIM_MSE.fit(alpha = 0.0026695828861131796, l1_ratio=9.7058223865738e-05, topK=237)"
      ],
      "metadata": {
        "colab": {
          "base_uri": "https://localhost:8080/"
        },
        "outputId": "7f98a2c1-9897-4a00-9970-8e784ab54b3c",
        "id": "_b_W2Vncy7v_"
      },
      "execution_count": 30,
      "outputs": [
        {
          "output_type": "stream",
          "name": "stdout",
          "text": [
            "SLIMElasticNetRecommender: Processed 10610 (47.7%) in 5.00 min. Items per second: 35.36\n",
            "SLIMElasticNetRecommender: Processed 22222 (100.0%) in 10.00 min. Items per second: 37.04\n"
          ]
        }
      ]
    },
    {
      "cell_type": "code",
      "source": [
        "from Recommenders.GraphBased.RP3betaRecommender import RP3betaRecommender\n",
        "from Recommenders.SLIM.SLIMElasticNetRecommender import SLIMElasticNetRecommender\n"
      ],
      "metadata": {
        "id": "Or6za0DVXgWC"
      },
      "execution_count": 31,
      "outputs": []
    },
    {
      "cell_type": "code",
      "source": [
        "#{'alpha_S': 0.0018039635745485064, 'alpha_R': 0.0034513779391265736, 'beta': 0.9111983209661509, 'topK_S': 187, 'topK_R': 93, 'l1_ratio': 9.371084323801284e-05, 'alpha': 0.2838202981991156}.\n",
        "\n",
        "recommender = ScoresHybridRecommender(URM_all, RP3beta, SLIM_MSE)\n",
        "recommender.fit(0.4360593316742256)"
      ],
      "metadata": {
        "id": "QL6Vn_0gtxJ0"
      },
      "execution_count": 32,
      "outputs": []
    },
    {
      "cell_type": "code",
      "execution_count": 33,
      "metadata": {
        "colab": {
          "base_uri": "https://localhost:8080/"
        },
        "id": "PlJi16R8FJdj",
        "outputId": "3c18e681-f1fc-4732-f90c-069d77bd9b34",
        "scrolled": true
      },
      "outputs": [
        {
          "output_type": "execute_result",
          "data": {
            "text/plain": [
              "10882"
            ]
          },
          "metadata": {},
          "execution_count": 33
        }
      ],
      "source": [
        "users_to_recommend_raw = pd.read_csv(filepath_or_buffer=\"/gdrive/My Drive/libs/data_target_users_test.csv\",\n",
        "                   sep=\",\",\n",
        "                  dtype={\"user_id\": np.int32}).to_numpy()\n",
        "users_to_recommend = []\n",
        "for elem in users_to_recommend_raw:\n",
        "  users_to_recommend.append(elem[0])\n",
        "\n",
        "len(users_to_recommend)"
      ]
    },
    {
      "cell_type": "code",
      "execution_count": 34,
      "metadata": {
        "colab": {
          "base_uri": "https://localhost:8080/"
        },
        "id": "qBohtnuMX75J",
        "outputId": "a2ae8eb0-0809-4a85-8ff2-9e5e6aadf3c7"
      },
      "outputs": [
        {
          "output_type": "execute_result",
          "data": {
            "text/plain": [
              "(478730, 3)"
            ]
          },
          "metadata": {},
          "execution_count": 34
        }
      ],
      "source": [
        "ratings = pd.read_csv(\"/gdrive/My Drive/libs/data_train2.csv\",\n",
        "                       sep=\",\",\n",
        "                       names=[\"user_id\", \"item_id\", \"ratings\"],\n",
        "                       header=None,\n",
        "                       dtype={\"user_id\": np.int64,\n",
        "                               \"item_id\": np.int64,\n",
        "                               \"ratings\": np.int64})\n",
        "ratings.shape"
      ]
    },
    {
      "cell_type": "code",
      "execution_count": 35,
      "metadata": {
        "id": "7gxKp7l94O2_"
      },
      "outputs": [],
      "source": [
        "def preprocess_data(ratings: pd.DataFrame):\n",
        "    unique_users = ratings.user_id.unique()\n",
        "    unique_items = ratings.item_id.unique()\n",
        "\n",
        "    num_users, min_user_id, max_user_id = unique_users.size, unique_users.min(), unique_users.max()\n",
        "    num_items, min_item_id, max_item_id = unique_items.size, unique_items.min(), unique_items.max()\n",
        "\n",
        "    print(num_users, min_user_id, max_user_id)\n",
        "    print(num_items, min_item_id, max_item_id)\n",
        "\n",
        "    mapping_user_id = pd.DataFrame({\"mapped_user_id\": np.arange(num_users), \"user_id\": unique_users})\n",
        "    mapping_item_id = pd.DataFrame({\"mapped_item_id\": np.arange(num_items), \"item_id\": unique_items})\n",
        "\n",
        "    ratings = pd.merge(left=ratings,\n",
        "                       right=mapping_user_id,\n",
        "                       how=\"inner\",\n",
        "                       on=\"user_id\")\n",
        "\n",
        "    ratings = pd.merge(left=ratings,\n",
        "                       right=mapping_item_id,\n",
        "                       how=\"inner\",\n",
        "                       on=\"item_id\")\n",
        "\n",
        "    return ratings\n"
      ]
    },
    {
      "cell_type": "code",
      "execution_count": 36,
      "metadata": {
        "colab": {
          "base_uri": "https://localhost:8080/"
        },
        "id": "i7aBsFwFYWq6",
        "outputId": "d768df30-2f7e-4880-dbae-cb343ef23fc0"
      },
      "outputs": [
        {
          "output_type": "stream",
          "name": "stdout",
          "text": [
            "12638 1 13024\n",
            "22222 1 22347\n"
          ]
        }
      ],
      "source": [
        "ratings = preprocess_data(ratings)"
      ]
    },
    {
      "cell_type": "code",
      "execution_count": 37,
      "metadata": {
        "colab": {
          "base_uri": "https://localhost:8080/",
          "height": 423
        },
        "id": "7NhomrBUFJdk",
        "outputId": "428cb679-a638-4746-c14e-b7f797d2db3f"
      },
      "outputs": [
        {
          "output_type": "execute_result",
          "data": {
            "text/plain": [
              "        user_id  mapped_user_id\n",
              "0             1               0\n",
              "1             2               1\n",
              "2            26              24\n",
              "3            36              34\n",
              "4            41              39\n",
              "...         ...             ...\n",
              "469974     9966            9677\n",
              "470088    11525           11196\n",
              "471697    11994           11649\n",
              "476929    10065            9773\n",
              "478118     8646            8401\n",
              "\n",
              "[10661 rows x 2 columns]"
            ],
            "text/html": [
              "\n",
              "  <div id=\"df-bb3f8244-337e-4d42-b7a6-bc4b89ac6498\" class=\"colab-df-container\">\n",
              "    <div>\n",
              "<style scoped>\n",
              "    .dataframe tbody tr th:only-of-type {\n",
              "        vertical-align: middle;\n",
              "    }\n",
              "\n",
              "    .dataframe tbody tr th {\n",
              "        vertical-align: top;\n",
              "    }\n",
              "\n",
              "    .dataframe thead th {\n",
              "        text-align: right;\n",
              "    }\n",
              "</style>\n",
              "<table border=\"1\" class=\"dataframe\">\n",
              "  <thead>\n",
              "    <tr style=\"text-align: right;\">\n",
              "      <th></th>\n",
              "      <th>user_id</th>\n",
              "      <th>mapped_user_id</th>\n",
              "    </tr>\n",
              "  </thead>\n",
              "  <tbody>\n",
              "    <tr>\n",
              "      <th>0</th>\n",
              "      <td>1</td>\n",
              "      <td>0</td>\n",
              "    </tr>\n",
              "    <tr>\n",
              "      <th>1</th>\n",
              "      <td>2</td>\n",
              "      <td>1</td>\n",
              "    </tr>\n",
              "    <tr>\n",
              "      <th>2</th>\n",
              "      <td>26</td>\n",
              "      <td>24</td>\n",
              "    </tr>\n",
              "    <tr>\n",
              "      <th>3</th>\n",
              "      <td>36</td>\n",
              "      <td>34</td>\n",
              "    </tr>\n",
              "    <tr>\n",
              "      <th>4</th>\n",
              "      <td>41</td>\n",
              "      <td>39</td>\n",
              "    </tr>\n",
              "    <tr>\n",
              "      <th>...</th>\n",
              "      <td>...</td>\n",
              "      <td>...</td>\n",
              "    </tr>\n",
              "    <tr>\n",
              "      <th>469974</th>\n",
              "      <td>9966</td>\n",
              "      <td>9677</td>\n",
              "    </tr>\n",
              "    <tr>\n",
              "      <th>470088</th>\n",
              "      <td>11525</td>\n",
              "      <td>11196</td>\n",
              "    </tr>\n",
              "    <tr>\n",
              "      <th>471697</th>\n",
              "      <td>11994</td>\n",
              "      <td>11649</td>\n",
              "    </tr>\n",
              "    <tr>\n",
              "      <th>476929</th>\n",
              "      <td>10065</td>\n",
              "      <td>9773</td>\n",
              "    </tr>\n",
              "    <tr>\n",
              "      <th>478118</th>\n",
              "      <td>8646</td>\n",
              "      <td>8401</td>\n",
              "    </tr>\n",
              "  </tbody>\n",
              "</table>\n",
              "<p>10661 rows × 2 columns</p>\n",
              "</div>\n",
              "    <div class=\"colab-df-buttons\">\n",
              "\n",
              "  <div class=\"colab-df-container\">\n",
              "    <button class=\"colab-df-convert\" onclick=\"convertToInteractive('df-bb3f8244-337e-4d42-b7a6-bc4b89ac6498')\"\n",
              "            title=\"Convert this dataframe to an interactive table.\"\n",
              "            style=\"display:none;\">\n",
              "\n",
              "  <svg xmlns=\"http://www.w3.org/2000/svg\" height=\"24px\" viewBox=\"0 -960 960 960\">\n",
              "    <path d=\"M120-120v-720h720v720H120Zm60-500h600v-160H180v160Zm220 220h160v-160H400v160Zm0 220h160v-160H400v160ZM180-400h160v-160H180v160Zm440 0h160v-160H620v160ZM180-180h160v-160H180v160Zm440 0h160v-160H620v160Z\"/>\n",
              "  </svg>\n",
              "    </button>\n",
              "\n",
              "  <style>\n",
              "    .colab-df-container {\n",
              "      display:flex;\n",
              "      gap: 12px;\n",
              "    }\n",
              "\n",
              "    .colab-df-convert {\n",
              "      background-color: #E8F0FE;\n",
              "      border: none;\n",
              "      border-radius: 50%;\n",
              "      cursor: pointer;\n",
              "      display: none;\n",
              "      fill: #1967D2;\n",
              "      height: 32px;\n",
              "      padding: 0 0 0 0;\n",
              "      width: 32px;\n",
              "    }\n",
              "\n",
              "    .colab-df-convert:hover {\n",
              "      background-color: #E2EBFA;\n",
              "      box-shadow: 0px 1px 2px rgba(60, 64, 67, 0.3), 0px 1px 3px 1px rgba(60, 64, 67, 0.15);\n",
              "      fill: #174EA6;\n",
              "    }\n",
              "\n",
              "    .colab-df-buttons div {\n",
              "      margin-bottom: 4px;\n",
              "    }\n",
              "\n",
              "    [theme=dark] .colab-df-convert {\n",
              "      background-color: #3B4455;\n",
              "      fill: #D2E3FC;\n",
              "    }\n",
              "\n",
              "    [theme=dark] .colab-df-convert:hover {\n",
              "      background-color: #434B5C;\n",
              "      box-shadow: 0px 1px 3px 1px rgba(0, 0, 0, 0.15);\n",
              "      filter: drop-shadow(0px 1px 2px rgba(0, 0, 0, 0.3));\n",
              "      fill: #FFFFFF;\n",
              "    }\n",
              "  </style>\n",
              "\n",
              "    <script>\n",
              "      const buttonEl =\n",
              "        document.querySelector('#df-bb3f8244-337e-4d42-b7a6-bc4b89ac6498 button.colab-df-convert');\n",
              "      buttonEl.style.display =\n",
              "        google.colab.kernel.accessAllowed ? 'block' : 'none';\n",
              "\n",
              "      async function convertToInteractive(key) {\n",
              "        const element = document.querySelector('#df-bb3f8244-337e-4d42-b7a6-bc4b89ac6498');\n",
              "        const dataTable =\n",
              "          await google.colab.kernel.invokeFunction('convertToInteractive',\n",
              "                                                    [key], {});\n",
              "        if (!dataTable) return;\n",
              "\n",
              "        const docLinkHtml = 'Like what you see? Visit the ' +\n",
              "          '<a target=\"_blank\" href=https://colab.research.google.com/notebooks/data_table.ipynb>data table notebook</a>'\n",
              "          + ' to learn more about interactive tables.';\n",
              "        element.innerHTML = '';\n",
              "        dataTable['output_type'] = 'display_data';\n",
              "        await google.colab.output.renderOutput(dataTable, element);\n",
              "        const docLink = document.createElement('div');\n",
              "        docLink.innerHTML = docLinkHtml;\n",
              "        element.appendChild(docLink);\n",
              "      }\n",
              "    </script>\n",
              "  </div>\n",
              "\n",
              "\n",
              "<div id=\"df-f5185cb6-7f87-4f26-96c6-fb11741a9f02\">\n",
              "  <button class=\"colab-df-quickchart\" onclick=\"quickchart('df-f5185cb6-7f87-4f26-96c6-fb11741a9f02')\"\n",
              "            title=\"Suggest charts\"\n",
              "            style=\"display:none;\">\n",
              "\n",
              "<svg xmlns=\"http://www.w3.org/2000/svg\" height=\"24px\"viewBox=\"0 0 24 24\"\n",
              "     width=\"24px\">\n",
              "    <g>\n",
              "        <path d=\"M19 3H5c-1.1 0-2 .9-2 2v14c0 1.1.9 2 2 2h14c1.1 0 2-.9 2-2V5c0-1.1-.9-2-2-2zM9 17H7v-7h2v7zm4 0h-2V7h2v10zm4 0h-2v-4h2v4z\"/>\n",
              "    </g>\n",
              "</svg>\n",
              "  </button>\n",
              "\n",
              "<style>\n",
              "  .colab-df-quickchart {\n",
              "      --bg-color: #E8F0FE;\n",
              "      --fill-color: #1967D2;\n",
              "      --hover-bg-color: #E2EBFA;\n",
              "      --hover-fill-color: #174EA6;\n",
              "      --disabled-fill-color: #AAA;\n",
              "      --disabled-bg-color: #DDD;\n",
              "  }\n",
              "\n",
              "  [theme=dark] .colab-df-quickchart {\n",
              "      --bg-color: #3B4455;\n",
              "      --fill-color: #D2E3FC;\n",
              "      --hover-bg-color: #434B5C;\n",
              "      --hover-fill-color: #FFFFFF;\n",
              "      --disabled-bg-color: #3B4455;\n",
              "      --disabled-fill-color: #666;\n",
              "  }\n",
              "\n",
              "  .colab-df-quickchart {\n",
              "    background-color: var(--bg-color);\n",
              "    border: none;\n",
              "    border-radius: 50%;\n",
              "    cursor: pointer;\n",
              "    display: none;\n",
              "    fill: var(--fill-color);\n",
              "    height: 32px;\n",
              "    padding: 0;\n",
              "    width: 32px;\n",
              "  }\n",
              "\n",
              "  .colab-df-quickchart:hover {\n",
              "    background-color: var(--hover-bg-color);\n",
              "    box-shadow: 0 1px 2px rgba(60, 64, 67, 0.3), 0 1px 3px 1px rgba(60, 64, 67, 0.15);\n",
              "    fill: var(--button-hover-fill-color);\n",
              "  }\n",
              "\n",
              "  .colab-df-quickchart-complete:disabled,\n",
              "  .colab-df-quickchart-complete:disabled:hover {\n",
              "    background-color: var(--disabled-bg-color);\n",
              "    fill: var(--disabled-fill-color);\n",
              "    box-shadow: none;\n",
              "  }\n",
              "\n",
              "  .colab-df-spinner {\n",
              "    border: 2px solid var(--fill-color);\n",
              "    border-color: transparent;\n",
              "    border-bottom-color: var(--fill-color);\n",
              "    animation:\n",
              "      spin 1s steps(1) infinite;\n",
              "  }\n",
              "\n",
              "  @keyframes spin {\n",
              "    0% {\n",
              "      border-color: transparent;\n",
              "      border-bottom-color: var(--fill-color);\n",
              "      border-left-color: var(--fill-color);\n",
              "    }\n",
              "    20% {\n",
              "      border-color: transparent;\n",
              "      border-left-color: var(--fill-color);\n",
              "      border-top-color: var(--fill-color);\n",
              "    }\n",
              "    30% {\n",
              "      border-color: transparent;\n",
              "      border-left-color: var(--fill-color);\n",
              "      border-top-color: var(--fill-color);\n",
              "      border-right-color: var(--fill-color);\n",
              "    }\n",
              "    40% {\n",
              "      border-color: transparent;\n",
              "      border-right-color: var(--fill-color);\n",
              "      border-top-color: var(--fill-color);\n",
              "    }\n",
              "    60% {\n",
              "      border-color: transparent;\n",
              "      border-right-color: var(--fill-color);\n",
              "    }\n",
              "    80% {\n",
              "      border-color: transparent;\n",
              "      border-right-color: var(--fill-color);\n",
              "      border-bottom-color: var(--fill-color);\n",
              "    }\n",
              "    90% {\n",
              "      border-color: transparent;\n",
              "      border-bottom-color: var(--fill-color);\n",
              "    }\n",
              "  }\n",
              "</style>\n",
              "\n",
              "  <script>\n",
              "    async function quickchart(key) {\n",
              "      const quickchartButtonEl =\n",
              "        document.querySelector('#' + key + ' button');\n",
              "      quickchartButtonEl.disabled = true;  // To prevent multiple clicks.\n",
              "      quickchartButtonEl.classList.add('colab-df-spinner');\n",
              "      try {\n",
              "        const charts = await google.colab.kernel.invokeFunction(\n",
              "            'suggestCharts', [key], {});\n",
              "      } catch (error) {\n",
              "        console.error('Error during call to suggestCharts:', error);\n",
              "      }\n",
              "      quickchartButtonEl.classList.remove('colab-df-spinner');\n",
              "      quickchartButtonEl.classList.add('colab-df-quickchart-complete');\n",
              "    }\n",
              "    (() => {\n",
              "      let quickchartButtonEl =\n",
              "        document.querySelector('#df-f5185cb6-7f87-4f26-96c6-fb11741a9f02 button');\n",
              "      quickchartButtonEl.style.display =\n",
              "        google.colab.kernel.accessAllowed ? 'block' : 'none';\n",
              "    })();\n",
              "  </script>\n",
              "</div>\n",
              "    </div>\n",
              "  </div>\n"
            ]
          },
          "metadata": {},
          "execution_count": 37
        }
      ],
      "source": [
        "users_ids_and_mappings = ratings[ratings.user_id.isin(users_to_recommend)][[\"user_id\", \"mapped_user_id\"]].drop_duplicates()\n",
        "items_ids_and_mappings = ratings[[\"item_id\", \"mapped_item_id\"]].drop_duplicates()\n",
        "users_ids_and_mappings"
      ]
    },
    {
      "cell_type": "code",
      "execution_count": 38,
      "metadata": {
        "id": "e4nw5jXk0gQ2"
      },
      "outputs": [],
      "source": [
        "def prepare_submission(ratings: pd.DataFrame, users_to_recommend: np.array, urm_train: sps.csr_matrix):\n",
        "    users_ids_and_mappings = ratings[ratings.user_id.isin(users_to_recommend)][[\"user_id\", \"mapped_user_id\"]].drop_duplicates()\n",
        "    items_ids_and_mappings = ratings[[\"item_id\", \"mapped_item_id\"]].drop_duplicates()\n",
        "\n",
        "    mapping_to_item_id = dict(zip(ratings.mapped_item_id, ratings.item_id))\n",
        "\n",
        "\n",
        "    recommendation_length = 10\n",
        "    submission = []\n",
        "    for idx, row in users_ids_and_mappings.iterrows():\n",
        "        user_id = row.user_id\n",
        "        mapped_user_id = row.mapped_user_id\n",
        "        recommendations = recommender.recommend(mapped_user_id,recommendation_length)\n",
        "        submission.append((user_id, [mapping_to_item_id[item_id] for item_id in recommendations]))\n",
        "\n",
        "    users_recommended = [elem[0] for elem in submission]\n",
        "\n",
        "    missing_users = []\n",
        "\n",
        "    top10 = [2, 4, 1, 7, 3, 6, 8, 9, 15, 20]  #con remove seen = False\n",
        "    for elem in users_to_recommend:\n",
        "      if elem not in users_recommended:\n",
        "        missing_users.append(elem)\n",
        "\n",
        "    for i in range(len(missing_users)):\n",
        "      missing_users[i] = (missing_users[i], [mapping_to_item_id[top10[elem]] for elem in range(10)])\n",
        "\n",
        "    return submission, missing_users"
      ]
    },
    {
      "cell_type": "code",
      "execution_count": 39,
      "metadata": {
        "colab": {
          "base_uri": "https://localhost:8080/"
        },
        "id": "BMKrl9xe0kYE",
        "outputId": "a9a0d1e0-3f02-49d7-d530-6710185c5cd0"
      },
      "outputs": [
        {
          "output_type": "execute_result",
          "data": {
            "text/plain": [
              "(10661, 221)"
            ]
          },
          "metadata": {},
          "execution_count": 39
        }
      ],
      "source": [
        "URM_train = URM_all.tocsr()\n",
        "submission, missing_users = prepare_submission(ratings, users_to_recommend, URM_all)\n",
        "len(submission), len(missing_users)\n"
      ]
    },
    {
      "cell_type": "code",
      "execution_count": 40,
      "metadata": {
        "colab": {
          "base_uri": "https://localhost:8080/"
        },
        "id": "Yuh9Lv77bvZD",
        "outputId": "1e60ec5d-c0df-4027-8c04-05e10a2efef7"
      },
      "outputs": [
        {
          "output_type": "execute_result",
          "data": {
            "text/plain": [
              "10882"
            ]
          },
          "metadata": {},
          "execution_count": 40
        }
      ],
      "source": [
        "submission = submission + missing_users\n",
        "len(submission)"
      ]
    },
    {
      "cell_type": "code",
      "execution_count": 41,
      "metadata": {
        "id": "0usgGqw-hovW"
      },
      "outputs": [],
      "source": [
        "submission.sort()"
      ]
    },
    {
      "cell_type": "code",
      "execution_count": 42,
      "metadata": {
        "id": "u2PzTxSkFJdn"
      },
      "outputs": [],
      "source": [
        "def write_submission(submissions):\n",
        "    with open(\"./Hybrid_12.csv\", \"w\") as f:\n",
        "        f.write(\"user_id,item_list\\n\")\n",
        "        for user_id, items in submissions:\n",
        "          f.write(f\"{user_id},{' '.join(str(item) for item in items)}\\n\")\n",
        "\n"
      ]
    },
    {
      "cell_type": "code",
      "execution_count": 43,
      "metadata": {
        "id": "IKor4geCMMal"
      },
      "outputs": [],
      "source": [
        "write_submission(submission)"
      ]
    },
    {
      "cell_type": "code",
      "source": [],
      "metadata": {
        "id": "wBeIoEBYXUUm"
      },
      "execution_count": null,
      "outputs": []
    }
  ]
}