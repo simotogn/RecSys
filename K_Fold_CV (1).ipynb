{
  "cells": [
    {
      "cell_type": "code",
      "execution_count": 19,
      "metadata": {
        "colab": {
          "base_uri": "https://localhost:8080/"
        },
        "id": "zrnSgXTC7Ta2",
        "outputId": "c1b361ed-0358-4503-e704-f08e2879fd6d"
      },
      "outputs": [
        {
          "output_type": "stream",
          "name": "stdout",
          "text": [
            "Drive already mounted at /gdrive; to attempt to forcibly remount, call drive.mount(\"/gdrive\", force_remount=True).\n",
            "/gdrive/My Drive/libs\n"
          ]
        }
      ],
      "source": [
        "from google.colab import drive\n",
        "drive.mount('/gdrive')\n",
        "%cd /gdrive/My Drive/libs"
      ]
    },
    {
      "cell_type": "code",
      "execution_count": 20,
      "metadata": {
        "id": "b5PWgH2tlp6Q"
      },
      "outputs": [],
      "source": [
        "%matplotlib inline\n",
        "import numpy as np\n",
        "import scipy as sp\n",
        "import scipy.sparse as sps\n",
        "import matplotlib.pyplot as plt\n",
        "import random\n",
        "from scipy import stats\n",
        "from scipy.optimize import fmin\n",
        "import pandas as pd"
      ]
    },
    {
      "cell_type": "code",
      "execution_count": 21,
      "metadata": {
        "colab": {
          "base_uri": "https://localhost:8080/"
        },
        "id": "SFjvXfG_sJqe",
        "outputId": "2571c476-dc8b-4704-d6a1-5efd4182b9e3"
      },
      "outputs": [
        {
          "output_type": "stream",
          "name": "stdout",
          "text": [
            "Warning: 222 (1.76 %) of 12638 users have no train items\n",
            "Warning: 2177 (17.23 %) of 12638 users have no sampled items\n",
            "Warning: 1047 (8.28 %) of 12638 users have no train items\n",
            "Warning: 1043 (8.25 %) of 12638 users have no sampled items\n",
            "Warning: 2159 (17.08 %) of 12638 users have no train items\n",
            "Warning: 2145 (16.97 %) of 12638 users have no sampled items\n",
            "Warning: 2153 (17.04 %) of 12638 users have no train items\n",
            "Warning: 2196 (17.38 %) of 12638 users have no sampled items\n"
          ]
        },
        {
          "output_type": "execute_result",
          "data": {
            "text/plain": [
              "(<12638x22222 sparse matrix of type '<class 'numpy.float64'>'\n",
              " \twith 478730 stored elements in COOrdinate format>,\n",
              " <12638x22222 sparse matrix of type '<class 'numpy.float64'>'\n",
              " \twith 95746 stored elements in Compressed Sparse Row format>,\n",
              " <12638x22222 sparse matrix of type '<class 'numpy.float64'>'\n",
              " \twith 95746 stored elements in Compressed Sparse Row format>,\n",
              " <12638x22222 sparse matrix of type '<class 'numpy.float64'>'\n",
              " \twith 95746 stored elements in Compressed Sparse Row format>,\n",
              " <12638x22222 sparse matrix of type '<class 'numpy.float64'>'\n",
              " \twith 95746 stored elements in Compressed Sparse Row format>,\n",
              " <12638x22222 sparse matrix of type '<class 'numpy.float64'>'\n",
              " \twith 95746 stored elements in Compressed Sparse Row format>)"
            ]
          },
          "metadata": {},
          "execution_count": 21
        }
      ],
      "source": [
        "from Data_manager.split_functions.split_train_validation_random_holdout import split_train_in_two_percentage_global_sample\n",
        "\n",
        "data = pd.read_csv(filepath_or_buffer=\"data_train.csv\",\n",
        "                   sep=\",\")\n",
        "data.columns = [\"UserID\", \"ItemID\", \"Interaction\"]\n",
        "\n",
        "mapped_id, original_id = pd.factorize(data[\"UserID\"].unique())\n",
        "user_original_ID_to_index = pd.Series(mapped_id, index=original_id)\n",
        "\n",
        "mapped_id, original_id = pd.factorize(data[\"ItemID\"].unique())\n",
        "item_original_ID_to_index = pd.Series(mapped_id, index=original_id)\n",
        "\n",
        "data[\"UserID\"] = data[\"UserID\"].map(user_original_ID_to_index)\n",
        "data[\"ItemID\"] = data[\"ItemID\"].map(item_original_ID_to_index)\n",
        "\n",
        "\n",
        "URM_all = sps.coo_matrix((data[\"Interaction\"].values,\n",
        "                          (data[\"UserID\"].values, data[\"ItemID\"].values)))\n",
        "\n",
        "URM_all.tocsr()\n",
        "\n",
        "URM_split_1, URM_fold_1 = split_train_in_two_percentage_global_sample(URM_all, train_percentage = 0.8)\n",
        "URM_split_2, URM_split_3 = split_train_in_two_percentage_global_sample(URM_split_1, train_percentage = 0.5)\n",
        "URM_fold_2, URM_fold_3 = split_train_in_two_percentage_global_sample(URM_split_2, train_percentage = 0.5)\n",
        "URM_fold_4, URM_fold_5 = split_train_in_two_percentage_global_sample(URM_split_3, train_percentage = 0.5)\n",
        "\n",
        "URM_all, URM_fold_1, URM_fold_2, URM_fold_3, URM_fold_4, URM_fold_5"
      ]
    },
    {
      "cell_type": "markdown",
      "metadata": {
        "id": "cF4rt92tHtmY"
      },
      "source": [
        "#Try Hyperparameter tuning with Optuna"
      ]
    },
    {
      "cell_type": "code",
      "execution_count": 22,
      "metadata": {
        "colab": {
          "base_uri": "https://localhost:8080/"
        },
        "id": "lbmY3jWlI0CL",
        "outputId": "ca4c24f6-b606-4f53-b5cc-d6b894939cf9"
      },
      "outputs": [
        {
          "output_type": "stream",
          "name": "stdout",
          "text": [
            "Requirement already satisfied: optuna in /usr/local/lib/python3.10/dist-packages (3.5.0)\n",
            "Requirement already satisfied: alembic>=1.5.0 in /usr/local/lib/python3.10/dist-packages (from optuna) (1.13.1)\n",
            "Requirement already satisfied: colorlog in /usr/local/lib/python3.10/dist-packages (from optuna) (6.8.0)\n",
            "Requirement already satisfied: numpy in /usr/local/lib/python3.10/dist-packages (from optuna) (1.23.5)\n",
            "Requirement already satisfied: packaging>=20.0 in /usr/local/lib/python3.10/dist-packages (from optuna) (23.2)\n",
            "Requirement already satisfied: sqlalchemy>=1.3.0 in /usr/local/lib/python3.10/dist-packages (from optuna) (2.0.23)\n",
            "Requirement already satisfied: tqdm in /usr/local/lib/python3.10/dist-packages (from optuna) (4.66.1)\n",
            "Requirement already satisfied: PyYAML in /usr/local/lib/python3.10/dist-packages (from optuna) (6.0.1)\n",
            "Requirement already satisfied: Mako in /usr/local/lib/python3.10/dist-packages (from alembic>=1.5.0->optuna) (1.3.0)\n",
            "Requirement already satisfied: typing-extensions>=4 in /usr/local/lib/python3.10/dist-packages (from alembic>=1.5.0->optuna) (4.5.0)\n",
            "Requirement already satisfied: greenlet!=0.4.17 in /usr/local/lib/python3.10/dist-packages (from sqlalchemy>=1.3.0->optuna) (3.0.2)\n",
            "Requirement already satisfied: MarkupSafe>=0.9.2 in /usr/local/lib/python3.10/dist-packages (from Mako->alembic>=1.5.0->optuna) (2.1.3)\n"
          ]
        }
      ],
      "source": [
        " pip install optuna"
      ]
    },
    {
      "cell_type": "code",
      "execution_count": 23,
      "metadata": {
        "colab": {
          "base_uri": "https://localhost:8080/"
        },
        "id": "nKZwWj3NJbUp",
        "outputId": "751fd628-b76e-4ef3-9f93-735021f7a4a2"
      },
      "outputs": [
        {
          "output_type": "stream",
          "name": "stdout",
          "text": [
            "EvaluatorHoldout: Ignoring 2177 (17.2%) Users that have less than 1 test interactions\n",
            "EvaluatorHoldout: Ignoring 2159 (17.1%) Users that have less than 1 test interactions\n",
            "EvaluatorHoldout: Ignoring 2145 (17.0%) Users that have less than 1 test interactions\n",
            "EvaluatorHoldout: Ignoring 2153 (17.0%) Users that have less than 1 test interactions\n",
            "EvaluatorHoldout: Ignoring 2196 (17.4%) Users that have less than 1 test interactions\n"
          ]
        }
      ],
      "source": [
        "from Evaluation.Evaluator import EvaluatorHoldout\n",
        "from Recommenders.SLIM.SLIMElasticNetRecommender import SLIMElasticNetRecommender\n",
        "from Recommenders.GraphBased.RP3betaRecommender import RP3betaRecommender\n",
        "\n",
        "\n",
        "\n",
        "evaluator_1 = EvaluatorHoldout(URM_fold_1, cutoff_list=[10])\n",
        "evaluator_2 = EvaluatorHoldout(URM_fold_2, cutoff_list=[10])\n",
        "evaluator_3 = EvaluatorHoldout(URM_fold_3, cutoff_list=[10])\n",
        "evaluator_4 = EvaluatorHoldout(URM_fold_4, cutoff_list=[10])\n",
        "evaluator_5 = EvaluatorHoldout(URM_fold_5, cutoff_list=[10])"
      ]
    },
    {
      "cell_type": "code",
      "execution_count": 24,
      "metadata": {
        "colab": {
          "base_uri": "https://localhost:8080/",
          "height": 231
        },
        "id": "zAaYB7gi4Xx3",
        "outputId": "414d23a1-e994-4980-86e7-3b52c7637da3"
      },
      "outputs": [
        {
          "output_type": "stream",
          "name": "stdout",
          "text": [
            "RP3betaRecommender: URM Detected 218 ( 1.7%) users with no interactions.\n",
            "RP3betaRecommender: URM Detected 104 ( 0.5%) items with no interactions.\n",
            "RP3betaRecommender: Similarity column 22222 (100.0%), 2266.02 column/sec. Elapsed time 9.81 sec\n",
            "EvaluatorHoldout: Processed 10479 (100.0%) in 7.45 sec. Users per second: 1407\n"
          ]
        },
        {
          "output_type": "execute_result",
          "data": {
            "text/plain": [
              "       PRECISION PRECISION_RECALL_MIN_DEN    RECALL       MAP MAP_MIN_DEN  \\\n",
              "cutoff                                                                      \n",
              "10      0.092232                  0.16196  0.137118  0.046416    0.081349   \n",
              "\n",
              "             MRR      NDCG        F1  HIT_RATE ARHR_ALL_HITS  ...  \\\n",
              "cutoff                                                        ...   \n",
              "10      0.261286  0.146656  0.110283  0.513026      0.343711  ...   \n",
              "\n",
              "       COVERAGE_USER COVERAGE_USER_HIT USERS_IN_GT DIVERSITY_GINI  \\\n",
              "cutoff                                                              \n",
              "10          0.829166          0.425384    0.829166       0.070819   \n",
              "\n",
              "       SHANNON_ENTROPY RATIO_DIVERSITY_HERFINDAHL RATIO_DIVERSITY_GINI  \\\n",
              "cutoff                                                                   \n",
              "10           10.133721                   0.996471             0.203248   \n",
              "\n",
              "       RATIO_SHANNON_ENTROPY RATIO_AVERAGE_POPULARITY RATIO_NOVELTY  \n",
              "cutoff                                                               \n",
              "10                  0.780664                 2.013666      0.288264  \n",
              "\n",
              "[1 rows x 27 columns]"
            ],
            "text/html": [
              "\n",
              "  <div id=\"df-4e14610d-1682-4691-a768-03e2b370ed86\" class=\"colab-df-container\">\n",
              "    <div>\n",
              "<style scoped>\n",
              "    .dataframe tbody tr th:only-of-type {\n",
              "        vertical-align: middle;\n",
              "    }\n",
              "\n",
              "    .dataframe tbody tr th {\n",
              "        vertical-align: top;\n",
              "    }\n",
              "\n",
              "    .dataframe thead th {\n",
              "        text-align: right;\n",
              "    }\n",
              "</style>\n",
              "<table border=\"1\" class=\"dataframe\">\n",
              "  <thead>\n",
              "    <tr style=\"text-align: right;\">\n",
              "      <th></th>\n",
              "      <th>PRECISION</th>\n",
              "      <th>PRECISION_RECALL_MIN_DEN</th>\n",
              "      <th>RECALL</th>\n",
              "      <th>MAP</th>\n",
              "      <th>MAP_MIN_DEN</th>\n",
              "      <th>MRR</th>\n",
              "      <th>NDCG</th>\n",
              "      <th>F1</th>\n",
              "      <th>HIT_RATE</th>\n",
              "      <th>ARHR_ALL_HITS</th>\n",
              "      <th>...</th>\n",
              "      <th>COVERAGE_USER</th>\n",
              "      <th>COVERAGE_USER_HIT</th>\n",
              "      <th>USERS_IN_GT</th>\n",
              "      <th>DIVERSITY_GINI</th>\n",
              "      <th>SHANNON_ENTROPY</th>\n",
              "      <th>RATIO_DIVERSITY_HERFINDAHL</th>\n",
              "      <th>RATIO_DIVERSITY_GINI</th>\n",
              "      <th>RATIO_SHANNON_ENTROPY</th>\n",
              "      <th>RATIO_AVERAGE_POPULARITY</th>\n",
              "      <th>RATIO_NOVELTY</th>\n",
              "    </tr>\n",
              "    <tr>\n",
              "      <th>cutoff</th>\n",
              "      <th></th>\n",
              "      <th></th>\n",
              "      <th></th>\n",
              "      <th></th>\n",
              "      <th></th>\n",
              "      <th></th>\n",
              "      <th></th>\n",
              "      <th></th>\n",
              "      <th></th>\n",
              "      <th></th>\n",
              "      <th></th>\n",
              "      <th></th>\n",
              "      <th></th>\n",
              "      <th></th>\n",
              "      <th></th>\n",
              "      <th></th>\n",
              "      <th></th>\n",
              "      <th></th>\n",
              "      <th></th>\n",
              "      <th></th>\n",
              "      <th></th>\n",
              "    </tr>\n",
              "  </thead>\n",
              "  <tbody>\n",
              "    <tr>\n",
              "      <th>10</th>\n",
              "      <td>0.092232</td>\n",
              "      <td>0.16196</td>\n",
              "      <td>0.137118</td>\n",
              "      <td>0.046416</td>\n",
              "      <td>0.081349</td>\n",
              "      <td>0.261286</td>\n",
              "      <td>0.146656</td>\n",
              "      <td>0.110283</td>\n",
              "      <td>0.513026</td>\n",
              "      <td>0.343711</td>\n",
              "      <td>...</td>\n",
              "      <td>0.829166</td>\n",
              "      <td>0.425384</td>\n",
              "      <td>0.829166</td>\n",
              "      <td>0.070819</td>\n",
              "      <td>10.133721</td>\n",
              "      <td>0.996471</td>\n",
              "      <td>0.203248</td>\n",
              "      <td>0.780664</td>\n",
              "      <td>2.013666</td>\n",
              "      <td>0.288264</td>\n",
              "    </tr>\n",
              "  </tbody>\n",
              "</table>\n",
              "<p>1 rows × 27 columns</p>\n",
              "</div>\n",
              "    <div class=\"colab-df-buttons\">\n",
              "\n",
              "  <div class=\"colab-df-container\">\n",
              "    <button class=\"colab-df-convert\" onclick=\"convertToInteractive('df-4e14610d-1682-4691-a768-03e2b370ed86')\"\n",
              "            title=\"Convert this dataframe to an interactive table.\"\n",
              "            style=\"display:none;\">\n",
              "\n",
              "  <svg xmlns=\"http://www.w3.org/2000/svg\" height=\"24px\" viewBox=\"0 -960 960 960\">\n",
              "    <path d=\"M120-120v-720h720v720H120Zm60-500h600v-160H180v160Zm220 220h160v-160H400v160Zm0 220h160v-160H400v160ZM180-400h160v-160H180v160Zm440 0h160v-160H620v160ZM180-180h160v-160H180v160Zm440 0h160v-160H620v160Z\"/>\n",
              "  </svg>\n",
              "    </button>\n",
              "\n",
              "  <style>\n",
              "    .colab-df-container {\n",
              "      display:flex;\n",
              "      gap: 12px;\n",
              "    }\n",
              "\n",
              "    .colab-df-convert {\n",
              "      background-color: #E8F0FE;\n",
              "      border: none;\n",
              "      border-radius: 50%;\n",
              "      cursor: pointer;\n",
              "      display: none;\n",
              "      fill: #1967D2;\n",
              "      height: 32px;\n",
              "      padding: 0 0 0 0;\n",
              "      width: 32px;\n",
              "    }\n",
              "\n",
              "    .colab-df-convert:hover {\n",
              "      background-color: #E2EBFA;\n",
              "      box-shadow: 0px 1px 2px rgba(60, 64, 67, 0.3), 0px 1px 3px 1px rgba(60, 64, 67, 0.15);\n",
              "      fill: #174EA6;\n",
              "    }\n",
              "\n",
              "    .colab-df-buttons div {\n",
              "      margin-bottom: 4px;\n",
              "    }\n",
              "\n",
              "    [theme=dark] .colab-df-convert {\n",
              "      background-color: #3B4455;\n",
              "      fill: #D2E3FC;\n",
              "    }\n",
              "\n",
              "    [theme=dark] .colab-df-convert:hover {\n",
              "      background-color: #434B5C;\n",
              "      box-shadow: 0px 1px 3px 1px rgba(0, 0, 0, 0.15);\n",
              "      filter: drop-shadow(0px 1px 2px rgba(0, 0, 0, 0.3));\n",
              "      fill: #FFFFFF;\n",
              "    }\n",
              "  </style>\n",
              "\n",
              "    <script>\n",
              "      const buttonEl =\n",
              "        document.querySelector('#df-4e14610d-1682-4691-a768-03e2b370ed86 button.colab-df-convert');\n",
              "      buttonEl.style.display =\n",
              "        google.colab.kernel.accessAllowed ? 'block' : 'none';\n",
              "\n",
              "      async function convertToInteractive(key) {\n",
              "        const element = document.querySelector('#df-4e14610d-1682-4691-a768-03e2b370ed86');\n",
              "        const dataTable =\n",
              "          await google.colab.kernel.invokeFunction('convertToInteractive',\n",
              "                                                    [key], {});\n",
              "        if (!dataTable) return;\n",
              "\n",
              "        const docLinkHtml = 'Like what you see? Visit the ' +\n",
              "          '<a target=\"_blank\" href=https://colab.research.google.com/notebooks/data_table.ipynb>data table notebook</a>'\n",
              "          + ' to learn more about interactive tables.';\n",
              "        element.innerHTML = '';\n",
              "        dataTable['output_type'] = 'display_data';\n",
              "        await google.colab.output.renderOutput(dataTable, element);\n",
              "        const docLink = document.createElement('div');\n",
              "        docLink.innerHTML = docLinkHtml;\n",
              "        element.appendChild(docLink);\n",
              "      }\n",
              "    </script>\n",
              "  </div>\n",
              "\n",
              "    </div>\n",
              "  </div>\n"
            ]
          },
          "metadata": {},
          "execution_count": 24
        }
      ],
      "source": [
        "from Recommenders.GraphBased.RP3betaRecommender import RP3betaRecommender\n",
        "\n",
        "rp = RP3betaRecommender(URM_fold_1 + URM_fold_4 + URM_fold_3 + URM_fold_5)\n",
        "rp.fit(topK = 95, alpha = 0.49, beta = 0.20)\n",
        "res, _ = evaluator_2.evaluateRecommender(rp)\n",
        "res"
      ]
    },
    {
      "cell_type": "code",
      "execution_count": 25,
      "metadata": {
        "colab": {
          "base_uri": "https://localhost:8080/"
        },
        "id": "Cclwzs-J5oth",
        "outputId": "4b10bde6-9f2e-467c-89da-f966591cd926"
      },
      "outputs": [
        {
          "output_type": "execute_result",
          "data": {
            "text/plain": [
              "0.046416165664663236"
            ]
          },
          "metadata": {},
          "execution_count": 25
        }
      ],
      "source": [
        "res.loc[10][\"MAP\"]"
      ]
    },
    {
      "cell_type": "code",
      "source": [
        "URM_temp_1 = URM_fold_1 + URM_fold_2 + URM_fold_3 + URM_fold_4\n",
        "URM_temp_2 = URM_fold_1 + URM_fold_2 + URM_fold_3 + URM_fold_5\n",
        "URM_temp_3 = URM_fold_1 + URM_fold_2 + URM_fold_4 + URM_fold_5\n",
        "URM_temp_4 = URM_fold_1 + URM_fold_3 + URM_fold_4 + URM_fold_5\n",
        "URM_temp_5 = URM_fold_2 + URM_fold_3 + URM_fold_4 + URM_fold_5\n",
        "\n",
        "URM_temp_1, URM_temp_2, URM_temp_3, URM_temp_4, URM_temp_5"
      ],
      "metadata": {
        "colab": {
          "base_uri": "https://localhost:8080/"
        },
        "id": "3EvT3mtelCr0",
        "outputId": "751689f7-5110-460e-9ce2-a86a5d1f8f9a"
      },
      "execution_count": 26,
      "outputs": [
        {
          "output_type": "execute_result",
          "data": {
            "text/plain": [
              "(<12638x22222 sparse matrix of type '<class 'numpy.float64'>'\n",
              " \twith 382984 stored elements in Compressed Sparse Row format>,\n",
              " <12638x22222 sparse matrix of type '<class 'numpy.float64'>'\n",
              " \twith 382984 stored elements in Compressed Sparse Row format>,\n",
              " <12638x22222 sparse matrix of type '<class 'numpy.float64'>'\n",
              " \twith 382984 stored elements in Compressed Sparse Row format>,\n",
              " <12638x22222 sparse matrix of type '<class 'numpy.float64'>'\n",
              " \twith 382984 stored elements in Compressed Sparse Row format>,\n",
              " <12638x22222 sparse matrix of type '<class 'numpy.float64'>'\n",
              " \twith 382984 stored elements in Compressed Sparse Row format>)"
            ]
          },
          "metadata": {},
          "execution_count": 26
        }
      ]
    },
    {
      "cell_type": "code",
      "execution_count": 27,
      "metadata": {
        "id": "hp_xxYxyHxnT"
      },
      "outputs": [],
      "source": [
        "import optuna\n",
        "import pandas as pd\n",
        "from Recommenders.GraphBased.RP3betaRecommender import RP3betaRecommender\n",
        "#\"alpha\": Real(0.1,0.2),    \"beta\" : Real(0.1,0.2),    \"topK\" : Integer(10,50)\n",
        "\n",
        "def objective_function(optuna_trial):\n",
        "\n",
        "\n",
        "\n",
        "    recommender_instance1 = SLIMElasticNetRecommender(URM_fold_1 + URM_fold_2 + URM_fold_3 + URM_fold_4)\n",
        "    recommender_instance1.fit(topK = optuna_trial.suggest_int(\"topK\", 200, 300),\n",
        "                             alpha = optuna_trial.suggest_float(\"alpha\", 0.001, 0.1),\n",
        "                             l1_ratio = optuna_trial.suggest_float(\"l1_ratio\", 1e-6, 1e-4)\n",
        "                            )\n",
        "    r1, _ = evaluator_5.evaluateRecommender(recommender_instance1)\n",
        "\n",
        "    print(r1.loc[10][\"MAP\"])\n",
        "\n",
        "\n",
        "    recommender_instance2 = SLIMElasticNetRecommender(URM_fold_1 + URM_fold_2 + URM_fold_3 + URM_fold_5)\n",
        "    recommender_instance2.fit(topK = optuna_trial.suggest_int(\"topK\", 200, 300),\n",
        "                             alpha = optuna_trial.suggest_float(\"alpha\", 0.001, 0.1),\n",
        "                             l1_ratio = optuna_trial.suggest_float(\"l1_ratio\", 1e-6, 1e-4)\n",
        "                            )\n",
        "    r2, _ = evaluator_4.evaluateRecommender(recommender_instance2)\n",
        "\n",
        "    print(r2.loc[10][\"MAP\"])\n",
        "\n",
        "\n",
        "    recommender_instance3 = SLIMElasticNetRecommender(URM_fold_1 + URM_fold_2 + URM_fold_4 + URM_fold_5)\n",
        "    recommender_instance3.fit(topK = optuna_trial.suggest_int(\"topK\", 200, 300),\n",
        "                             alpha = optuna_trial.suggest_float(\"alpha\", 0.001, 0.1),\n",
        "                             l1_ratio = optuna_trial.suggest_float(\"l1_ratio\", 1e-6, 1e-4)\n",
        "                            )\n",
        "    r3, _ = evaluator_3.evaluateRecommender(recommender_instance3)\n",
        "\n",
        "    print(r3.loc[10][\"MAP\"])\n",
        "\n",
        "\n",
        "    recommender_instance4 = SLIMElasticNetRecommender(URM_fold_1 + URM_fold_3 + URM_fold_4 + URM_fold_5)\n",
        "    recommender_instance4.fit(topK = optuna_trial.suggest_int(\"topK\", 200, 300),\n",
        "                             alpha = optuna_trial.suggest_float(\"alpha\", 0.001, 0.1),\n",
        "                             l1_ratio = optuna_trial.suggest_float(\"l1_ratio\", 1e-6, 1e-4)\n",
        "                            )\n",
        "    r4, _ = evaluator_2.evaluateRecommender(recommender_instance4)\n",
        "\n",
        "    print(r4.loc[10][\"MAP\"])\n",
        "\n",
        "    recommender_instance5 = SLIMElasticNetRecommender(URM_fold_2 + URM_fold_3 + URM_fold_4 + URM_fold_5)\n",
        "    recommender_instance5.fit(topK = optuna_trial.suggest_int(\"topK\", 200, 300),\n",
        "                             alpha = optuna_trial.suggest_float(\"alpha\", 0.001, 0.1),\n",
        "                             l1_ratio = optuna_trial.suggest_float(\"l1_ratio\", 1e-6, 1e-4)\n",
        "                            )\n",
        "    r5, _ = evaluator_1.evaluateRecommender(recommender_instance5)\n",
        "\n",
        "    print(r5.loc[10][\"MAP\"])\n",
        "\n",
        "    res = (r1.loc[10][\"MAP\"] + r2.loc[10][\"MAP\"] + r3.loc[10][\"MAP\"] + r4.loc[10][\"MAP\"] + r5.loc[10][\"MAP\"])/5\n",
        "\n",
        "    return res"
      ]
    },
    {
      "cell_type": "code",
      "execution_count": 28,
      "metadata": {
        "id": "0gcK6FYHJA99"
      },
      "outputs": [],
      "source": [
        "class SaveResults(object):\n",
        "\n",
        "    def __init__(self):\n",
        "        self.results_df = pd.DataFrame(columns = [\"result\"])\n",
        "\n",
        "    def __call__(self, optuna_study, optuna_trial):\n",
        "        hyperparam_dict = optuna_trial.params.copy()\n",
        "        hyperparam_dict[\"result\"] = optuna_trial.values[0]\n",
        "\n",
        "        self.results_df = self.results_df.append(hyperparam_dict, ignore_index=True)"
      ]
    },
    {
      "cell_type": "code",
      "execution_count": null,
      "metadata": {
        "colab": {
          "base_uri": "https://localhost:8080/"
        },
        "id": "i_3tAEHdJDsf",
        "outputId": "7f3aa723-9c27-4a0e-d964-ed08848ed031"
      },
      "outputs": [
        {
          "output_type": "stream",
          "name": "stderr",
          "text": [
            "[I 2023-12-24 17:41:04,987] A new study created in memory with name: no-name-fa4abad4-71e4-4133-bd0a-05fadab04ebc\n"
          ]
        },
        {
          "output_type": "stream",
          "name": "stdout",
          "text": [
            "SLIMElasticNetRecommender: URM Detected 200 ( 1.6%) users with no interactions.\n",
            "SLIMElasticNetRecommender: URM Detected 117 ( 0.5%) items with no interactions.\n"
          ]
        }
      ],
      "source": [
        "optuna_study = optuna.create_study(direction=\"maximize\")\n",
        "\n",
        "save_results = SaveResults()\n",
        "\n",
        "optuna_study.optimize(objective_function,\n",
        "                      callbacks=[save_results],\n",
        "                      n_trials = 100)"
      ]
    },
    {
      "cell_type": "code",
      "execution_count": null,
      "metadata": {
        "id": "GnYKHYt_JXrR"
      },
      "outputs": [],
      "source": [
        "pruned_trials = [t for t in optuna_study.trials if t.state == optuna.trial.TrialState.PRUNED]\n",
        "complete_trials = [t for t in optuna_study.trials if t.state == optuna.trial.TrialState.COMPLETE]\n",
        "\n",
        "print(\"Study statistics: \")\n",
        "print(\"  Number of finished trials: \", len(optuna_study.trials))\n",
        "print(\"  Number of pruned trials: \", len(pruned_trials))\n",
        "print(\"  Number of complete trials: \", len(complete_trials))\n",
        "\n",
        "print(\"Best trial:\")\n",
        "print(\"  Value Validation: \", optuna_study.best_trial.value)"
      ]
    },
    {
      "cell_type": "code",
      "execution_count": null,
      "metadata": {
        "id": "csVh25o-Jh6n"
      },
      "outputs": [],
      "source": [
        "optuna_study.best_trial"
      ]
    },
    {
      "cell_type": "code",
      "execution_count": null,
      "metadata": {
        "id": "f-Tia32cJjla"
      },
      "outputs": [],
      "source": [
        "optuna_study.best_trial.params"
      ]
    },
    {
      "cell_type": "code",
      "execution_count": null,
      "metadata": {
        "id": "0h467HKXJlTJ"
      },
      "outputs": [],
      "source": [
        "save_results.results_df"
      ]
    },
    {
      "cell_type": "code",
      "execution_count": null,
      "metadata": {
        "id": "gov-BdVTJosA"
      },
      "outputs": [],
      "source": [
        "recommender_instance = RP3betaRecommender(URM_train + URM_validation)\n",
        "recommender_instance.fit(**optuna_study.best_trial.params)\n",
        "\n",
        "result_df, _ = evaluator_test.evaluateRecommender(recommender_instance)\n",
        "result_df"
      ]
    },
    {
      "cell_type": "markdown",
      "metadata": {
        "id": "wkZqN4KUy5fI"
      },
      "source": [
        "#Let's submit"
      ]
    },
    {
      "cell_type": "code",
      "execution_count": 5,
      "metadata": {
        "colab": {
          "base_uri": "https://localhost:8080/"
        },
        "id": "XdtsF6-Jy47r",
        "outputId": "6736a230-8b6f-44e5-87b4-fbb3b4470d8f"
      },
      "outputs": [
        {
          "output_type": "stream",
          "name": "stdout",
          "text": [
            "RP3betaRecommender: Similarity column 22222 (100.0%), 3861.08 column/sec. Elapsed time 5.76 sec\n"
          ]
        }
      ],
      "source": [
        "#{'alpha': 0.4212426697582987, 'beta': 0.2400809967920454, 'topK': 65, 'implicit': False, 'normalize_similarity': True} val:2.97% test:3.7% submit: 12.368%\n",
        "\n",
        "#{'alpha': 0.1799686385529828, 'beta': 0.12976889396960958, 'topK': 33, 'implicit': False, 'normalize_similarity': True} val:2.99% test:3.752% submit:12.956%\n",
        "\n",
        "#{'alpha': 0.3, 'beta': 0.1776976699523311, 'topK': 31, 'implicit': True, 'normalize_similarity': True} val:3.044% test: 3.758% submit:12.946%\n",
        "\n",
        "#{'alpha': 0.1746971072522342, 'beta': 0.15708290766128252, 'topK': 38, 'implicit': False, 'normalize_similarity': True} val3.007%: test:3.779%\n",
        "\n",
        "#{'alpha': 0.2, 'beta': 0.1, 'topK': 50} val:3.018% test:3.782%\n",
        "\n",
        "#{'alpha': 0.16867631478622236, 'beta': 0.1033407840075039, 'topK': 32} val:2.989% test:3.806% submit:12.896% con nuovo topPop\n",
        "\n",
        "#OPTUNA\n",
        "\n",
        "#{'topK': 33, 'alpha': 0.403715416892729, 'beta': 0.11470570616457175} val:3.046% test(dopo ritrain su train e val): 4.832%\n",
        "\n",
        "#{'topK': 31, 'alpha': 0.40358163730763214, 'beta': 0.14844292552666044} val:3.114% test(train+val):4.827%\n",
        "\n",
        "#SENZA TEST, CON TRAINING USANDO TRAIN_VAL E VALIDATION USANDO TEST\n",
        "\n",
        "#CV: {'topK': 29, 'alpha': 0.31583032356728813, 'beta': 0.1936831182299878} val: 4.9014%\n",
        "\n",
        "\n",
        "\n",
        "from Recommenders.GraphBased.RP3betaRecommender import RP3betaRecommender\n",
        "\n",
        "recommender = RP3betaRecommender(URM_all)\n",
        "recommender.fit(alpha = 0.31583032356728813, beta=0.1936831182299878, topK=29, implicit = False, normalize_similarity = True )"
      ]
    },
    {
      "cell_type": "code",
      "execution_count": 8,
      "metadata": {
        "colab": {
          "base_uri": "https://localhost:8080/"
        },
        "id": "PlJi16R8FJdj",
        "outputId": "3b569ba0-f72a-4110-b933-634750d6f791",
        "scrolled": true
      },
      "outputs": [
        {
          "output_type": "execute_result",
          "data": {
            "text/plain": [
              "10882"
            ]
          },
          "metadata": {},
          "execution_count": 8
        }
      ],
      "source": [
        "users_to_recommend_raw = pd.read_csv(filepath_or_buffer=\"/gdrive/My Drive/libs/data_target_users_test.csv\",\n",
        "                   sep=\",\",\n",
        "                  dtype={\"user_id\": np.int32}).to_numpy()\n",
        "users_to_recommend = []\n",
        "for elem in users_to_recommend_raw:\n",
        "  users_to_recommend.append(elem[0])\n",
        "\n",
        "len(users_to_recommend)"
      ]
    },
    {
      "cell_type": "code",
      "execution_count": 9,
      "metadata": {
        "colab": {
          "base_uri": "https://localhost:8080/"
        },
        "id": "qBohtnuMX75J",
        "outputId": "a3070edb-2978-46ef-ff8d-bdf4dbdfa489"
      },
      "outputs": [
        {
          "output_type": "execute_result",
          "data": {
            "text/plain": [
              "(478730, 3)"
            ]
          },
          "metadata": {},
          "execution_count": 9
        }
      ],
      "source": [
        "ratings = pd.read_csv(\"/gdrive/My Drive/libs/data_train2.csv\",\n",
        "                       sep=\",\",\n",
        "                       names=[\"user_id\", \"item_id\", \"ratings\"],\n",
        "                       header=None,\n",
        "                       dtype={\"user_id\": np.int64,\n",
        "                               \"item_id\": np.int64,\n",
        "                               \"ratings\": np.int64})\n",
        "ratings.shape"
      ]
    },
    {
      "cell_type": "code",
      "execution_count": 10,
      "metadata": {
        "id": "7gxKp7l94O2_"
      },
      "outputs": [],
      "source": [
        "def preprocess_data(ratings: pd.DataFrame):\n",
        "    unique_users = ratings.user_id.unique()\n",
        "    unique_items = ratings.item_id.unique()\n",
        "\n",
        "    num_users, min_user_id, max_user_id = unique_users.size, unique_users.min(), unique_users.max()\n",
        "    num_items, min_item_id, max_item_id = unique_items.size, unique_items.min(), unique_items.max()\n",
        "\n",
        "    print(num_users, min_user_id, max_user_id)\n",
        "    print(num_items, min_item_id, max_item_id)\n",
        "\n",
        "    mapping_user_id = pd.DataFrame({\"mapped_user_id\": np.arange(num_users), \"user_id\": unique_users})\n",
        "    mapping_item_id = pd.DataFrame({\"mapped_item_id\": np.arange(num_items), \"item_id\": unique_items})\n",
        "\n",
        "    ratings = pd.merge(left=ratings,\n",
        "                       right=mapping_user_id,\n",
        "                       how=\"inner\",\n",
        "                       on=\"user_id\")\n",
        "\n",
        "    ratings = pd.merge(left=ratings,\n",
        "                       right=mapping_item_id,\n",
        "                       how=\"inner\",\n",
        "                       on=\"item_id\")\n",
        "\n",
        "    return ratings\n"
      ]
    },
    {
      "cell_type": "code",
      "execution_count": 11,
      "metadata": {
        "colab": {
          "base_uri": "https://localhost:8080/"
        },
        "id": "i7aBsFwFYWq6",
        "outputId": "d415edba-64cb-4d99-b12b-3ada66414fe2"
      },
      "outputs": [
        {
          "output_type": "stream",
          "name": "stdout",
          "text": [
            "12638 1 13024\n",
            "22222 1 22347\n"
          ]
        }
      ],
      "source": [
        "ratings = preprocess_data(ratings)"
      ]
    },
    {
      "cell_type": "code",
      "execution_count": 12,
      "metadata": {
        "colab": {
          "base_uri": "https://localhost:8080/",
          "height": 423
        },
        "id": "7NhomrBUFJdk",
        "outputId": "227406d0-9c78-40d5-de30-ea5348222953"
      },
      "outputs": [
        {
          "output_type": "execute_result",
          "data": {
            "text/plain": [
              "        user_id  mapped_user_id\n",
              "0             1               0\n",
              "1             2               1\n",
              "2            26              24\n",
              "3            36              34\n",
              "4            41              39\n",
              "...         ...             ...\n",
              "469974     9966            9677\n",
              "470088    11525           11196\n",
              "471697    11994           11649\n",
              "476929    10065            9773\n",
              "478118     8646            8401\n",
              "\n",
              "[10661 rows x 2 columns]"
            ],
            "text/html": [
              "\n",
              "  <div id=\"df-e5582741-b9c5-4ebe-a38a-b39eaabd15c8\" class=\"colab-df-container\">\n",
              "    <div>\n",
              "<style scoped>\n",
              "    .dataframe tbody tr th:only-of-type {\n",
              "        vertical-align: middle;\n",
              "    }\n",
              "\n",
              "    .dataframe tbody tr th {\n",
              "        vertical-align: top;\n",
              "    }\n",
              "\n",
              "    .dataframe thead th {\n",
              "        text-align: right;\n",
              "    }\n",
              "</style>\n",
              "<table border=\"1\" class=\"dataframe\">\n",
              "  <thead>\n",
              "    <tr style=\"text-align: right;\">\n",
              "      <th></th>\n",
              "      <th>user_id</th>\n",
              "      <th>mapped_user_id</th>\n",
              "    </tr>\n",
              "  </thead>\n",
              "  <tbody>\n",
              "    <tr>\n",
              "      <th>0</th>\n",
              "      <td>1</td>\n",
              "      <td>0</td>\n",
              "    </tr>\n",
              "    <tr>\n",
              "      <th>1</th>\n",
              "      <td>2</td>\n",
              "      <td>1</td>\n",
              "    </tr>\n",
              "    <tr>\n",
              "      <th>2</th>\n",
              "      <td>26</td>\n",
              "      <td>24</td>\n",
              "    </tr>\n",
              "    <tr>\n",
              "      <th>3</th>\n",
              "      <td>36</td>\n",
              "      <td>34</td>\n",
              "    </tr>\n",
              "    <tr>\n",
              "      <th>4</th>\n",
              "      <td>41</td>\n",
              "      <td>39</td>\n",
              "    </tr>\n",
              "    <tr>\n",
              "      <th>...</th>\n",
              "      <td>...</td>\n",
              "      <td>...</td>\n",
              "    </tr>\n",
              "    <tr>\n",
              "      <th>469974</th>\n",
              "      <td>9966</td>\n",
              "      <td>9677</td>\n",
              "    </tr>\n",
              "    <tr>\n",
              "      <th>470088</th>\n",
              "      <td>11525</td>\n",
              "      <td>11196</td>\n",
              "    </tr>\n",
              "    <tr>\n",
              "      <th>471697</th>\n",
              "      <td>11994</td>\n",
              "      <td>11649</td>\n",
              "    </tr>\n",
              "    <tr>\n",
              "      <th>476929</th>\n",
              "      <td>10065</td>\n",
              "      <td>9773</td>\n",
              "    </tr>\n",
              "    <tr>\n",
              "      <th>478118</th>\n",
              "      <td>8646</td>\n",
              "      <td>8401</td>\n",
              "    </tr>\n",
              "  </tbody>\n",
              "</table>\n",
              "<p>10661 rows × 2 columns</p>\n",
              "</div>\n",
              "    <div class=\"colab-df-buttons\">\n",
              "\n",
              "  <div class=\"colab-df-container\">\n",
              "    <button class=\"colab-df-convert\" onclick=\"convertToInteractive('df-e5582741-b9c5-4ebe-a38a-b39eaabd15c8')\"\n",
              "            title=\"Convert this dataframe to an interactive table.\"\n",
              "            style=\"display:none;\">\n",
              "\n",
              "  <svg xmlns=\"http://www.w3.org/2000/svg\" height=\"24px\" viewBox=\"0 -960 960 960\">\n",
              "    <path d=\"M120-120v-720h720v720H120Zm60-500h600v-160H180v160Zm220 220h160v-160H400v160Zm0 220h160v-160H400v160ZM180-400h160v-160H180v160Zm440 0h160v-160H620v160ZM180-180h160v-160H180v160Zm440 0h160v-160H620v160Z\"/>\n",
              "  </svg>\n",
              "    </button>\n",
              "\n",
              "  <style>\n",
              "    .colab-df-container {\n",
              "      display:flex;\n",
              "      gap: 12px;\n",
              "    }\n",
              "\n",
              "    .colab-df-convert {\n",
              "      background-color: #E8F0FE;\n",
              "      border: none;\n",
              "      border-radius: 50%;\n",
              "      cursor: pointer;\n",
              "      display: none;\n",
              "      fill: #1967D2;\n",
              "      height: 32px;\n",
              "      padding: 0 0 0 0;\n",
              "      width: 32px;\n",
              "    }\n",
              "\n",
              "    .colab-df-convert:hover {\n",
              "      background-color: #E2EBFA;\n",
              "      box-shadow: 0px 1px 2px rgba(60, 64, 67, 0.3), 0px 1px 3px 1px rgba(60, 64, 67, 0.15);\n",
              "      fill: #174EA6;\n",
              "    }\n",
              "\n",
              "    .colab-df-buttons div {\n",
              "      margin-bottom: 4px;\n",
              "    }\n",
              "\n",
              "    [theme=dark] .colab-df-convert {\n",
              "      background-color: #3B4455;\n",
              "      fill: #D2E3FC;\n",
              "    }\n",
              "\n",
              "    [theme=dark] .colab-df-convert:hover {\n",
              "      background-color: #434B5C;\n",
              "      box-shadow: 0px 1px 3px 1px rgba(0, 0, 0, 0.15);\n",
              "      filter: drop-shadow(0px 1px 2px rgba(0, 0, 0, 0.3));\n",
              "      fill: #FFFFFF;\n",
              "    }\n",
              "  </style>\n",
              "\n",
              "    <script>\n",
              "      const buttonEl =\n",
              "        document.querySelector('#df-e5582741-b9c5-4ebe-a38a-b39eaabd15c8 button.colab-df-convert');\n",
              "      buttonEl.style.display =\n",
              "        google.colab.kernel.accessAllowed ? 'block' : 'none';\n",
              "\n",
              "      async function convertToInteractive(key) {\n",
              "        const element = document.querySelector('#df-e5582741-b9c5-4ebe-a38a-b39eaabd15c8');\n",
              "        const dataTable =\n",
              "          await google.colab.kernel.invokeFunction('convertToInteractive',\n",
              "                                                    [key], {});\n",
              "        if (!dataTable) return;\n",
              "\n",
              "        const docLinkHtml = 'Like what you see? Visit the ' +\n",
              "          '<a target=\"_blank\" href=https://colab.research.google.com/notebooks/data_table.ipynb>data table notebook</a>'\n",
              "          + ' to learn more about interactive tables.';\n",
              "        element.innerHTML = '';\n",
              "        dataTable['output_type'] = 'display_data';\n",
              "        await google.colab.output.renderOutput(dataTable, element);\n",
              "        const docLink = document.createElement('div');\n",
              "        docLink.innerHTML = docLinkHtml;\n",
              "        element.appendChild(docLink);\n",
              "      }\n",
              "    </script>\n",
              "  </div>\n",
              "\n",
              "\n",
              "<div id=\"df-16e852aa-bfb4-4017-b8f8-2104955914fb\">\n",
              "  <button class=\"colab-df-quickchart\" onclick=\"quickchart('df-16e852aa-bfb4-4017-b8f8-2104955914fb')\"\n",
              "            title=\"Suggest charts\"\n",
              "            style=\"display:none;\">\n",
              "\n",
              "<svg xmlns=\"http://www.w3.org/2000/svg\" height=\"24px\"viewBox=\"0 0 24 24\"\n",
              "     width=\"24px\">\n",
              "    <g>\n",
              "        <path d=\"M19 3H5c-1.1 0-2 .9-2 2v14c0 1.1.9 2 2 2h14c1.1 0 2-.9 2-2V5c0-1.1-.9-2-2-2zM9 17H7v-7h2v7zm4 0h-2V7h2v10zm4 0h-2v-4h2v4z\"/>\n",
              "    </g>\n",
              "</svg>\n",
              "  </button>\n",
              "\n",
              "<style>\n",
              "  .colab-df-quickchart {\n",
              "      --bg-color: #E8F0FE;\n",
              "      --fill-color: #1967D2;\n",
              "      --hover-bg-color: #E2EBFA;\n",
              "      --hover-fill-color: #174EA6;\n",
              "      --disabled-fill-color: #AAA;\n",
              "      --disabled-bg-color: #DDD;\n",
              "  }\n",
              "\n",
              "  [theme=dark] .colab-df-quickchart {\n",
              "      --bg-color: #3B4455;\n",
              "      --fill-color: #D2E3FC;\n",
              "      --hover-bg-color: #434B5C;\n",
              "      --hover-fill-color: #FFFFFF;\n",
              "      --disabled-bg-color: #3B4455;\n",
              "      --disabled-fill-color: #666;\n",
              "  }\n",
              "\n",
              "  .colab-df-quickchart {\n",
              "    background-color: var(--bg-color);\n",
              "    border: none;\n",
              "    border-radius: 50%;\n",
              "    cursor: pointer;\n",
              "    display: none;\n",
              "    fill: var(--fill-color);\n",
              "    height: 32px;\n",
              "    padding: 0;\n",
              "    width: 32px;\n",
              "  }\n",
              "\n",
              "  .colab-df-quickchart:hover {\n",
              "    background-color: var(--hover-bg-color);\n",
              "    box-shadow: 0 1px 2px rgba(60, 64, 67, 0.3), 0 1px 3px 1px rgba(60, 64, 67, 0.15);\n",
              "    fill: var(--button-hover-fill-color);\n",
              "  }\n",
              "\n",
              "  .colab-df-quickchart-complete:disabled,\n",
              "  .colab-df-quickchart-complete:disabled:hover {\n",
              "    background-color: var(--disabled-bg-color);\n",
              "    fill: var(--disabled-fill-color);\n",
              "    box-shadow: none;\n",
              "  }\n",
              "\n",
              "  .colab-df-spinner {\n",
              "    border: 2px solid var(--fill-color);\n",
              "    border-color: transparent;\n",
              "    border-bottom-color: var(--fill-color);\n",
              "    animation:\n",
              "      spin 1s steps(1) infinite;\n",
              "  }\n",
              "\n",
              "  @keyframes spin {\n",
              "    0% {\n",
              "      border-color: transparent;\n",
              "      border-bottom-color: var(--fill-color);\n",
              "      border-left-color: var(--fill-color);\n",
              "    }\n",
              "    20% {\n",
              "      border-color: transparent;\n",
              "      border-left-color: var(--fill-color);\n",
              "      border-top-color: var(--fill-color);\n",
              "    }\n",
              "    30% {\n",
              "      border-color: transparent;\n",
              "      border-left-color: var(--fill-color);\n",
              "      border-top-color: var(--fill-color);\n",
              "      border-right-color: var(--fill-color);\n",
              "    }\n",
              "    40% {\n",
              "      border-color: transparent;\n",
              "      border-right-color: var(--fill-color);\n",
              "      border-top-color: var(--fill-color);\n",
              "    }\n",
              "    60% {\n",
              "      border-color: transparent;\n",
              "      border-right-color: var(--fill-color);\n",
              "    }\n",
              "    80% {\n",
              "      border-color: transparent;\n",
              "      border-right-color: var(--fill-color);\n",
              "      border-bottom-color: var(--fill-color);\n",
              "    }\n",
              "    90% {\n",
              "      border-color: transparent;\n",
              "      border-bottom-color: var(--fill-color);\n",
              "    }\n",
              "  }\n",
              "</style>\n",
              "\n",
              "  <script>\n",
              "    async function quickchart(key) {\n",
              "      const quickchartButtonEl =\n",
              "        document.querySelector('#' + key + ' button');\n",
              "      quickchartButtonEl.disabled = true;  // To prevent multiple clicks.\n",
              "      quickchartButtonEl.classList.add('colab-df-spinner');\n",
              "      try {\n",
              "        const charts = await google.colab.kernel.invokeFunction(\n",
              "            'suggestCharts', [key], {});\n",
              "      } catch (error) {\n",
              "        console.error('Error during call to suggestCharts:', error);\n",
              "      }\n",
              "      quickchartButtonEl.classList.remove('colab-df-spinner');\n",
              "      quickchartButtonEl.classList.add('colab-df-quickchart-complete');\n",
              "    }\n",
              "    (() => {\n",
              "      let quickchartButtonEl =\n",
              "        document.querySelector('#df-16e852aa-bfb4-4017-b8f8-2104955914fb button');\n",
              "      quickchartButtonEl.style.display =\n",
              "        google.colab.kernel.accessAllowed ? 'block' : 'none';\n",
              "    })();\n",
              "  </script>\n",
              "</div>\n",
              "    </div>\n",
              "  </div>\n"
            ]
          },
          "metadata": {},
          "execution_count": 12
        }
      ],
      "source": [
        "users_ids_and_mappings = ratings[ratings.user_id.isin(users_to_recommend)][[\"user_id\", \"mapped_user_id\"]].drop_duplicates()\n",
        "items_ids_and_mappings = ratings[[\"item_id\", \"mapped_item_id\"]].drop_duplicates()\n",
        "users_ids_and_mappings"
      ]
    },
    {
      "cell_type": "code",
      "execution_count": 13,
      "metadata": {
        "id": "e4nw5jXk0gQ2"
      },
      "outputs": [],
      "source": [
        "def prepare_submission(ratings: pd.DataFrame, users_to_recommend: np.array, urm_train: sps.csr_matrix):\n",
        "    users_ids_and_mappings = ratings[ratings.user_id.isin(users_to_recommend)][[\"user_id\", \"mapped_user_id\"]].drop_duplicates()\n",
        "    items_ids_and_mappings = ratings[[\"item_id\", \"mapped_item_id\"]].drop_duplicates()\n",
        "\n",
        "    mapping_to_item_id = dict(zip(ratings.mapped_item_id, ratings.item_id))\n",
        "\n",
        "\n",
        "    recommendation_length = 10\n",
        "    submission = []\n",
        "    for idx, row in users_ids_and_mappings.iterrows():\n",
        "        user_id = row.user_id\n",
        "        mapped_user_id = row.mapped_user_id\n",
        "        recommendations = recommender.recommend(mapped_user_id,recommendation_length)\n",
        "        submission.append((user_id, [mapping_to_item_id[item_id] for item_id in recommendations]))\n",
        "\n",
        "    users_recommended = [elem[0] for elem in submission]\n",
        "\n",
        "    missing_users = []\n",
        "\n",
        "    top10 = [2, 4, 1, 7, 3, 6, 8, 9, 15, 20]  #con remove seen = False\n",
        "    for elem in users_to_recommend:\n",
        "      if elem not in users_recommended:\n",
        "        missing_users.append(elem)\n",
        "\n",
        "    for i in range(len(missing_users)):\n",
        "      missing_users[i] = (missing_users[i], [mapping_to_item_id[top10[elem]] for elem in range(10)])\n",
        "\n",
        "    return submission, missing_users"
      ]
    },
    {
      "cell_type": "code",
      "execution_count": 14,
      "metadata": {
        "colab": {
          "base_uri": "https://localhost:8080/"
        },
        "id": "BMKrl9xe0kYE",
        "outputId": "6a052bb8-1e7a-4024-cb9a-aefcee139a36"
      },
      "outputs": [
        {
          "output_type": "execute_result",
          "data": {
            "text/plain": [
              "(10661, 221)"
            ]
          },
          "metadata": {},
          "execution_count": 14
        }
      ],
      "source": [
        "URM_train = URM_all.tocsr()\n",
        "submission, missing_users = prepare_submission(ratings, users_to_recommend, URM_all)\n",
        "len(submission), len(missing_users)\n"
      ]
    },
    {
      "cell_type": "code",
      "execution_count": 15,
      "metadata": {
        "colab": {
          "base_uri": "https://localhost:8080/"
        },
        "id": "Yuh9Lv77bvZD",
        "outputId": "a6404d8e-8b8d-4b91-ce2d-ebd812d1442e"
      },
      "outputs": [
        {
          "output_type": "execute_result",
          "data": {
            "text/plain": [
              "10882"
            ]
          },
          "metadata": {},
          "execution_count": 15
        }
      ],
      "source": [
        "submission = submission + missing_users\n",
        "len(submission)"
      ]
    },
    {
      "cell_type": "code",
      "execution_count": 16,
      "metadata": {
        "id": "0usgGqw-hovW"
      },
      "outputs": [],
      "source": [
        "submission.sort()"
      ]
    },
    {
      "cell_type": "code",
      "execution_count": 17,
      "metadata": {
        "id": "u2PzTxSkFJdn"
      },
      "outputs": [],
      "source": [
        "def write_submission(submissions):\n",
        "    with open(\"./RP3Beta_CV.csv\", \"w\") as f:\n",
        "        for user_id, items in submissions:\n",
        "          f.write(f\"{user_id},{' '.join(str(item) for item in items)}\\n\")\n",
        "\n"
      ]
    },
    {
      "cell_type": "code",
      "execution_count": 18,
      "metadata": {
        "id": "IKor4geCMMal"
      },
      "outputs": [],
      "source": [
        "write_submission(submission)"
      ]
    },
    {
      "cell_type": "code",
      "source": [],
      "metadata": {
        "id": "Phf-gaBHsVUX"
      },
      "execution_count": null,
      "outputs": []
    }
  ],
  "metadata": {
    "colab": {
      "provenance": []
    },
    "kernelspec": {
      "display_name": "Python 3",
      "name": "python3"
    },
    "language_info": {
      "name": "python"
    }
  },
  "nbformat": 4,
  "nbformat_minor": 0
}